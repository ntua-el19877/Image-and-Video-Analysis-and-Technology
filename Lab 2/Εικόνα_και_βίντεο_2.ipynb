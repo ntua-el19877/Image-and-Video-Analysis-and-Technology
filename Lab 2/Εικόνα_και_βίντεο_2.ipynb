{
  "nbformat": 4,
  "nbformat_minor": 0,
  "metadata": {
    "colab": {
      "provenance": [],
      "collapsed_sections": [
        "n7mpiBsPkQZ-",
        "vEenqIVrkaq1"
      ],
      "gpuType": "T4"
    },
    "kernelspec": {
      "name": "python3",
      "display_name": "Python 3"
    },
    "language_info": {
      "name": "python"
    },
    "gpuClass": "standard",
    "accelerator": "GPU"
  },
  "cells": [
    {
      "cell_type": "markdown",
      "source": [
        "#**2η ομαδική εργασία στη Τεχνολογία και Ανάλυση Εικόνων και Βίντεο**\n",
        "\n",
        "Αγγελος Λουκας 03119877\n",
        "\n",
        "Αλεξανδρος Μαντζαφινης 03118057\n",
        "\n",
        "ομάδα 31"
      ],
      "metadata": {
        "id": "ynBTWsEFHFXI"
      }
    },
    {
      "cell_type": "markdown",
      "source": [
        "##1. Θεωρητικό μέρος\n"
      ],
      "metadata": {
        "id": "4tbpxp2GHVH-"
      }
    },
    {
      "cell_type": "markdown",
      "source": [
        "#### β.1\n"
      ],
      "metadata": {
        "id": "n7mpiBsPkQZ-"
      }
    },
    {
      "cell_type": "markdown",
      "source": [
        "<table>\n",
        "  <tr>\n",
        "    <th>Δίκτυο</th>\n",
        "    <th>Επίπεδα</th>\n",
        "    <th>Μέγεθος εικόνας εισόδου</th>\n",
        "    <th>Μέγεθος φίλτρων</th>\n",
        "    <th>Συνάρτηση ενεργοποίησης</th>\n",
        "    <th>Πλήθος παραμέτρων</th>\n",
        "    <th>Pooling</th>\n",
        "    <th>Dropout</th>\n",
        "  </tr>\n",
        "  <tr>\n",
        "    <td>LeNet</td>\n",
        "    <td>2xConv 2xPool 3xFC </td>\n",
        "    <td>28x28x1</td>\n",
        "    <td>Conv 5x5x6 (pad=2) <br> AvgPool 2x2 (str=2) <br> Conv 5x5x16 (pad=2)<br> AvgPool 2x2 (str=2) <br> FC (120) <br> FC (84) <br> FC (10) </td>\n",
        "    <td>Sigmoid</td>\n",
        "    <td>61,706</td>\n",
        "    <td>✓</td>\n",
        "    <td>✕</td>\n",
        "  </tr>\n",
        "  <tr>\n",
        "    <td>AlexNet</td>\n",
        "    <td>5xConv 3xPool 3xFC </td>\n",
        "    <td>224x224x3</td>\n",
        "    <td>Conv 11x11x96 (str=4) <br> MaxPool 3x3 (str=2) <br> Conv 5x5x256 (pad=2)<br> MaxPool 3x3 (str=2) <br> Conv 3x3x384 (pad=1)<br> Conv 3x3x384 (pad=1)<br> Conv 3x3x256 (pad=1)<br> MaxPool 3x3 (str=2) <br> FC (4096) <br> FC (4096) <br> FC (1000) </td>\n",
        "    <td>Relu</td>\n",
        "    <td>50,844,008</td>\n",
        "    <td>✓</td>\n",
        "    <td>✓</td>\n",
        "  </tr>\n",
        "  <tr>\n",
        "    <td>VGG</td>\n",
        "    <td>8xConv 5xPool 3xFC </td>\n",
        "    <td>224x224x1</td>\n",
        "    <td>Conv 3x3x64 (pad=1) <br> MaxPool 2x2 (str=2) <br> Conv 3x3x128 (pad=1) <br> MaxPool 2x2 (str=2) <br> Conv 3x3x256 (pad=1) <br> Conv 3x3x256 (pad=1) <br> MaxPool 2x2 (str=2) <br> Conv 3x3x512 (pad=1) <br> Conv 3x3x512 (pad=1) <br> MaxPool 2x2 (str=2) <br> Conv 3x3x512 (pad=1) <br> Conv 3x3x512 (pad=1) <br> MaxPool 2x2 (str=2) <br> FC (4096) <br> FC (4096) <br> FC (10) </td>\n",
        "    <td>Relu</td>\n",
        "    <td>128,884,052</td>\n",
        "    <td>✓</td>\n",
        "    <td>✓</td>\n",
        "  </tr>\n",
        "</table>\n"
      ],
      "metadata": {
        "id": "p4fKZK91htuI"
      }
    },
    {
      "cell_type": "markdown",
      "source": [
        "#### β.2"
      ],
      "metadata": {
        "id": "vEenqIVrkaq1"
      }
    },
    {
      "cell_type": "markdown",
      "source": [
        "\n",
        "\n",
        "LeNet:\n",
        "*   Consists of fully linked layers on top of seven layers, including convolutional and pooling layers.\n",
        "*   Mostly utilized for digit recognition in handwriting.\n",
        "*   Depth and capacity limitations.\n",
        "\n",
        "AlexNet:\n",
        "*   Consists of eight layers, including convolutional, pooling, and fully connected layers.\n",
        "*   Uses ReLU activation functions.\n",
        "*   Uses a deeper architecture than LeNet and greater filter sizes.\n",
        "\n",
        "VGG:\n",
        "*   Features a 16 or 19 weight layer architecture that is extremely consistent.\n",
        "*   Repeatedly uses small 3x3 convolutional filters, resulting in deeper networks.\n",
        "*   It is well known for its simplicity and uncomplicated layout.\n",
        "*   Its depth necessitates a vast number of factors.\n",
        "*   Uses ReLU activation functions.\n",
        "\n",
        "\n",
        "AlexNet and VGG use relu as an activation function which provides a significant increase in classification accuracy. They also use max pooling as opposed to the average pooling used by LeNet. At the same time it is shown that the classification accuracy increases with increasing levels which also increases the number of parameters. It makes sense to now use networks with a larger number of parameters since the computational power has increased greatly compared to when LeNet was first implemented. \n",
        "\n",
        "VGG can capture more intricate characteristics and patterns in images because to its deeper design and usage of smaller 3x3 convolutional filters. This depth comes at the expense of more complicated computations and the requirement for more parameters compared to LeNet and AlexNet. \n",
        "\n",
        "LeNet, AlexNet, and VGG have all made substantial contributions to the field of image analysis, although their architectures vary in complexity, depth, and performance. In particular, AlexNet and VGG made significant contributions to the discipline and provided inspiration for later deep CNN systems."
      ],
      "metadata": {
        "id": "P2IQlLpokcly"
      }
    },
    {
      "cell_type": "markdown",
      "metadata": {
        "id": "DfEMjsB4Yurm"
      },
      "source": [
        "## 2. Εργαστηριακό Μέρος"
      ]
    },
    {
      "cell_type": "markdown",
      "source": [
        "#### Εισαγωγή και επισκόπηση του συνόλου δεδομένων "
      ],
      "metadata": {
        "id": "AaQoMMfRrWdj"
      }
    },
    {
      "cell_type": "code",
      "metadata": {
        "id": "STXQMBuN3nZ6"
      },
      "source": [
        "from __future__ import absolute_import, division, print_function, unicode_literals # legacy compatibility\n",
        "import numpy as np\n",
        "import tensorflow as tf   \n",
        "from tensorflow.keras import datasets, layers, models\n",
        "import matplotlib.pyplot as plt\n",
        "import pandas as pd\n",
        "import matplotlib.pyplot as plt"
      ],
      "execution_count": null,
      "outputs": []
    },
    {
      "cell_type": "code",
      "metadata": {
        "id": "2WSEGPI9Q7tW"
      },
      "source": [
        "# helper functions\n",
        "\n",
        "# select from from_list elements with index in index_list\n",
        "def select_from_list(from_list, index_list):\n",
        "  filtered_list= [from_list[i] for i in index_list]\n",
        "  return(filtered_list)\n",
        "\n",
        "# append in filtered_list the index of each element of unfilterd_list if it exists in in target_list\n",
        "def get_ds_index(unfiliterd_list, target_list):\n",
        "  index = 0\n",
        "  filtered_list=[]\n",
        "  for i_ in unfiliterd_list:\n",
        "    if i_[0] in target_list:\n",
        "      filtered_list.append(index)\n",
        "    index += 1\n",
        "  return(filtered_list)\n"
      ],
      "execution_count": null,
      "outputs": []
    },
    {
      "cell_type": "code",
      "metadata": {
        "id": "OCW71UaGzz0Q"
      },
      "source": [
        "# load the entire dataset\n",
        "import tensorflow as tf\n",
        "from tensorflow.keras import datasets, layers, models\n",
        "\n",
        "(x_train_all, y_train_all), (x_test_all, y_test_all) = tf.keras.datasets.cifar100.load_data(label_mode='fine')"
      ],
      "execution_count": null,
      "outputs": []
    },
    {
      "cell_type": "code",
      "metadata": {
        "id": "kGKYHffEE1do",
        "colab": {
          "base_uri": "https://localhost:8080/"
        },
        "outputId": "696563e3-fa9b-4e05-81b6-0464cb0e409b"
      },
      "source": [
        "print(x_train_all.shape)"
      ],
      "execution_count": null,
      "outputs": [
        {
          "output_type": "stream",
          "name": "stdout",
          "text": [
            "(50000, 32, 32, 3)\n"
          ]
        }
      ]
    },
    {
      "cell_type": "markdown",
      "metadata": {
        "id": "9PO9wIwYUf0R"
      },
      "source": [
        "Η κάθε ομάδα θα δουλέψει με διαφορετικό υποσύνολο του dataset.\n",
        "Στο επόμενο κελί, αντικαταστήστε την τιμή της μεταβλητής `team_seed` με τον αριθμό που αντιστοιχεί στην ομάδας σας. "
      ]
    },
    {
      "cell_type": "code",
      "metadata": {
        "id": "NN0kEze7uZ_G"
      },
      "source": [
        "# REPLACE WITH YOUR TEAM NUMBER\n",
        "team_seed = 31"
      ],
      "execution_count": null,
      "outputs": []
    },
    {
      "cell_type": "code",
      "metadata": {
        "id": "RhbZJW6PxUDJ"
      },
      "source": [
        "# select from CIFAR100 20 classes\n",
        "cifar100_classes_url = \"https://pastebin.com/raw/nzE1n98V\""
      ],
      "execution_count": null,
      "outputs": []
    },
    {
      "cell_type": "markdown",
      "metadata": {
        "id": "yO9f6wb0Wi0H"
      },
      "source": [
        "Δημιουργούμε το μοναδικό dataset της ομάδας μας:"
      ]
    },
    {
      "cell_type": "code",
      "metadata": {
        "id": "PgIN2h_KuCp_"
      },
      "source": [
        "team_classes = pd.read_csv(cifar100_classes_url, sep=',', header=None)\n",
        "CIFAR100_LABELS_LIST = pd.read_csv('https://pastebin.com/raw/qgDaNggt', sep=',', header=None).astype(str).values.tolist()[0]\n",
        "\n",
        "our_index = team_classes.iloc[team_seed,:].values.tolist()\n",
        "our_classes = select_from_list(CIFAR100_LABELS_LIST, our_index)\n",
        "train_index = get_ds_index(y_train_all, our_index)\n",
        "test_index = get_ds_index(y_test_all, our_index)\n",
        "\n",
        "x_train_ds = np.asarray(select_from_list(x_train_all, train_index))\n",
        "y_train_ds = np.asarray(select_from_list(y_train_all, train_index))\n",
        "x_test_ds = np.asarray(select_from_list(x_test_all, test_index))\n",
        "y_test_ds = np.asarray(select_from_list(y_test_all, test_index))"
      ],
      "execution_count": null,
      "outputs": []
    },
    {
      "cell_type": "code",
      "metadata": {
        "id": "_B4-tvVOQq3j",
        "colab": {
          "base_uri": "https://localhost:8080/"
        },
        "outputId": "1aea2d6a-c2b7-41c7-9888-b11566ad9637"
      },
      "source": [
        "# print our classes\n",
        "print(our_classes)"
      ],
      "execution_count": null,
      "outputs": [
        {
          "output_type": "stream",
          "name": "stdout",
          "text": [
            "[' baby', ' bed', ' bridge', ' caterpillar', ' couch', ' leopard', ' lion', ' maple_tree', ' motorcycle', ' orange', ' pear', ' plain', ' plate', ' possum', ' rabbit', ' shark', ' skyscraper', ' television', ' tiger', ' wolf']\n"
          ]
        }
      ]
    },
    {
      "cell_type": "code",
      "metadata": {
        "id": "bk5wy0u7GGMj",
        "colab": {
          "base_uri": "https://localhost:8080/"
        },
        "outputId": "853bb183-96ed-4863-a503-3e1280b91794"
      },
      "source": [
        "print(x_train_ds[1].shape)"
      ],
      "execution_count": null,
      "outputs": [
        {
          "output_type": "stream",
          "name": "stdout",
          "text": [
            "(32, 32, 3)\n"
          ]
        }
      ]
    },
    {
      "cell_type": "code",
      "metadata": {
        "id": "QpGXgTs_5ZCk",
        "colab": {
          "base_uri": "https://localhost:8080/"
        },
        "outputId": "6b397dff-81e0-44dc-e669-b6f8d9bc8019"
      },
      "source": [
        "# get (train) dataset dimensions\n",
        "data_size, img_rows, img_cols, img_channels = x_train_ds.shape\n",
        "\n",
        "# set validation set percentage (wrt the training set size)\n",
        "validation_percentage = 0.15\n",
        "val_size = round(validation_percentage * data_size)\n",
        "\n",
        "# Reserve val_size samples for validation and normalize all values\n",
        "x_val = x_train_ds[-val_size:]/255\n",
        "y_val = y_train_ds[-val_size:]\n",
        "x_train = x_train_ds[:-val_size]/255\n",
        "y_train = y_train_ds[:-val_size]\n",
        "x_test = x_test_ds/255\n",
        "y_test = y_test_ds\n",
        "\n",
        "# summarize loaded dataset\n",
        "print('Train: X=%s, y=%s' % (x_train.shape, y_train.shape))\n",
        "print('Validation: X=%s, y=%s' % (x_val.shape, y_val.shape))\n",
        "print('Test: X=%s, y=%s' % (x_test.shape, y_test.shape))\n",
        "\n",
        "# get class label from class index\n",
        "def class_label_from_index(fine_category):\n",
        "  return(CIFAR100_LABELS_LIST[fine_category.item(0)])\n",
        "\n",
        "# plot first few images\n",
        "plt.figure(figsize=(6, 6))\n",
        "for i in range(9):\n",
        "\t# define subplot\n",
        "  plt.subplot(330 + 1 + i).set_title(class_label_from_index(y_train[i]))\n",
        "\t# plot raw pixel data\n",
        "  plt.imshow(x_train[i], cmap=plt.get_cmap('gray'))\n",
        "  #show the figure\n",
        "plt.show()"
      ],
      "execution_count": null,
      "outputs": [
        {
          "output_type": "stream",
          "name": "stdout",
          "text": [
            "Train: X=(8500, 32, 32, 3), y=(8500, 1)\n",
            "Validation: X=(1500, 32, 32, 3), y=(1500, 1)\n",
            "Test: X=(2000, 32, 32, 3), y=(2000, 1)\n"
          ]
        },
        {
          "output_type": "display_data",
          "data": {
            "text/plain": [
              "<Figure size 600x600 with 9 Axes>"
            ],
            "image/png": "[encoded data removed]"
          },
          "metadata": {}
        }
      ]
    },
    {
      "cell_type": "markdown",
      "metadata": {
        "id": "iAgowxR8oJH7"
      },
      "source": [
        "#### Ερώτημα 1\n",
        "---\n",
        "#### Βήμα 1: Σχεδίαση, μεταγλώττιση και εκπαίδευση των μοντέλων\n",
        "\n",
        " 1. Σχεδίαστε, μεταγλωττίστε και εκπαιδεύστε τα μοντέλα  **LeNet, AlexNet και  VGG**, καθώς και ένα δικό σας μοντέλο (ονομάστε το π.χ. **MyCNN**) χρησιμοποιώντας διαφορετικούς συνδυασμούς (τουλάχιστον 2 ανά μοντέλο) για [optimizer](https://keras.io/api/optimizers/), [loss](https://keras.io/api/losses/), batch size και epoch.  Για [metrics](https://keras.io/api/metrics/) να χρησιμοποιήσετε την ορθότητα - accuracy (όπως στο Lab5).\n",
        "---\n",
        "  \n",
        "#### Βήμα 2: Αξιολόγηση των μοντέλων\n",
        "\n",
        "1. Για κάθε ένα από τα μοντέλα που εκπαιδεύσατε, απεικονίστε σε κοινό διάγραμμα την ορθότητα εκπαίδευσης και την ορθότητα επικύρωσης στο σύνολο των εποχών, για κάθε διαφορετικό συνδυασμό του βήματος 1 και επιλέξτε αυτό με την καλύτερη ορθότητα από κάθε μοντέλο (ένα από κάθε αρχιτεκτονική, συνολικά 4).\n",
        "2. Για κάθε ένα από τα μοντέλα με την καλύτερη ορθότητα (συνολικά **4**), απεικονίστε σε κοινό διάγραμμα την ορθότητα εκπαίδευσης και την ορθότητα επικύρωσης στο σύνολο των εποχών.\n",
        "3. Αξιολογήστε, αναλυτικά, τα αποτελέσματά σας ως προς τα εξής:\n",
        " - Επίδραση του πλήθους των δεδομένων/κλάσεων στην απόδοση του μοντέλου\n",
        " - Επίδραση του αλγόριθμου βελτιστοποίησης (optimizer)\n",
        " - Επίδραση του μεγέθους δέσμης (batch size)\n",
        " \n",
        "---\n",
        "\n",
        "#### Βήμα 3: Αξιολόγηση ορθότητας\n",
        "Αξιολογήστε την ορθότητα για το test set σας.\n"
      ]
    },
    {
      "cell_type": "markdown",
      "metadata": {
        "id": "v8rhgSGOV5pm"
      },
      "source": [
        "\n",
        "#### Ερώτημα 2\n",
        "---\n",
        "### Βήμα 1: Έλεγχος υπερεκπαίδευσης\n",
        "\n",
        "Για τον καλύτερο συνδυασμό που λάβατε από το Ερώτημα 1 για μοντέλο σας  (**MyCNN**) και μόνο, δοκιμάστε διάφορους συνδυασμούς των ακόλουθων τεχνικών για τον έλεγχο της υπερεκπαίδευσης (overfitting), όπως: \n",
        "\n",
        "- Dropout ([Dropout](https://www.tensorflow.org/tutorials/images/classification#dropout))\n",
        "\n",
        "- Επαύξηση δεδομένων ([Data augmentation](https://www.tensorflow.org/tutorials/images/classification#data_augmentation), [ImageDataGenerator](https://www.tensorflow.org/api_docs/python/tf/keras/preprocessing/image/ImageDataGenerator#class_imagedatagenerator)) \n",
        "\n",
        "\\\\\n",
        ", ώστε το μοντέλο σας να γενικεύει καλύτερα.\n",
        "\n",
        "---\n",
        "### Βήμα 2: Αξιολόγηση\n",
        "Αξιολογήστε της ορθότητας για το validation και το test set σας."
      ]
    },
    {
      "cell_type": "markdown",
      "metadata": {
        "id": "jTxKRNEHWfGs"
      },
      "source": [
        "#### Ερώτημα 3\n",
        "---\n",
        "### Βήμα 1: Μεταφορά γνώσης\n",
        "Εφαρμόστε μεταφορά γνώσης (transfer learning) στο δικό σας μοντέλο (**MyCNN**), που αξιολογήσατε ως καλύτερο προς την ορθότητα στην αντιμετώπιση της υπερεκπαίδεσης. \n",
        "\n",
        "Για το transfer learning, επιλέξτε το [VGG19](https://www.tensorflow.org/api_docs/python/tf/keras/applications/vgg19)  και το [EfficientNetB0](https://www.tensorflow.org/api_docs/python/tf/keras/applications/efficientnet/EfficientNetB0) για μεταφορά μάθησης.\n",
        "\n",
        "1. \"Παγώστε\" τη συνελικτική βάση και εκπαιδεύστε την κεφαλή ταξινόμησης (classification head - σημαία trainable = False).  \n",
        "\n",
        "2. Εκπαιδέστε μόνο ένα ποσοστό των επιπέδων, το οποίο βρίσκεται προς την έξοδο του δικτύου. Οι σημαίες trainable εδώ θα πρέπει να οριστούν ανά επίπεδο.\n",
        "\n",
        "3. Αξιολογήστε τα αποτελέσματά σας, βάσει της ορθότητας του validation set και του test set σας."
      ]
    },
    {
      "cell_type": "markdown",
      "metadata": {
        "id": "M_T6Y9EJDuOu"
      },
      "source": [
        "#### Διαχείριση μνήμης (TFRecord)\n",
        "Η φόρτωση δεδομένων με τον τρόπο που το κάναμε παραπάνω στο απλό παράδειγμα υλοποίησης είναι πολύ βολική αλλά δεν είναι αποτελεσματική ως προς τη διαχείριση της μνήμης. Συγκεκριμένα, με τον τρόπο αυτό, τα δεδομένα αποθηκεύονται απευθείας σε μεταβλητές, οι οποίες όλες μαζί καταλαμβάνουν τη RAM της CPU ή της GPU, κάτι που κάνει αδύνατη τη διαχείριση μεγάλων datasets ή τον μεταχηματισμό των δεδομένων όπως όταν κάνουμε αύξηση δεδομένων (data augmentation).\n",
        "\n",
        "Για να παρακαμφθεί αυτό το πρόβλημα, υπάρχει η δυνατότητα της σειριοποίησης των δεδομένων (serialization) και της αποθήκευσής τους σε αρχεία μεσαίου μεγέθους (κάποιων MB) τα οποία μπορούν να αναγνωστούν γραμμικά.\n",
        "\n",
        "Το φορμάτ TFRecord είναι ένα φορμάτ που επιτρέπει την αποθήκευση σειράς δυαδικών εγγραφών. Διαβάστε σχετικά για το [TFRecord and tf.Example](https://www.tensorflow.org/tutorials/load_data/tfrecord) και [tf.data: Build TensorFlow input pipelines](https://www.tensorflow.org/guide/data). \n",
        "\n",
        "Σημειώστε ότι με τη μέθοδο αυτή θα πρέπει να γίνει import η `tensorflow_datasets` και να χρησιμοποιήσουμε την `tfds.load` ώστε να αποθηκευθεί το σύνολο δεδομένων σε αρχεία tfrecord στο δίσκο (δείτε [εδώ](https://colab.research.google.com/github/tensorflow/datasets/blob/master/docs/overview.ipynb) ένα παράδειγμα). Φυσικά μπορούμε να μετατρέψουμε και τα πρωτογενή δεδομένα (raw data) του dataset όπως αρχεία jpg σε φορματ tfrecord όπως [εδώ](https://towardsdatascience.com/working-with-tfrecords-and-tf-train-example-36d111b3ff4d).\n"
      ]
    },
    {
      "cell_type": "markdown",
      "source": [
        "#### **Ερώτημα 1**"
      ],
      "metadata": {
        "id": "0ChJacTsrNF5"
      }
    },
    {
      "cell_type": "markdown",
      "source": [
        "###### Βήμα 1:"
      ],
      "metadata": {
        "id": "0ecTohcQrvO2"
      }
    },
    {
      "cell_type": "code",
      "source": [
        "# Increase the values of the labels in the range 0-19 instead of 0-99 to \n",
        "# we have a smaller number of outputs of the last dense layer.\n",
        "values = np.unique(y_val)\n",
        "values = np.sort(values)\n",
        "\n",
        "y_val_to20 = np.zeros(len(y_val), dtype=int)\n",
        "for i in range (y_val.shape[0]):\n",
        "  y_val_to20[i] =  np.where(values == y_val[i])[0][0]\n",
        "\n",
        "y_train_to20 = np.zeros(len(y_train), dtype=int)\n",
        "for i in range (y_train.shape[0]):\n",
        "  y_train_to20[i] =  np.where(values == y_train[i])[0][0]\n",
        "\n",
        "y_test_to20 = np.zeros(len(y_test), dtype=int)\n",
        "for i in range (y_test.shape[0]):\n",
        "  y_test_to20[i] =  np.where(values == y_test[i])[0][0]"
      ],
      "metadata": {
        "id": "31YKEuysrKx-"
      },
      "execution_count": null,
      "outputs": []
    },
    {
      "cell_type": "code",
      "source": [
        "# LeNet: Custom LeNet model for 32x32x3 images and 20 categories\n",
        "def LeNet():\n",
        "  model = models.Sequential()\n",
        "  model.add(layers.Conv2D(filters=6, kernel_size=5, activation='sigmoid', padding='same', input_shape=(32, 32, 3)))  \n",
        "  model.add(layers.AvgPool2D(pool_size=2, strides=2))\n",
        "  model.add(layers.Conv2D(filters=16, kernel_size=5, activation='sigmoid')) \n",
        "  model.add(layers.AvgPool2D(pool_size=2, strides=2))\n",
        "  model.add(layers.Flatten())\n",
        "  model.add(layers.Dense(120, activation='sigmoid'))\n",
        "  model.add(layers.Dense(84, activation='sigmoid'))\n",
        "  model.add(layers.Dense(20))\n",
        "  return model"
      ],
      "metadata": {
        "id": "Dz4PgCfXs4WL"
      },
      "execution_count": null,
      "outputs": []
    },
    {
      "cell_type": "code",
      "source": [
        "def AlexNet():\n",
        "  model = models.Sequential()\n",
        "  model.add(layers.Conv2D(filters=96, kernel_size=3, strides=2, activation='relu', input_shape=(32, 32, 3)))  \n",
        "  model.add(layers.MaxPool2D(pool_size=3, strides=2))\n",
        "  model.add(layers.Conv2D(filters=256, kernel_size=5, padding='same', activation='relu'))\n",
        "  model.add(layers.MaxPool2D(pool_size=3, strides=2))\n",
        "  model.add(layers.Conv2D(filters=384, kernel_size=3, padding='same', activation='relu'))\n",
        "  model.add(layers.Conv2D(filters=384, kernel_size=3, padding='same', activation='relu'))\n",
        "  model.add(layers.Conv2D(filters=256, kernel_size=3, padding='same', activation='relu'))\n",
        "  model.add(layers.MaxPool2D(pool_size=3, strides=2))\n",
        "  model.add(layers.Flatten())\n",
        "  model.add(layers.Dense(4096, activation='relu'))\n",
        "  model.add(layers.Dropout(0.5))\n",
        "  model.add(layers.Dense(4096, activation='relu'))\n",
        "  model.add(layers.Dropout(0.5))\n",
        "  model.add(layers.Dense(20))\n",
        "  return model"
      ],
      "metadata": {
        "id": "vV2xiCeptith"
      },
      "execution_count": null,
      "outputs": []
    },
    {
      "cell_type": "code",
      "source": [
        "# Some customizations were made so that images with 32x32x3 dimensions are used as input. For this\n",
        "# reason a smaller number of vggs blocks(less layers) were used so that its output dimensions are not \n",
        "# dramatically decreased.\n",
        "def VGG_block(num_convs, num_channels):\n",
        "  block = models.Sequential()\n",
        "  for _ in range(num_convs):\n",
        "    block.add(layers.Conv2D(num_channels, kernel_size=3, padding='same', activation='relu'))\n",
        "  block.add(layers.MaxPool2D(pool_size=2, strides=2))\n",
        "  return block\n",
        "\n",
        "# Custom VGG model for 32x32x3 images and 20 categories\n",
        "def VGG(conv_arch):\n",
        "  model = models.Sequential()\n",
        "  model.add(layers.Conv2D(conv_arch[0][1], kernel_size=3, padding='same', activation='relu', input_shape=(32, 32, 3)))\n",
        "  # The convulational part\n",
        "  for (num_convs, num_channels) in conv_arch:\n",
        "      model.add(VGG_block(num_convs, num_channels))\n",
        "  # The fully-connected part\n",
        "  model.add(layers.Flatten())\n",
        "  model.add(layers.Dense(4096, activation='relu'))\n",
        "  model.add(layers.Dropout(0.5))\n",
        "  model.add(layers.Dense(4096, activation='relu'))\n",
        "  model.add(layers.Dropout(0.5))\n",
        "  model.add(layers.Dense(20))\n",
        "  return model"
      ],
      "metadata": {
        "id": "FLb_i5sEtlLT"
      },
      "execution_count": null,
      "outputs": []
    },
    {
      "cell_type": "code",
      "source": [
        "# the specific data could achieve better performance with fewer convolution and fc layers. So the final \n",
        "# result has less training time. This is probably due to the fact that the above networks are designed\n",
        "# for larger images than those used in this case.\n",
        "def MyCNN():\n",
        "  model = models.Sequential()\n",
        "  model.add(layers.Conv2D(filters=128, kernel_size=3, padding='same', activation='relu', input_shape=(32, 32, 3)))\n",
        "  model.add(layers.MaxPool2D(pool_size=2, strides=2))\n",
        "  model.add(layers.Conv2D(filters=256, kernel_size=3, padding='same', activation='relu'))  \n",
        "  model.add(layers.MaxPool2D(pool_size=2, strides=2)) \n",
        "  model.add(layers.Conv2D(filters=512, kernel_size=3, padding='same', activation='relu')) \n",
        "  model.add(layers.MaxPool2D(pool_size=2, strides=2))\n",
        "  model.add(layers.Flatten())\n",
        "  model.add(layers.Dense(2048, activation='relu'))\n",
        "  model.add(layers.Dropout(0.5))\n",
        "  model.add(layers.Dense(20))\n",
        "  return model"
      ],
      "metadata": {
        "id": "w-S27CRttsGf"
      },
      "execution_count": null,
      "outputs": []
    },
    {
      "cell_type": "code",
      "source": [
        "X1 = tf.random.uniform((1, 32, 32, 3))\n",
        "X2 = tf.random.uniform((1, 32, 32, 3))\n",
        "X3 = tf.random.uniform((1, 32, 32, 3))\n",
        "X4 = tf.random.uniform((1, 32, 32, 3))\n",
        "conv_arch = ((1, 64), (1, 128), (2, 256))\n",
        "print(\"                                       LeNet           AlexNet          VGG            MyCNN\")\n",
        "for i1,layer in enumerate(LeNet().layers):\n",
        "    X1 = LeNet().layers[i1](X1)\n",
        "    X2=AlexNet().layers[i1](X2)\n",
        "    X3=VGG(conv_arch).layers[i1](X3)\n",
        "    X4=MyCNN().layers[i1](X4)\n",
        "    print(f\"{layer.__class__.__name__:20} output shape: {X1.shape},{X2.shape},{X3.shape},{X4.shape}\")\n"
      ],
      "metadata": {
        "colab": {
          "base_uri": "https://localhost:8080/"
        },
        "id": "zlfwlGI3s6V5",
        "outputId": "11054687-b2ce-4720-f108-dac8b07fe6c1"
      },
      "execution_count": null,
      "outputs": [
        {
          "output_type": "stream",
          "name": "stdout",
          "text": [
            "                                       LeNet           AlexNet          VGG            MyCNN\n",
            "Conv2D               output shape: (1, 32, 32, 6),(1, 15, 15, 96),(1, 32, 32, 64),(1, 32, 32, 128)\n",
            "AveragePooling2D     output shape: (1, 16, 16, 6),(1, 7, 7, 96),(1, 16, 16, 64),(1, 16, 16, 128)\n",
            "Conv2D               output shape: (1, 12, 12, 16),(1, 7, 7, 256),(1, 8, 8, 128),(1, 16, 16, 256)\n",
            "AveragePooling2D     output shape: (1, 6, 6, 16),(1, 3, 3, 256),(1, 4, 4, 256),(1, 8, 8, 256)\n",
            "Flatten              output shape: (1, 576),(1, 3, 3, 384),(1, 4096),(1, 8, 8, 512)\n",
            "Dense                output shape: (1, 120),(1, 3, 3, 384),(1, 4096),(1, 4, 4, 512)\n",
            "Dense                output shape: (1, 84),(1, 3, 3, 256),(1, 4096),(1, 8192)\n",
            "Dense                output shape: (1, 20),(1, 1, 1, 256),(1, 4096),(1, 2048)\n"
          ]
        }
      ]
    },
    {
      "cell_type": "code",
      "source": [
        "LeNet_model_1 = LeNet()\n",
        "LeNet_model_2 = LeNet()\n",
        "LeNet_model_1.summary()"
      ],
      "metadata": {
        "colab": {
          "base_uri": "https://localhost:8080/"
        },
        "id": "tI9EcO_jvx5c",
        "outputId": "5cc20821-a17d-41f8-e4b6-7e6d97072347"
      },
      "execution_count": null,
      "outputs": [
        {
          "output_type": "stream",
          "name": "stdout",
          "text": [
            "Model: \"sequential_57\"\n",
            "_________________________________________________________________\n",
            " Layer (type)                Output Shape              Param #   \n",
            "=================================================================\n",
            " conv2d_122 (Conv2D)         (None, 32, 32, 6)         456       \n",
            "                                                                 \n",
            " average_pooling2d_18 (Avera  (None, 16, 16, 6)        0         \n",
            " gePooling2D)                                                    \n",
            "                                                                 \n",
            " conv2d_123 (Conv2D)         (None, 12, 12, 16)        2416      \n",
            "                                                                 \n",
            " average_pooling2d_19 (Avera  (None, 6, 6, 16)         0         \n",
            " gePooling2D)                                                    \n",
            "                                                                 \n",
            " flatten_33 (Flatten)        (None, 576)               0         \n",
            "                                                                 \n",
            " dense_91 (Dense)            (None, 120)               69240     \n",
            "                                                                 \n",
            " dense_92 (Dense)            (None, 84)                10164     \n",
            "                                                                 \n",
            " dense_93 (Dense)            (None, 20)                1700      \n",
            "                                                                 \n",
            "=================================================================\n",
            "Total params: 83,976\n",
            "Trainable params: 83,976\n",
            "Non-trainable params: 0\n",
            "_________________________________________________________________\n"
          ]
        }
      ]
    },
    {
      "cell_type": "code",
      "source": [
        "AlexNet_model_1 = AlexNet()\n",
        "AlexNet_model_2 = AlexNet()\n",
        "AlexNet_model_1.summary()"
      ],
      "metadata": {
        "colab": {
          "base_uri": "https://localhost:8080/"
        },
        "id": "j7zjz17mxFld",
        "outputId": "8c302673-f988-4c9d-8d9f-58a54a309fc8"
      },
      "execution_count": null,
      "outputs": [
        {
          "output_type": "stream",
          "name": "stdout",
          "text": [
            "Model: \"sequential_59\"\n",
            "_________________________________________________________________\n",
            " Layer (type)                Output Shape              Param #   \n",
            "=================================================================\n",
            " conv2d_126 (Conv2D)         (None, 15, 15, 96)        2688      \n",
            "                                                                 \n",
            " max_pooling2d_72 (MaxPoolin  (None, 7, 7, 96)         0         \n",
            " g2D)                                                            \n",
            "                                                                 \n",
            " conv2d_127 (Conv2D)         (None, 7, 7, 256)         614656    \n",
            "                                                                 \n",
            " max_pooling2d_73 (MaxPoolin  (None, 3, 3, 256)        0         \n",
            " g2D)                                                            \n",
            "                                                                 \n",
            " conv2d_128 (Conv2D)         (None, 3, 3, 384)         885120    \n",
            "                                                                 \n",
            " conv2d_129 (Conv2D)         (None, 3, 3, 384)         1327488   \n",
            "                                                                 \n",
            " conv2d_130 (Conv2D)         (None, 3, 3, 256)         884992    \n",
            "                                                                 \n",
            " max_pooling2d_74 (MaxPoolin  (None, 1, 1, 256)        0         \n",
            " g2D)                                                            \n",
            "                                                                 \n",
            " flatten_35 (Flatten)        (None, 256)               0         \n",
            "                                                                 \n",
            " dense_97 (Dense)            (None, 4096)              1052672   \n",
            "                                                                 \n",
            " dropout_40 (Dropout)        (None, 4096)              0         \n",
            "                                                                 \n",
            " dense_98 (Dense)            (None, 4096)              16781312  \n",
            "                                                                 \n",
            " dropout_41 (Dropout)        (None, 4096)              0         \n",
            "                                                                 \n",
            " dense_99 (Dense)            (None, 20)                81940     \n",
            "                                                                 \n",
            "=================================================================\n",
            "Total params: 21,630,868\n",
            "Trainable params: 21,630,868\n",
            "Non-trainable params: 0\n",
            "_________________________________________________________________\n"
          ]
        }
      ]
    },
    {
      "cell_type": "code",
      "source": [
        "VGG_model_1 = VGG(conv_arch)\n",
        "VGG_model_2 = VGG(conv_arch)\n",
        "VGG_model_1.summary()"
      ],
      "metadata": {
        "colab": {
          "base_uri": "https://localhost:8080/"
        },
        "id": "p5qnAXgwxMcZ",
        "outputId": "f8010589-9ba5-4948-b005-2c478fdf29b9"
      },
      "execution_count": null,
      "outputs": [
        {
          "output_type": "stream",
          "name": "stdout",
          "text": [
            "Model: \"sequential_61\"\n",
            "_________________________________________________________________\n",
            " Layer (type)                Output Shape              Param #   \n",
            "=================================================================\n",
            " conv2d_136 (Conv2D)         (None, 32, 32, 64)        1792      \n",
            "                                                                 \n",
            " sequential_62 (Sequential)  (None, 16, 16, 64)        36928     \n",
            "                                                                 \n",
            " sequential_63 (Sequential)  (None, 8, 8, 128)         73856     \n",
            "                                                                 \n",
            " sequential_64 (Sequential)  (None, 4, 4, 256)         885248    \n",
            "                                                                 \n",
            " flatten_37 (Flatten)        (None, 4096)              0         \n",
            "                                                                 \n",
            " dense_103 (Dense)           (None, 4096)              16781312  \n",
            "                                                                 \n",
            " dropout_44 (Dropout)        (None, 4096)              0         \n",
            "                                                                 \n",
            " dense_104 (Dense)           (None, 4096)              16781312  \n",
            "                                                                 \n",
            " dropout_45 (Dropout)        (None, 4096)              0         \n",
            "                                                                 \n",
            " dense_105 (Dense)           (None, 20)                81940     \n",
            "                                                                 \n",
            "=================================================================\n",
            "Total params: 34,642,388\n",
            "Trainable params: 34,642,388\n",
            "Non-trainable params: 0\n",
            "_________________________________________________________________\n"
          ]
        }
      ]
    },
    {
      "cell_type": "code",
      "source": [
        "MyCNN_model_1 = MyCNN()\n",
        "MyCNN_model_2 = MyCNN()\n",
        "MyCNN_model_1.summary()"
      ],
      "metadata": {
        "colab": {
          "base_uri": "https://localhost:8080/"
        },
        "id": "AgoiaU2sxPjW",
        "outputId": "48b2d637-2cab-4227-90d5-437147ea040b"
      },
      "execution_count": null,
      "outputs": [
        {
          "output_type": "stream",
          "name": "stdout",
          "text": [
            "Model: \"sequential_69\"\n",
            "_________________________________________________________________\n",
            " Layer (type)                Output Shape              Param #   \n",
            "=================================================================\n",
            " conv2d_146 (Conv2D)         (None, 32, 32, 128)       3584      \n",
            "                                                                 \n",
            " max_pooling2d_84 (MaxPoolin  (None, 16, 16, 128)      0         \n",
            " g2D)                                                            \n",
            "                                                                 \n",
            " conv2d_147 (Conv2D)         (None, 16, 16, 256)       295168    \n",
            "                                                                 \n",
            " max_pooling2d_85 (MaxPoolin  (None, 8, 8, 256)        0         \n",
            " g2D)                                                            \n",
            "                                                                 \n",
            " conv2d_148 (Conv2D)         (None, 8, 8, 512)         1180160   \n",
            "                                                                 \n",
            " max_pooling2d_86 (MaxPoolin  (None, 4, 4, 512)        0         \n",
            " g2D)                                                            \n",
            "                                                                 \n",
            " flatten_39 (Flatten)        (None, 8192)              0         \n",
            "                                                                 \n",
            " dense_109 (Dense)           (None, 2048)              16779264  \n",
            "                                                                 \n",
            " dropout_48 (Dropout)        (None, 2048)              0         \n",
            "                                                                 \n",
            " dense_110 (Dense)           (None, 20)                40980     \n",
            "                                                                 \n",
            "=================================================================\n",
            "Total params: 18,299,156\n",
            "Trainable params: 18,299,156\n",
            "Non-trainable params: 0\n",
            "_________________________________________________________________\n"
          ]
        }
      ]
    },
    {
      "cell_type": "markdown",
      "source": [
        "LeNet implementation"
      ],
      "metadata": {
        "id": "J_fhiBmexwPi"
      }
    },
    {
      "cell_type": "code",
      "source": [
        "# First LeNet implementation with optimizer=\"RMSprop\", epochs=50, batch_size=10\n",
        "LeNet_model_1.compile(optimizer=\"RMSprop\",\n",
        "              loss=tf.keras.losses.SparseCategoricalCrossentropy(from_logits=True),\n",
        "              metrics=['accuracy'])\n",
        "\n",
        "LeNet_history_1 = LeNet_model_1.fit(x_train, y_train_to20, epochs=50, batch_size=10,\n",
        "                    validation_data=(x_val, y_val_to20))"
      ],
      "metadata": {
        "colab": {
          "base_uri": "https://localhost:8080/"
        },
        "id": "BlGfFHzqxTtK",
        "outputId": "c64ffec8-faa8-4c87-c5b4-ee8c33778507"
      },
      "execution_count": null,
      "outputs": [
        {
          "output_type": "stream",
          "name": "stdout",
          "text": [
            "Epoch 1/50\n",
            "850/850 [==============================] - 6s 5ms/step - loss: 2.9440 - accuracy: 0.0780 - val_loss: 2.7030 - val_accuracy: 0.1393\n",
            "Epoch 2/50\n",
            "850/850 [==============================] - 3s 4ms/step - loss: 2.6420 - accuracy: 0.1619 - val_loss: 2.5872 - val_accuracy: 0.1713\n",
            "Epoch 3/50\n",
            "850/850 [==============================] - 3s 4ms/step - loss: 2.4588 - accuracy: 0.2158 - val_loss: 2.3651 - val_accuracy: 0.2487\n",
            "Epoch 4/50\n",
            "850/850 [==============================] - 3s 4ms/step - loss: 2.3171 - accuracy: 0.2641 - val_loss: 2.2740 - val_accuracy: 0.2607\n",
            "Epoch 5/50\n",
            "850/850 [==============================] - 4s 4ms/step - loss: 2.2297 - accuracy: 0.2939 - val_loss: 2.1610 - val_accuracy: 0.3107\n",
            "Epoch 6/50\n",
            "850/850 [==============================] - 3s 4ms/step - loss: 2.1680 - accuracy: 0.3102 - val_loss: 2.2044 - val_accuracy: 0.2847\n",
            "Epoch 7/50\n",
            "850/850 [==============================] - 3s 4ms/step - loss: 2.1281 - accuracy: 0.3216 - val_loss: 2.0887 - val_accuracy: 0.3353\n",
            "Epoch 8/50\n",
            "850/850 [==============================] - 3s 4ms/step - loss: 2.0954 - accuracy: 0.3362 - val_loss: 2.1007 - val_accuracy: 0.3353\n",
            "Epoch 9/50\n",
            "850/850 [==============================] - 4s 4ms/step - loss: 2.0669 - accuracy: 0.3449 - val_loss: 2.0731 - val_accuracy: 0.3440\n",
            "Epoch 10/50\n",
            "850/850 [==============================] - 4s 5ms/step - loss: 2.0380 - accuracy: 0.3521 - val_loss: 2.0586 - val_accuracy: 0.3567\n",
            "Epoch 11/50\n",
            "850/850 [==============================] - 3s 4ms/step - loss: 2.0100 - accuracy: 0.3668 - val_loss: 2.0926 - val_accuracy: 0.3447\n",
            "Epoch 12/50\n",
            "850/850 [==============================] - 4s 4ms/step - loss: 1.9852 - accuracy: 0.3691 - val_loss: 2.0178 - val_accuracy: 0.3567\n",
            "Epoch 13/50\n",
            "850/850 [==============================] - 3s 4ms/step - loss: 1.9596 - accuracy: 0.3806 - val_loss: 2.0727 - val_accuracy: 0.3360\n",
            "Epoch 14/50\n",
            "850/850 [==============================] - 3s 4ms/step - loss: 1.9396 - accuracy: 0.3848 - val_loss: 1.9258 - val_accuracy: 0.3987\n",
            "Epoch 15/50\n",
            "850/850 [==============================] - 3s 4ms/step - loss: 1.9127 - accuracy: 0.3955 - val_loss: 1.9589 - val_accuracy: 0.3767\n",
            "Epoch 16/50\n",
            "850/850 [==============================] - 4s 4ms/step - loss: 1.8986 - accuracy: 0.3995 - val_loss: 1.9864 - val_accuracy: 0.3840\n",
            "Epoch 17/50\n",
            "850/850 [==============================] - 3s 4ms/step - loss: 1.8738 - accuracy: 0.4089 - val_loss: 1.9847 - val_accuracy: 0.3773\n",
            "Epoch 18/50\n",
            "850/850 [==============================] - 3s 4ms/step - loss: 1.8556 - accuracy: 0.4099 - val_loss: 1.9250 - val_accuracy: 0.3993\n",
            "Epoch 19/50\n",
            "850/850 [==============================] - 3s 4ms/step - loss: 1.8334 - accuracy: 0.4222 - val_loss: 1.9139 - val_accuracy: 0.3947\n",
            "Epoch 20/50\n",
            "850/850 [==============================] - 3s 4ms/step - loss: 1.8094 - accuracy: 0.4326 - val_loss: 1.8795 - val_accuracy: 0.3987\n",
            "Epoch 21/50\n",
            "850/850 [==============================] - 3s 4ms/step - loss: 1.7813 - accuracy: 0.4364 - val_loss: 1.8257 - val_accuracy: 0.4167\n",
            "Epoch 22/50\n",
            "850/850 [==============================] - 3s 4ms/step - loss: 1.7644 - accuracy: 0.4419 - val_loss: 1.8754 - val_accuracy: 0.4220\n",
            "Epoch 23/50\n",
            "850/850 [==============================] - 4s 4ms/step - loss: 1.7368 - accuracy: 0.4519 - val_loss: 1.8437 - val_accuracy: 0.4100\n",
            "Epoch 24/50\n",
            "850/850 [==============================] - 3s 4ms/step - loss: 1.7226 - accuracy: 0.4565 - val_loss: 1.8135 - val_accuracy: 0.4347\n",
            "Epoch 25/50\n",
            "850/850 [==============================] - 3s 4ms/step - loss: 1.7010 - accuracy: 0.4627 - val_loss: 1.8746 - val_accuracy: 0.4053\n",
            "Epoch 26/50\n",
            "850/850 [==============================] - 3s 4ms/step - loss: 1.6781 - accuracy: 0.4679 - val_loss: 1.8106 - val_accuracy: 0.4360\n",
            "Epoch 27/50\n",
            "850/850 [==============================] - 4s 4ms/step - loss: 1.6649 - accuracy: 0.4742 - val_loss: 1.7977 - val_accuracy: 0.4307\n",
            "Epoch 28/50\n",
            "850/850 [==============================] - 3s 4ms/step - loss: 1.6396 - accuracy: 0.4829 - val_loss: 1.7748 - val_accuracy: 0.4407\n",
            "Epoch 29/50\n",
            "850/850 [==============================] - 3s 4ms/step - loss: 1.6218 - accuracy: 0.4844 - val_loss: 1.7875 - val_accuracy: 0.4440\n",
            "Epoch 30/50\n",
            "850/850 [==============================] - 3s 4ms/step - loss: 1.6040 - accuracy: 0.4921 - val_loss: 1.7593 - val_accuracy: 0.4587\n",
            "Epoch 31/50\n",
            "850/850 [==============================] - 4s 4ms/step - loss: 1.5795 - accuracy: 0.4946 - val_loss: 1.7624 - val_accuracy: 0.4467\n",
            "Epoch 32/50\n",
            "850/850 [==============================] - 3s 4ms/step - loss: 1.5593 - accuracy: 0.5121 - val_loss: 1.8117 - val_accuracy: 0.4547\n",
            "Epoch 33/50\n",
            "850/850 [==============================] - 3s 4ms/step - loss: 1.5438 - accuracy: 0.5113 - val_loss: 1.7575 - val_accuracy: 0.4660\n",
            "Epoch 34/50\n",
            "850/850 [==============================] - 3s 4ms/step - loss: 1.5243 - accuracy: 0.5153 - val_loss: 1.7679 - val_accuracy: 0.4467\n",
            "Epoch 35/50\n",
            "850/850 [==============================] - 3s 4ms/step - loss: 1.4974 - accuracy: 0.5273 - val_loss: 1.7775 - val_accuracy: 0.4653\n",
            "Epoch 36/50\n",
            "850/850 [==============================] - 3s 4ms/step - loss: 1.4871 - accuracy: 0.5260 - val_loss: 1.7785 - val_accuracy: 0.4407\n",
            "Epoch 37/50\n",
            "850/850 [==============================] - 3s 4ms/step - loss: 1.4623 - accuracy: 0.5375 - val_loss: 1.7992 - val_accuracy: 0.4627\n",
            "Epoch 38/50\n",
            "850/850 [==============================] - 4s 4ms/step - loss: 1.4445 - accuracy: 0.5415 - val_loss: 1.7990 - val_accuracy: 0.4600\n",
            "Epoch 39/50\n",
            "850/850 [==============================] - 3s 4ms/step - loss: 1.4179 - accuracy: 0.5505 - val_loss: 1.7864 - val_accuracy: 0.4607\n",
            "Epoch 40/50\n",
            "850/850 [==============================] - 3s 4ms/step - loss: 1.4018 - accuracy: 0.5542 - val_loss: 1.7832 - val_accuracy: 0.4540\n",
            "Epoch 41/50\n",
            "850/850 [==============================] - 3s 4ms/step - loss: 1.3812 - accuracy: 0.5600 - val_loss: 1.8010 - val_accuracy: 0.4707\n",
            "Epoch 42/50\n",
            "850/850 [==============================] - 4s 4ms/step - loss: 1.3630 - accuracy: 0.5632 - val_loss: 1.8000 - val_accuracy: 0.4533\n",
            "Epoch 43/50\n",
            "850/850 [==============================] - 3s 4ms/step - loss: 1.3397 - accuracy: 0.5734 - val_loss: 1.8284 - val_accuracy: 0.4600\n",
            "Epoch 44/50\n",
            "850/850 [==============================] - 3s 4ms/step - loss: 1.3213 - accuracy: 0.5827 - val_loss: 1.7866 - val_accuracy: 0.4687\n",
            "Epoch 45/50\n",
            "850/850 [==============================] - 3s 4ms/step - loss: 1.3027 - accuracy: 0.5840 - val_loss: 1.8256 - val_accuracy: 0.4660\n",
            "Epoch 46/50\n",
            "850/850 [==============================] - 4s 4ms/step - loss: 1.2838 - accuracy: 0.5929 - val_loss: 1.7741 - val_accuracy: 0.4740\n",
            "Epoch 47/50\n",
            "850/850 [==============================] - 3s 4ms/step - loss: 1.2640 - accuracy: 0.5979 - val_loss: 1.8787 - val_accuracy: 0.4580\n",
            "Epoch 48/50\n",
            "850/850 [==============================] - 3s 4ms/step - loss: 1.2438 - accuracy: 0.6064 - val_loss: 1.8688 - val_accuracy: 0.4720\n",
            "Epoch 49/50\n",
            "850/850 [==============================] - 3s 4ms/step - loss: 1.2239 - accuracy: 0.6087 - val_loss: 1.8550 - val_accuracy: 0.4680\n",
            "Epoch 50/50\n",
            "850/850 [==============================] - 3s 4ms/step - loss: 1.2022 - accuracy: 0.6187 - val_loss: 1.8775 - val_accuracy: 0.4680\n"
          ]
        }
      ]
    },
    {
      "cell_type": "code",
      "source": [
        "# LeNet implementation with optimizer=\"Nadam\", epochs=50, batch_size=10\n",
        "LeNet_model_2.compile(optimizer=\"Nadam\",\n",
        "              loss=tf.keras.losses.SparseCategoricalCrossentropy(from_logits=True),\n",
        "              metrics=['accuracy'])\n",
        "\n",
        "LeNet_history_2 = LeNet_model_2.fit(x_train, y_train_to20, epochs=20, batch_size=128,\n",
        "                    validation_data=(x_val, y_val_to20))"
      ],
      "metadata": {
        "colab": {
          "base_uri": "https://localhost:8080/"
        },
        "id": "X2mXhapZxtg2",
        "outputId": "e9dbba4f-36c0-462c-d21b-bb5f41250e4c"
      },
      "execution_count": null,
      "outputs": [
        {
          "output_type": "stream",
          "name": "stdout",
          "text": [
            "Epoch 1/20\n",
            "67/67 [==============================] - 4s 13ms/step - loss: 3.0230 - accuracy: 0.0462 - val_loss: 2.9989 - val_accuracy: 0.0500\n",
            "Epoch 2/20\n",
            "67/67 [==============================] - 0s 6ms/step - loss: 3.0013 - accuracy: 0.0520 - val_loss: 2.9958 - val_accuracy: 0.0540\n",
            "Epoch 3/20\n",
            "67/67 [==============================] - 0s 7ms/step - loss: 2.9331 - accuracy: 0.0858 - val_loss: 2.7821 - val_accuracy: 0.1533\n",
            "Epoch 4/20\n",
            "67/67 [==============================] - 0s 6ms/step - loss: 2.6798 - accuracy: 0.1678 - val_loss: 2.5810 - val_accuracy: 0.2033\n",
            "Epoch 5/20\n",
            "67/67 [==============================] - 0s 7ms/step - loss: 2.5246 - accuracy: 0.2139 - val_loss: 2.4578 - val_accuracy: 0.2413\n",
            "Epoch 6/20\n",
            "67/67 [==============================] - 0s 7ms/step - loss: 2.4246 - accuracy: 0.2433 - val_loss: 2.3607 - val_accuracy: 0.2653\n",
            "Epoch 7/20\n",
            "67/67 [==============================] - 1s 8ms/step - loss: 2.3516 - accuracy: 0.2648 - val_loss: 2.3179 - val_accuracy: 0.2653\n",
            "Epoch 8/20\n",
            "67/67 [==============================] - 1s 8ms/step - loss: 2.2919 - accuracy: 0.2801 - val_loss: 2.2599 - val_accuracy: 0.2853\n",
            "Epoch 9/20\n",
            "67/67 [==============================] - 1s 8ms/step - loss: 2.2502 - accuracy: 0.2932 - val_loss: 2.2214 - val_accuracy: 0.2980\n",
            "Epoch 10/20\n",
            "67/67 [==============================] - 1s 8ms/step - loss: 2.2157 - accuracy: 0.3046 - val_loss: 2.1841 - val_accuracy: 0.3160\n",
            "Epoch 11/20\n",
            "67/67 [==============================] - 1s 8ms/step - loss: 2.1890 - accuracy: 0.3100 - val_loss: 2.1762 - val_accuracy: 0.3007\n",
            "Epoch 12/20\n",
            "67/67 [==============================] - 0s 7ms/step - loss: 2.1659 - accuracy: 0.3154 - val_loss: 2.1416 - val_accuracy: 0.3193\n",
            "Epoch 13/20\n",
            "67/67 [==============================] - 0s 7ms/step - loss: 2.1423 - accuracy: 0.3241 - val_loss: 2.1218 - val_accuracy: 0.3247\n",
            "Epoch 14/20\n",
            "67/67 [==============================] - 0s 7ms/step - loss: 2.1219 - accuracy: 0.3311 - val_loss: 2.1185 - val_accuracy: 0.3253\n",
            "Epoch 15/20\n",
            "67/67 [==============================] - 0s 7ms/step - loss: 2.1056 - accuracy: 0.3400 - val_loss: 2.1023 - val_accuracy: 0.3393\n",
            "Epoch 16/20\n",
            "67/67 [==============================] - 1s 8ms/step - loss: 2.0895 - accuracy: 0.3409 - val_loss: 2.0849 - val_accuracy: 0.3513\n",
            "Epoch 17/20\n",
            "67/67 [==============================] - 0s 7ms/step - loss: 2.0753 - accuracy: 0.3407 - val_loss: 2.0702 - val_accuracy: 0.3467\n",
            "Epoch 18/20\n",
            "67/67 [==============================] - 0s 7ms/step - loss: 2.0595 - accuracy: 0.3498 - val_loss: 2.0567 - val_accuracy: 0.3387\n",
            "Epoch 19/20\n",
            "67/67 [==============================] - 0s 7ms/step - loss: 2.0439 - accuracy: 0.3555 - val_loss: 2.0432 - val_accuracy: 0.3593\n",
            "Epoch 20/20\n",
            "67/67 [==============================] - 0s 7ms/step - loss: 2.0319 - accuracy: 0.3558 - val_loss: 2.0416 - val_accuracy: 0.3580\n"
          ]
        }
      ]
    },
    {
      "cell_type": "markdown",
      "source": [
        "AlexNet implementation"
      ],
      "metadata": {
        "id": "qzW7lhDBx2y1"
      }
    },
    {
      "cell_type": "code",
      "source": [
        "# First AlexNet implementation with optimizer=\"adam\", epochs=20, batch_size=128\n",
        "AlexNet_model_1.compile(optimizer='RMSprop',\n",
        "              loss=tf.keras.losses.SparseCategoricalCrossentropy(from_logits=True),\n",
        "              metrics=['accuracy'])\n",
        "\n",
        "AlexNet_history_1 = AlexNet_model_1.fit(x_train, y_train_to20, epochs=50, batch_size=10,\n",
        "                    validation_data=(x_val, y_val_to20))"
      ],
      "metadata": {
        "colab": {
          "base_uri": "https://localhost:8080/"
        },
        "id": "9QK_SbZ4x7r3",
        "outputId": "684d45ba-18b3-4fe4-92a4-c1fc7b0bf191"
      },
      "execution_count": null,
      "outputs": [
        {
          "output_type": "stream",
          "name": "stdout",
          "text": [
            "Epoch 1/50\n",
            "850/850 [==============================] - 11s 9ms/step - loss: 2.9996 - accuracy: 0.0460 - val_loss: 2.8409 - val_accuracy: 0.1067\n",
            "Epoch 2/50\n",
            "850/850 [==============================] - 8s 9ms/step - loss: 2.6808 - accuracy: 0.1426 - val_loss: 2.9052 - val_accuracy: 0.1573\n",
            "Epoch 3/50\n",
            "850/850 [==============================] - 8s 9ms/step - loss: 2.4800 - accuracy: 0.2140 - val_loss: 2.3855 - val_accuracy: 0.2847\n",
            "Epoch 4/50\n",
            "850/850 [==============================] - 8s 9ms/step - loss: 2.3125 - accuracy: 0.2813 - val_loss: 2.2045 - val_accuracy: 0.2980\n",
            "Epoch 5/50\n",
            "850/850 [==============================] - 8s 9ms/step - loss: 2.1747 - accuracy: 0.3491 - val_loss: 2.0605 - val_accuracy: 0.3687\n",
            "Epoch 6/50\n",
            "850/850 [==============================] - 7s 9ms/step - loss: 2.0237 - accuracy: 0.3896 - val_loss: 2.0860 - val_accuracy: 0.3720\n",
            "Epoch 7/50\n",
            "850/850 [==============================] - 8s 9ms/step - loss: 1.9815 - accuracy: 0.4088 - val_loss: 2.5852 - val_accuracy: 0.3700\n",
            "Epoch 8/50\n",
            "850/850 [==============================] - 7s 9ms/step - loss: 1.9664 - accuracy: 0.4322 - val_loss: 1.7343 - val_accuracy: 0.4753\n",
            "Epoch 9/50\n",
            "850/850 [==============================] - 8s 9ms/step - loss: 1.9177 - accuracy: 0.4456 - val_loss: 2.3874 - val_accuracy: 0.3607\n",
            "Epoch 10/50\n",
            "850/850 [==============================] - 8s 9ms/step - loss: 1.9115 - accuracy: 0.4478 - val_loss: 1.7838 - val_accuracy: 0.4740\n",
            "Epoch 11/50\n",
            "850/850 [==============================] - 8s 9ms/step - loss: 1.8938 - accuracy: 0.4471 - val_loss: 1.7081 - val_accuracy: 0.4553\n",
            "Epoch 12/50\n",
            "850/850 [==============================] - 8s 9ms/step - loss: 1.9108 - accuracy: 0.4446 - val_loss: 1.7899 - val_accuracy: 0.4620\n",
            "Epoch 13/50\n",
            "850/850 [==============================] - 8s 9ms/step - loss: 1.8874 - accuracy: 0.4634 - val_loss: 2.2978 - val_accuracy: 0.4260\n",
            "Epoch 14/50\n",
            "850/850 [==============================] - 8s 9ms/step - loss: 1.8199 - accuracy: 0.4676 - val_loss: 2.1842 - val_accuracy: 0.4593\n",
            "Epoch 15/50\n",
            "850/850 [==============================] - 8s 9ms/step - loss: 1.8602 - accuracy: 0.4706 - val_loss: 1.8085 - val_accuracy: 0.4493\n",
            "Epoch 16/50\n",
            "850/850 [==============================] - 8s 9ms/step - loss: 1.8872 - accuracy: 0.4698 - val_loss: 1.7898 - val_accuracy: 0.4420\n",
            "Epoch 17/50\n",
            "850/850 [==============================] - 8s 9ms/step - loss: 1.8496 - accuracy: 0.4745 - val_loss: 2.0000 - val_accuracy: 0.4240\n",
            "Epoch 18/50\n",
            "850/850 [==============================] - 8s 9ms/step - loss: 1.8771 - accuracy: 0.4759 - val_loss: 2.4033 - val_accuracy: 0.4387\n",
            "Epoch 19/50\n",
            "850/850 [==============================] - 8s 9ms/step - loss: 1.8705 - accuracy: 0.4693 - val_loss: 1.8392 - val_accuracy: 0.4433\n",
            "Epoch 20/50\n",
            "850/850 [==============================] - 8s 9ms/step - loss: 1.8963 - accuracy: 0.4651 - val_loss: 2.2086 - val_accuracy: 0.4493\n",
            "Epoch 21/50\n",
            "850/850 [==============================] - 7s 9ms/step - loss: 1.8789 - accuracy: 0.4644 - val_loss: 1.9750 - val_accuracy: 0.4373\n",
            "Epoch 22/50\n",
            "850/850 [==============================] - 8s 9ms/step - loss: 2.0288 - accuracy: 0.4479 - val_loss: 2.1489 - val_accuracy: 0.3973\n",
            "Epoch 23/50\n",
            "850/850 [==============================] - 8s 9ms/step - loss: 1.9632 - accuracy: 0.4564 - val_loss: 2.1374 - val_accuracy: 0.4020\n",
            "Epoch 24/50\n",
            "850/850 [==============================] - 7s 9ms/step - loss: 1.9080 - accuracy: 0.4682 - val_loss: 1.9028 - val_accuracy: 0.5233\n",
            "Epoch 25/50\n",
            "850/850 [==============================] - 8s 9ms/step - loss: 2.0193 - accuracy: 0.4532 - val_loss: 2.2682 - val_accuracy: 0.4413\n",
            "Epoch 26/50\n",
            "850/850 [==============================] - 7s 9ms/step - loss: 2.0794 - accuracy: 0.4368 - val_loss: 2.1880 - val_accuracy: 0.3087\n",
            "Epoch 27/50\n",
            "850/850 [==============================] - 7s 9ms/step - loss: 2.0404 - accuracy: 0.4407 - val_loss: 2.0768 - val_accuracy: 0.4493\n",
            "Epoch 28/50\n",
            "850/850 [==============================] - 8s 9ms/step - loss: 2.1010 - accuracy: 0.4218 - val_loss: 2.7170 - val_accuracy: 0.3467\n",
            "Epoch 29/50\n",
            "850/850 [==============================] - 8s 9ms/step - loss: 2.2214 - accuracy: 0.3907 - val_loss: 2.4582 - val_accuracy: 0.3580\n",
            "Epoch 30/50\n",
            "850/850 [==============================] - 8s 9ms/step - loss: 2.3330 - accuracy: 0.3887 - val_loss: 2.4958 - val_accuracy: 0.3867\n",
            "Epoch 31/50\n",
            "850/850 [==============================] - 8s 9ms/step - loss: 2.3129 - accuracy: 0.3736 - val_loss: 2.0910 - val_accuracy: 0.3980\n",
            "Epoch 32/50\n",
            "850/850 [==============================] - 8s 9ms/step - loss: 2.3607 - accuracy: 0.3571 - val_loss: 3.2426 - val_accuracy: 0.4140\n",
            "Epoch 33/50\n",
            "850/850 [==============================] - 7s 9ms/step - loss: 2.5673 - accuracy: 0.3312 - val_loss: 2.6851 - val_accuracy: 0.3160\n",
            "Epoch 34/50\n",
            "850/850 [==============================] - 8s 9ms/step - loss: 2.5593 - accuracy: 0.3154 - val_loss: 2.3004 - val_accuracy: 0.2700\n",
            "Epoch 35/50\n",
            "850/850 [==============================] - 7s 9ms/step - loss: 2.5726 - accuracy: 0.3169 - val_loss: 2.2521 - val_accuracy: 0.3193\n",
            "Epoch 36/50\n",
            "850/850 [==============================] - 8s 9ms/step - loss: 2.5013 - accuracy: 0.3349 - val_loss: 2.3180 - val_accuracy: 0.3040\n",
            "Epoch 37/50\n",
            "850/850 [==============================] - 8s 9ms/step - loss: 2.4934 - accuracy: 0.3462 - val_loss: 2.5391 - val_accuracy: 0.3613\n",
            "Epoch 38/50\n",
            "850/850 [==============================] - 7s 9ms/step - loss: 2.5072 - accuracy: 0.3204 - val_loss: 2.3171 - val_accuracy: 0.3640\n",
            "Epoch 39/50\n",
            "850/850 [==============================] - 8s 9ms/step - loss: 2.4681 - accuracy: 0.3301 - val_loss: 2.4072 - val_accuracy: 0.2620\n",
            "Epoch 40/50\n",
            "850/850 [==============================] - 8s 9ms/step - loss: 2.4915 - accuracy: 0.3112 - val_loss: 2.2222 - val_accuracy: 0.3660\n",
            "Epoch 41/50\n",
            "850/850 [==============================] - 7s 9ms/step - loss: 2.5328 - accuracy: 0.3204 - val_loss: 2.8559 - val_accuracy: 0.3887\n",
            "Epoch 42/50\n",
            "850/850 [==============================] - 8s 9ms/step - loss: 2.6621 - accuracy: 0.2993 - val_loss: 3.1835 - val_accuracy: 0.3320\n",
            "Epoch 43/50\n",
            "850/850 [==============================] - 8s 9ms/step - loss: 2.6276 - accuracy: 0.2851 - val_loss: 2.1510 - val_accuracy: 0.3193\n",
            "Epoch 44/50\n",
            "850/850 [==============================] - 8s 9ms/step - loss: 2.6879 - accuracy: 0.3026 - val_loss: 2.5645 - val_accuracy: 0.3240\n",
            "Epoch 45/50\n",
            "850/850 [==============================] - 8s 9ms/step - loss: 2.6052 - accuracy: 0.2921 - val_loss: 2.1660 - val_accuracy: 0.3033\n",
            "Epoch 46/50\n",
            "850/850 [==============================] - 7s 9ms/step - loss: 2.6425 - accuracy: 0.2915 - val_loss: 2.7437 - val_accuracy: 0.2207\n",
            "Epoch 47/50\n",
            "850/850 [==============================] - 7s 9ms/step - loss: 2.6553 - accuracy: 0.2956 - val_loss: 2.1062 - val_accuracy: 0.3733\n",
            "Epoch 48/50\n",
            "850/850 [==============================] - 8s 9ms/step - loss: 2.6630 - accuracy: 0.2764 - val_loss: 3.2942 - val_accuracy: 0.3587\n",
            "Epoch 49/50\n",
            "850/850 [==============================] - 8s 9ms/step - loss: 2.5596 - accuracy: 0.2834 - val_loss: 2.4463 - val_accuracy: 0.2347\n",
            "Epoch 50/50\n",
            "850/850 [==============================] - 7s 9ms/step - loss: 2.6821 - accuracy: 0.2535 - val_loss: 2.4883 - val_accuracy: 0.3740\n"
          ]
        }
      ]
    },
    {
      "cell_type": "code",
      "source": [
        "# Second AlexNet implementation with optimizer=\"RMSprop\", epochs=20, batch_size=128\n",
        "AlexNet_model_2.compile(optimizer='RMSprop',\n",
        "              loss=tf.keras.losses.SparseCategoricalCrossentropy(from_logits=True),\n",
        "              metrics=['accuracy'])\n",
        "\n",
        "AlexNet_history_2 = AlexNet_model_2.fit(x_train, y_train_to20, epochs=20, batch_size=128,\n",
        "                    validation_data=(x_val, y_val_to20))"
      ],
      "metadata": {
        "id": "LZzXZiSJx9pF",
        "colab": {
          "base_uri": "https://localhost:8080/"
        },
        "outputId": "33c4d566-71b5-4ac6-bb45-eabde546d397"
      },
      "execution_count": null,
      "outputs": [
        {
          "output_type": "stream",
          "name": "stdout",
          "text": [
            "Epoch 1/20\n",
            "67/67 [==============================] - 5s 34ms/step - loss: 3.0927 - accuracy: 0.0594 - val_loss: 2.9321 - val_accuracy: 0.1020\n",
            "Epoch 2/20\n",
            "67/67 [==============================] - 1s 22ms/step - loss: 2.8479 - accuracy: 0.0979 - val_loss: 2.7818 - val_accuracy: 0.1320\n",
            "Epoch 3/20\n",
            "67/67 [==============================] - 1s 22ms/step - loss: 2.7041 - accuracy: 0.1253 - val_loss: 2.5763 - val_accuracy: 0.1580\n",
            "Epoch 4/20\n",
            "67/67 [==============================] - 1s 21ms/step - loss: 2.5828 - accuracy: 0.1595 - val_loss: 2.4671 - val_accuracy: 0.2040\n",
            "Epoch 5/20\n",
            "67/67 [==============================] - 1s 21ms/step - loss: 2.4782 - accuracy: 0.2004 - val_loss: 2.4107 - val_accuracy: 0.2113\n",
            "Epoch 6/20\n",
            "67/67 [==============================] - 1s 21ms/step - loss: 2.4214 - accuracy: 0.2282 - val_loss: 2.3143 - val_accuracy: 0.2593\n",
            "Epoch 7/20\n",
            "67/67 [==============================] - 1s 21ms/step - loss: 2.3198 - accuracy: 0.2555 - val_loss: 2.2469 - val_accuracy: 0.2667\n",
            "Epoch 8/20\n",
            "67/67 [==============================] - 1s 21ms/step - loss: 2.2388 - accuracy: 0.2940 - val_loss: 2.3274 - val_accuracy: 0.2733\n",
            "Epoch 9/20\n",
            "67/67 [==============================] - 1s 21ms/step - loss: 2.1532 - accuracy: 0.3307 - val_loss: 2.0657 - val_accuracy: 0.3647\n",
            "Epoch 10/20\n",
            "67/67 [==============================] - 1s 22ms/step - loss: 2.0189 - accuracy: 0.3727 - val_loss: 1.9562 - val_accuracy: 0.3820\n",
            "Epoch 11/20\n",
            "67/67 [==============================] - 1s 22ms/step - loss: 1.9202 - accuracy: 0.4007 - val_loss: 2.1175 - val_accuracy: 0.3720\n",
            "Epoch 12/20\n",
            "67/67 [==============================] - 1s 22ms/step - loss: 1.8044 - accuracy: 0.4378 - val_loss: 1.9051 - val_accuracy: 0.4167\n",
            "Epoch 13/20\n",
            "67/67 [==============================] - 1s 21ms/step - loss: 1.7269 - accuracy: 0.4595 - val_loss: 1.9893 - val_accuracy: 0.4213\n",
            "Epoch 14/20\n",
            "67/67 [==============================] - 1s 21ms/step - loss: 1.6478 - accuracy: 0.4919 - val_loss: 1.7490 - val_accuracy: 0.4707\n",
            "Epoch 15/20\n",
            "67/67 [==============================] - 1s 22ms/step - loss: 1.5560 - accuracy: 0.5113 - val_loss: 1.8692 - val_accuracy: 0.4527\n",
            "Epoch 16/20\n",
            "67/67 [==============================] - 1s 22ms/step - loss: 1.4665 - accuracy: 0.5361 - val_loss: 1.6747 - val_accuracy: 0.4680\n",
            "Epoch 17/20\n",
            "67/67 [==============================] - 1s 22ms/step - loss: 1.3769 - accuracy: 0.5619 - val_loss: 1.5383 - val_accuracy: 0.5360\n",
            "Epoch 18/20\n",
            "67/67 [==============================] - 1s 21ms/step - loss: 1.2752 - accuracy: 0.5922 - val_loss: 1.5786 - val_accuracy: 0.5167\n",
            "Epoch 19/20\n",
            "67/67 [==============================] - 2s 23ms/step - loss: 1.1725 - accuracy: 0.6285 - val_loss: 1.7677 - val_accuracy: 0.4953\n",
            "Epoch 20/20\n",
            "67/67 [==============================] - 1s 22ms/step - loss: 1.0797 - accuracy: 0.6533 - val_loss: 1.5949 - val_accuracy: 0.5540\n"
          ]
        }
      ]
    },
    {
      "cell_type": "markdown",
      "source": [
        "VGG implementation"
      ],
      "metadata": {
        "id": "xNIjGCVLyAKU"
      }
    },
    {
      "cell_type": "code",
      "source": [
        "# First VGG implementation with optimizer=\"RMSprop\", epochs=30, batch_size=128\n",
        "VGG_model_1.compile(optimizer='RMSprop',\n",
        "              loss=tf.keras.losses.SparseCategoricalCrossentropy(from_logits=True),\n",
        "              metrics=['accuracy'])\n",
        "\n",
        "VGG_history_1 = VGG_model_1.fit(x_train, y_train_to20, epochs=50, batch_size=10,\n",
        "                    validation_data=(x_val, y_val_to20))"
      ],
      "metadata": {
        "id": "Go5h5IGczYG0",
        "colab": {
          "base_uri": "https://localhost:8080/"
        },
        "outputId": "828690da-977f-4698-9605-1ebde5f4201a"
      },
      "execution_count": null,
      "outputs": [
        {
          "output_type": "stream",
          "name": "stdout",
          "text": [
            "Epoch 1/50\n",
            "850/850 [==============================] - 11s 10ms/step - loss: 2.7400 - accuracy: 0.1482 - val_loss: 2.3316 - val_accuracy: 0.2300\n",
            "Epoch 2/50\n",
            "850/850 [==============================] - 8s 9ms/step - loss: 2.1989 - accuracy: 0.3193 - val_loss: 1.9414 - val_accuracy: 0.3880\n",
            "Epoch 3/50\n",
            "850/850 [==============================] - 8s 10ms/step - loss: 1.8916 - accuracy: 0.4206 - val_loss: 1.7655 - val_accuracy: 0.4627\n",
            "Epoch 4/50\n",
            "850/850 [==============================] - 8s 10ms/step - loss: 1.7231 - accuracy: 0.4736 - val_loss: 1.6710 - val_accuracy: 0.4907\n",
            "Epoch 5/50\n",
            "850/850 [==============================] - 8s 10ms/step - loss: 1.6029 - accuracy: 0.5171 - val_loss: 1.8069 - val_accuracy: 0.4633\n",
            "Epoch 6/50\n",
            "850/850 [==============================] - 8s 10ms/step - loss: 1.5416 - accuracy: 0.5496 - val_loss: 1.7882 - val_accuracy: 0.5040\n",
            "Epoch 7/50\n",
            "850/850 [==============================] - 8s 10ms/step - loss: 1.4474 - accuracy: 0.5740 - val_loss: 1.8416 - val_accuracy: 0.5300\n",
            "Epoch 8/50\n",
            "850/850 [==============================] - 8s 10ms/step - loss: 1.4180 - accuracy: 0.5892 - val_loss: 1.6747 - val_accuracy: 0.5460\n",
            "Epoch 9/50\n",
            "850/850 [==============================] - 8s 10ms/step - loss: 1.4124 - accuracy: 0.6012 - val_loss: 1.5612 - val_accuracy: 0.5680\n",
            "Epoch 10/50\n",
            "850/850 [==============================] - 8s 9ms/step - loss: 1.3747 - accuracy: 0.6091 - val_loss: 1.7137 - val_accuracy: 0.5387\n",
            "Epoch 11/50\n",
            "850/850 [==============================] - 8s 10ms/step - loss: 1.3867 - accuracy: 0.6132 - val_loss: 1.8991 - val_accuracy: 0.5653\n",
            "Epoch 12/50\n",
            "850/850 [==============================] - 8s 10ms/step - loss: 1.4255 - accuracy: 0.6075 - val_loss: 1.8732 - val_accuracy: 0.5473\n",
            "Epoch 13/50\n",
            "850/850 [==============================] - 8s 10ms/step - loss: 1.4970 - accuracy: 0.5972 - val_loss: 1.7792 - val_accuracy: 0.5653\n",
            "Epoch 14/50\n",
            "850/850 [==============================] - 8s 10ms/step - loss: 1.5007 - accuracy: 0.5961 - val_loss: 1.7748 - val_accuracy: 0.5280\n",
            "Epoch 15/50\n",
            "850/850 [==============================] - 8s 10ms/step - loss: 1.5829 - accuracy: 0.5786 - val_loss: 2.4918 - val_accuracy: 0.5633\n",
            "Epoch 16/50\n",
            "850/850 [==============================] - 8s 10ms/step - loss: 1.6359 - accuracy: 0.5767 - val_loss: 1.7647 - val_accuracy: 0.5260\n",
            "Epoch 17/50\n",
            "850/850 [==============================] - 8s 9ms/step - loss: 1.6650 - accuracy: 0.5601 - val_loss: 2.0491 - val_accuracy: 0.5373\n",
            "Epoch 18/50\n",
            "850/850 [==============================] - 8s 10ms/step - loss: 1.6962 - accuracy: 0.5488 - val_loss: 1.7611 - val_accuracy: 0.5620\n",
            "Epoch 19/50\n",
            "850/850 [==============================] - 8s 10ms/step - loss: 1.7389 - accuracy: 0.5464 - val_loss: 1.6628 - val_accuracy: 0.5433\n",
            "Epoch 20/50\n",
            "850/850 [==============================] - 8s 9ms/step - loss: 1.8587 - accuracy: 0.5179 - val_loss: 3.9756 - val_accuracy: 0.3727\n",
            "Epoch 21/50\n",
            "850/850 [==============================] - 8s 9ms/step - loss: 1.8684 - accuracy: 0.5186 - val_loss: 1.8514 - val_accuracy: 0.5107\n",
            "Epoch 22/50\n",
            "850/850 [==============================] - 8s 10ms/step - loss: 1.9229 - accuracy: 0.4967 - val_loss: 2.1748 - val_accuracy: 0.5493\n",
            "Epoch 23/50\n",
            "850/850 [==============================] - 8s 10ms/step - loss: 2.0427 - accuracy: 0.4769 - val_loss: 2.2531 - val_accuracy: 0.4240\n",
            "Epoch 24/50\n",
            "850/850 [==============================] - 8s 10ms/step - loss: 2.0690 - accuracy: 0.4600 - val_loss: 1.8187 - val_accuracy: 0.5173\n",
            "Epoch 25/50\n",
            "850/850 [==============================] - 8s 10ms/step - loss: 2.1096 - accuracy: 0.4560 - val_loss: 1.8734 - val_accuracy: 0.4933\n",
            "Epoch 26/50\n",
            "850/850 [==============================] - 8s 10ms/step - loss: 2.1277 - accuracy: 0.4414 - val_loss: 2.0993 - val_accuracy: 0.3587\n",
            "Epoch 27/50\n",
            "850/850 [==============================] - 8s 9ms/step - loss: 2.1642 - accuracy: 0.4208 - val_loss: 2.6902 - val_accuracy: 0.5013\n",
            "Epoch 28/50\n",
            "850/850 [==============================] - 8s 10ms/step - loss: 2.2491 - accuracy: 0.4159 - val_loss: 2.7024 - val_accuracy: 0.2607\n",
            "Epoch 29/50\n",
            "850/850 [==============================] - 8s 10ms/step - loss: 2.2262 - accuracy: 0.4060 - val_loss: 1.7348 - val_accuracy: 0.5060\n",
            "Epoch 30/50\n",
            "850/850 [==============================] - 8s 10ms/step - loss: 2.3258 - accuracy: 0.3845 - val_loss: 1.9732 - val_accuracy: 0.4080\n",
            "Epoch 31/50\n",
            "850/850 [==============================] - 8s 10ms/step - loss: 2.3312 - accuracy: 0.3734 - val_loss: 1.9939 - val_accuracy: 0.4073\n",
            "Epoch 32/50\n",
            "850/850 [==============================] - 8s 10ms/step - loss: 2.2805 - accuracy: 0.3844 - val_loss: 2.5818 - val_accuracy: 0.2973\n",
            "Epoch 33/50\n",
            "850/850 [==============================] - 8s 9ms/step - loss: 2.3578 - accuracy: 0.3658 - val_loss: 2.5999 - val_accuracy: 0.4093\n",
            "Epoch 34/50\n",
            "850/850 [==============================] - 8s 9ms/step - loss: 2.3473 - accuracy: 0.3754 - val_loss: 2.4014 - val_accuracy: 0.3533\n",
            "Epoch 35/50\n",
            "850/850 [==============================] - 8s 10ms/step - loss: 2.3089 - accuracy: 0.3659 - val_loss: 2.3421 - val_accuracy: 0.3027\n",
            "Epoch 36/50\n",
            "850/850 [==============================] - 8s 9ms/step - loss: 2.4389 - accuracy: 0.3332 - val_loss: 2.1938 - val_accuracy: 0.3993\n",
            "Epoch 37/50\n",
            "850/850 [==============================] - 8s 10ms/step - loss: 2.4006 - accuracy: 0.3471 - val_loss: 2.2337 - val_accuracy: 0.3873\n",
            "Epoch 38/50\n",
            "850/850 [==============================] - 8s 10ms/step - loss: 2.4155 - accuracy: 0.3393 - val_loss: 2.6209 - val_accuracy: 0.3260\n",
            "Epoch 39/50\n",
            "850/850 [==============================] - 8s 9ms/step - loss: 2.4065 - accuracy: 0.3532 - val_loss: 2.0285 - val_accuracy: 0.3833\n",
            "Epoch 40/50\n",
            "850/850 [==============================] - 8s 10ms/step - loss: 2.4934 - accuracy: 0.3313 - val_loss: 2.2529 - val_accuracy: 0.3613\n",
            "Epoch 41/50\n",
            "850/850 [==============================] - 8s 10ms/step - loss: 2.4754 - accuracy: 0.3204 - val_loss: 2.1242 - val_accuracy: 0.3727\n",
            "Epoch 42/50\n",
            "850/850 [==============================] - 8s 10ms/step - loss: 2.6116 - accuracy: 0.2899 - val_loss: 3.1517 - val_accuracy: 0.4007\n",
            "Epoch 43/50\n",
            "850/850 [==============================] - 8s 10ms/step - loss: 2.5803 - accuracy: 0.2900 - val_loss: 2.2104 - val_accuracy: 0.2973\n",
            "Epoch 44/50\n",
            "850/850 [==============================] - 8s 10ms/step - loss: 2.6299 - accuracy: 0.2746 - val_loss: 2.2716 - val_accuracy: 0.3260\n",
            "Epoch 45/50\n",
            "850/850 [==============================] - 8s 10ms/step - loss: 2.7525 - accuracy: 0.2496 - val_loss: 2.3907 - val_accuracy: 0.3000\n",
            "Epoch 46/50\n",
            "850/850 [==============================] - 8s 10ms/step - loss: 2.6439 - accuracy: 0.2605 - val_loss: 2.7330 - val_accuracy: 0.2780\n",
            "Epoch 47/50\n",
            "850/850 [==============================] - 8s 10ms/step - loss: 2.6358 - accuracy: 0.2522 - val_loss: 2.5007 - val_accuracy: 0.2387\n",
            "Epoch 48/50\n",
            "850/850 [==============================] - 8s 9ms/step - loss: 2.8144 - accuracy: 0.2392 - val_loss: 2.2857 - val_accuracy: 0.2753\n",
            "Epoch 49/50\n",
            "850/850 [==============================] - 8s 10ms/step - loss: 2.7444 - accuracy: 0.2460 - val_loss: 2.3956 - val_accuracy: 0.2567\n",
            "Epoch 50/50\n",
            "850/850 [==============================] - 8s 10ms/step - loss: 2.6193 - accuracy: 0.2516 - val_loss: 2.8760 - val_accuracy: 0.2313\n"
          ]
        }
      ]
    },
    {
      "cell_type": "code",
      "source": [
        "# Second VGG implementation with optimizer=\"Adam\", epochs=30, batch_size=128\n",
        "VGG_model_2.compile(optimizer='Adam',\n",
        "              loss=tf.keras.losses.SparseCategoricalCrossentropy(from_logits=True),\n",
        "              metrics=['accuracy'])\n",
        "\n",
        "VGG_history_2 = VGG_model_2.fit(x_train, y_train_to20, epochs=20, batch_size=128,\n",
        "                    validation_data=(x_val, y_val_to20))"
      ],
      "metadata": {
        "id": "Rig13f0kzh0G",
        "colab": {
          "base_uri": "https://localhost:8080/"
        },
        "outputId": "96b68e72-4fe0-48bf-b770-23596b65edeb"
      },
      "execution_count": null,
      "outputs": [
        {
          "output_type": "stream",
          "name": "stdout",
          "text": [
            "Epoch 1/20\n",
            "67/67 [==============================] - 7s 44ms/step - loss: 2.7388 - accuracy: 0.1380 - val_loss: 2.4198 - val_accuracy: 0.2240\n",
            "Epoch 2/20\n",
            "67/67 [==============================] - 2s 32ms/step - loss: 2.2278 - accuracy: 0.2916 - val_loss: 2.0950 - val_accuracy: 0.3473\n",
            "Epoch 3/20\n",
            "67/67 [==============================] - 2s 30ms/step - loss: 2.0041 - accuracy: 0.3651 - val_loss: 1.8233 - val_accuracy: 0.4327\n",
            "Epoch 4/20\n",
            "67/67 [==============================] - 2s 30ms/step - loss: 1.7617 - accuracy: 0.4458 - val_loss: 1.6314 - val_accuracy: 0.4933\n",
            "Epoch 5/20\n",
            "67/67 [==============================] - 2s 31ms/step - loss: 1.5607 - accuracy: 0.5118 - val_loss: 1.5585 - val_accuracy: 0.5027\n",
            "Epoch 6/20\n",
            "67/67 [==============================] - 2s 31ms/step - loss: 1.3932 - accuracy: 0.5618 - val_loss: 1.4933 - val_accuracy: 0.5293\n",
            "Epoch 7/20\n",
            "67/67 [==============================] - 2s 31ms/step - loss: 1.2492 - accuracy: 0.6059 - val_loss: 1.3512 - val_accuracy: 0.5880\n",
            "Epoch 8/20\n",
            "67/67 [==============================] - 2s 31ms/step - loss: 1.0702 - accuracy: 0.6568 - val_loss: 1.3831 - val_accuracy: 0.5720\n",
            "Epoch 9/20\n",
            "67/67 [==============================] - 2s 31ms/step - loss: 0.9284 - accuracy: 0.7029 - val_loss: 1.2565 - val_accuracy: 0.6273\n",
            "Epoch 10/20\n",
            "67/67 [==============================] - 2s 30ms/step - loss: 0.7453 - accuracy: 0.7580 - val_loss: 1.2728 - val_accuracy: 0.6260\n",
            "Epoch 11/20\n",
            "67/67 [==============================] - 2s 31ms/step - loss: 0.6225 - accuracy: 0.8031 - val_loss: 1.4344 - val_accuracy: 0.6040\n",
            "Epoch 12/20\n",
            "67/67 [==============================] - 2s 30ms/step - loss: 0.5172 - accuracy: 0.8302 - val_loss: 1.3963 - val_accuracy: 0.6387\n",
            "Epoch 13/20\n",
            "67/67 [==============================] - 2s 32ms/step - loss: 0.3841 - accuracy: 0.8719 - val_loss: 1.5796 - val_accuracy: 0.6193\n",
            "Epoch 14/20\n",
            "67/67 [==============================] - 2s 30ms/step - loss: 0.3098 - accuracy: 0.9012 - val_loss: 1.6638 - val_accuracy: 0.6380\n",
            "Epoch 15/20\n",
            "67/67 [==============================] - 2s 30ms/step - loss: 0.2419 - accuracy: 0.9215 - val_loss: 1.8132 - val_accuracy: 0.6260\n",
            "Epoch 16/20\n",
            "67/67 [==============================] - 2s 30ms/step - loss: 0.2136 - accuracy: 0.9321 - val_loss: 1.8067 - val_accuracy: 0.6473\n",
            "Epoch 17/20\n",
            "67/67 [==============================] - 2s 30ms/step - loss: 0.1834 - accuracy: 0.9421 - val_loss: 1.9149 - val_accuracy: 0.6073\n",
            "Epoch 18/20\n",
            "67/67 [==============================] - 2s 32ms/step - loss: 0.1710 - accuracy: 0.9464 - val_loss: 1.8806 - val_accuracy: 0.6300\n",
            "Epoch 19/20\n",
            "67/67 [==============================] - 2s 32ms/step - loss: 0.1221 - accuracy: 0.9615 - val_loss: 2.0758 - val_accuracy: 0.6213\n",
            "Epoch 20/20\n",
            "67/67 [==============================] - 2s 30ms/step - loss: 0.1281 - accuracy: 0.9569 - val_loss: 1.8889 - val_accuracy: 0.6480\n"
          ]
        }
      ]
    },
    {
      "cell_type": "markdown",
      "source": [
        "MyCNN implementation"
      ],
      "metadata": {
        "id": "1kM2MZtVVCKk"
      }
    },
    {
      "cell_type": "code",
      "source": [
        "# First implementation of MyCNN with optimizer=\"Nadam\", epochs=15, batch_size=128\n",
        "MyCNN_model_1.compile(optimizer='Nadam',\n",
        "              loss=tf.keras.losses.SparseCategoricalCrossentropy(from_logits=True),\n",
        "              metrics=['accuracy'])\n",
        "\n",
        "MyCNN_history_1 = MyCNN_model_1.fit(x_train, y_train_to20, epochs=50, batch_size=10,\n",
        "                    validation_data=(x_val, y_val_to20))"
      ],
      "metadata": {
        "id": "lEtdk6W_zn5m",
        "colab": {
          "base_uri": "https://localhost:8080/"
        },
        "outputId": "1da3dde8-1b58-4ac6-d5cd-8f1631c9017e"
      },
      "execution_count": null,
      "outputs": [
        {
          "output_type": "stream",
          "name": "stdout",
          "text": [
            "Epoch 1/50\n",
            "850/850 [==============================] - 12s 10ms/step - loss: 2.2976 - accuracy: 0.2873 - val_loss: 1.7589 - val_accuracy: 0.4513\n",
            "Epoch 2/50\n",
            "850/850 [==============================] - 8s 9ms/step - loss: 1.7258 - accuracy: 0.4566 - val_loss: 1.4933 - val_accuracy: 0.5173\n",
            "Epoch 3/50\n",
            "850/850 [==============================] - 8s 10ms/step - loss: 1.4148 - accuracy: 0.5553 - val_loss: 1.3613 - val_accuracy: 0.5740\n",
            "Epoch 4/50\n",
            "850/850 [==============================] - 8s 9ms/step - loss: 1.1745 - accuracy: 0.6275 - val_loss: 1.2996 - val_accuracy: 0.6013\n",
            "Epoch 5/50\n",
            "850/850 [==============================] - 8s 9ms/step - loss: 0.9450 - accuracy: 0.6962 - val_loss: 1.2973 - val_accuracy: 0.6207\n",
            "Epoch 6/50\n",
            "850/850 [==============================] - 8s 10ms/step - loss: 0.7453 - accuracy: 0.7561 - val_loss: 1.3589 - val_accuracy: 0.6133\n",
            "Epoch 7/50\n",
            "850/850 [==============================] - 8s 10ms/step - loss: 0.5769 - accuracy: 0.8122 - val_loss: 1.3787 - val_accuracy: 0.6287\n",
            "Epoch 8/50\n",
            "850/850 [==============================] - 8s 10ms/step - loss: 0.4154 - accuracy: 0.8636 - val_loss: 1.5512 - val_accuracy: 0.6207\n",
            "Epoch 9/50\n",
            "850/850 [==============================] - 8s 9ms/step - loss: 0.3283 - accuracy: 0.8915 - val_loss: 1.6250 - val_accuracy: 0.6367\n",
            "Epoch 10/50\n",
            "850/850 [==============================] - 8s 9ms/step - loss: 0.2896 - accuracy: 0.9075 - val_loss: 1.6728 - val_accuracy: 0.6367\n",
            "Epoch 11/50\n",
            "850/850 [==============================] - 8s 9ms/step - loss: 0.2378 - accuracy: 0.9264 - val_loss: 1.8331 - val_accuracy: 0.6307\n",
            "Epoch 12/50\n",
            "850/850 [==============================] - 8s 9ms/step - loss: 0.2113 - accuracy: 0.9358 - val_loss: 1.8746 - val_accuracy: 0.6320\n",
            "Epoch 13/50\n",
            "850/850 [==============================] - 8s 10ms/step - loss: 0.2012 - accuracy: 0.9356 - val_loss: 2.0143 - val_accuracy: 0.6353\n",
            "Epoch 14/50\n",
            "850/850 [==============================] - 8s 9ms/step - loss: 0.1959 - accuracy: 0.9415 - val_loss: 2.0425 - val_accuracy: 0.6493\n",
            "Epoch 15/50\n",
            "850/850 [==============================] - 8s 9ms/step - loss: 0.1702 - accuracy: 0.9504 - val_loss: 2.2178 - val_accuracy: 0.6160\n",
            "Epoch 16/50\n",
            "850/850 [==============================] - 8s 10ms/step - loss: 0.1510 - accuracy: 0.9536 - val_loss: 2.0343 - val_accuracy: 0.6487\n",
            "Epoch 17/50\n",
            "850/850 [==============================] - 8s 9ms/step - loss: 0.1792 - accuracy: 0.9481 - val_loss: 2.2217 - val_accuracy: 0.6480\n",
            "Epoch 18/50\n",
            "850/850 [==============================] - 8s 9ms/step - loss: 0.1725 - accuracy: 0.9493 - val_loss: 2.3959 - val_accuracy: 0.6340\n",
            "Epoch 19/50\n",
            "850/850 [==============================] - 8s 10ms/step - loss: 0.1587 - accuracy: 0.9562 - val_loss: 2.3419 - val_accuracy: 0.6287\n",
            "Epoch 20/50\n",
            "850/850 [==============================] - 8s 9ms/step - loss: 0.1121 - accuracy: 0.9655 - val_loss: 2.4933 - val_accuracy: 0.6287\n",
            "Epoch 21/50\n",
            "850/850 [==============================] - 8s 9ms/step - loss: 0.1608 - accuracy: 0.9559 - val_loss: 2.7002 - val_accuracy: 0.6047\n",
            "Epoch 22/50\n",
            "850/850 [==============================] - 9s 10ms/step - loss: 0.1278 - accuracy: 0.9612 - val_loss: 2.5147 - val_accuracy: 0.6373\n",
            "Epoch 23/50\n",
            "850/850 [==============================] - 8s 10ms/step - loss: 0.1458 - accuracy: 0.9595 - val_loss: 2.5890 - val_accuracy: 0.6293\n",
            "Epoch 24/50\n",
            "850/850 [==============================] - 8s 10ms/step - loss: 0.1385 - accuracy: 0.9635 - val_loss: 2.7367 - val_accuracy: 0.6273\n",
            "Epoch 25/50\n",
            "850/850 [==============================] - 8s 10ms/step - loss: 0.1365 - accuracy: 0.9613 - val_loss: 2.6652 - val_accuracy: 0.6187\n",
            "Epoch 26/50\n",
            "850/850 [==============================] - 9s 10ms/step - loss: 0.1370 - accuracy: 0.9626 - val_loss: 3.0630 - val_accuracy: 0.6173\n",
            "Epoch 27/50\n",
            "850/850 [==============================] - 8s 9ms/step - loss: 0.1444 - accuracy: 0.9592 - val_loss: 2.8594 - val_accuracy: 0.6420\n",
            "Epoch 28/50\n",
            "850/850 [==============================] - 8s 10ms/step - loss: 0.1140 - accuracy: 0.9719 - val_loss: 3.0444 - val_accuracy: 0.6113\n",
            "Epoch 29/50\n",
            "850/850 [==============================] - 8s 9ms/step - loss: 0.1379 - accuracy: 0.9605 - val_loss: 3.3107 - val_accuracy: 0.6180\n",
            "Epoch 30/50\n",
            "850/850 [==============================] - 8s 9ms/step - loss: 0.1276 - accuracy: 0.9664 - val_loss: 3.0235 - val_accuracy: 0.6300\n",
            "Epoch 31/50\n",
            "850/850 [==============================] - 8s 10ms/step - loss: 0.1124 - accuracy: 0.9711 - val_loss: 3.0933 - val_accuracy: 0.6327\n",
            "Epoch 32/50\n",
            "850/850 [==============================] - 8s 9ms/step - loss: 0.1303 - accuracy: 0.9661 - val_loss: 3.3962 - val_accuracy: 0.6213\n",
            "Epoch 33/50\n",
            "850/850 [==============================] - 8s 10ms/step - loss: 0.1236 - accuracy: 0.9695 - val_loss: 3.4747 - val_accuracy: 0.6300\n",
            "Epoch 34/50\n",
            "850/850 [==============================] - 8s 10ms/step - loss: 0.1462 - accuracy: 0.9629 - val_loss: 3.4473 - val_accuracy: 0.6320\n",
            "Epoch 35/50\n",
            "850/850 [==============================] - 8s 9ms/step - loss: 0.1175 - accuracy: 0.9708 - val_loss: 3.8111 - val_accuracy: 0.6220\n",
            "Epoch 36/50\n",
            "850/850 [==============================] - 8s 9ms/step - loss: 0.1341 - accuracy: 0.9674 - val_loss: 3.3429 - val_accuracy: 0.6347\n",
            "Epoch 37/50\n",
            "850/850 [==============================] - 8s 10ms/step - loss: 0.1010 - accuracy: 0.9746 - val_loss: 3.4039 - val_accuracy: 0.6307\n",
            "Epoch 38/50\n",
            "850/850 [==============================] - 8s 10ms/step - loss: 0.1194 - accuracy: 0.9716 - val_loss: 3.7681 - val_accuracy: 0.6267\n",
            "Epoch 39/50\n",
            "850/850 [==============================] - 8s 10ms/step - loss: 0.1096 - accuracy: 0.9725 - val_loss: 3.4198 - val_accuracy: 0.6200\n",
            "Epoch 40/50\n",
            "850/850 [==============================] - 8s 9ms/step - loss: 0.1671 - accuracy: 0.9625 - val_loss: 3.6923 - val_accuracy: 0.6333\n",
            "Epoch 41/50\n",
            "850/850 [==============================] - 8s 9ms/step - loss: 0.1005 - accuracy: 0.9764 - val_loss: 3.5632 - val_accuracy: 0.6207\n",
            "Epoch 42/50\n",
            "850/850 [==============================] - 8s 9ms/step - loss: 0.1084 - accuracy: 0.9756 - val_loss: 3.7176 - val_accuracy: 0.6160\n",
            "Epoch 43/50\n",
            "850/850 [==============================] - 8s 9ms/step - loss: 0.1460 - accuracy: 0.9696 - val_loss: 3.6168 - val_accuracy: 0.6180\n",
            "Epoch 44/50\n",
            "850/850 [==============================] - 8s 10ms/step - loss: 0.1164 - accuracy: 0.9753 - val_loss: 3.8118 - val_accuracy: 0.6220\n",
            "Epoch 45/50\n",
            "850/850 [==============================] - 8s 10ms/step - loss: 0.1009 - accuracy: 0.9778 - val_loss: 3.6370 - val_accuracy: 0.6393\n",
            "Epoch 46/50\n",
            "850/850 [==============================] - 8s 9ms/step - loss: 0.1372 - accuracy: 0.9696 - val_loss: 4.4140 - val_accuracy: 0.6073\n",
            "Epoch 47/50\n",
            "850/850 [==============================] - 8s 10ms/step - loss: 0.1395 - accuracy: 0.9708 - val_loss: 4.2010 - val_accuracy: 0.6220\n",
            "Epoch 48/50\n",
            "850/850 [==============================] - 8s 10ms/step - loss: 0.0946 - accuracy: 0.9782 - val_loss: 4.1551 - val_accuracy: 0.6273\n",
            "Epoch 49/50\n",
            "850/850 [==============================] - 8s 9ms/step - loss: 0.1340 - accuracy: 0.9712 - val_loss: 4.2995 - val_accuracy: 0.6260\n",
            "Epoch 50/50\n",
            "850/850 [==============================] - 8s 10ms/step - loss: 0.0979 - accuracy: 0.9792 - val_loss: 4.4195 - val_accuracy: 0.6153\n"
          ]
        }
      ]
    },
    {
      "cell_type": "code",
      "source": [
        "#Second implementation of MyCNN with optimizer=\"Adam\", epochs=15, batch_size=128\n",
        "MyCNN_model_2.compile(optimizer='Adam',\n",
        "              loss=tf.keras.losses.SparseCategoricalCrossentropy(from_logits=True),\n",
        "              metrics=['accuracy'])\n",
        "\n",
        "MyCNN_history_2 = MyCNN_model_2.fit(x_train, y_train_to20, epochs=20, batch_size=128,\n",
        "                    validation_data=(x_val, y_val_to20))"
      ],
      "metadata": {
        "id": "Z4f20RohztgQ",
        "colab": {
          "base_uri": "https://localhost:8080/"
        },
        "outputId": "9e04ae10-9e04-4e41-c2e3-69349856bea8"
      },
      "execution_count": null,
      "outputs": [
        {
          "output_type": "stream",
          "name": "stdout",
          "text": [
            "Epoch 1/20\n",
            "67/67 [==============================] - 5s 39ms/step - loss: 2.4663 - accuracy: 0.2306 - val_loss: 2.1441 - val_accuracy: 0.3253\n",
            "Epoch 2/20\n",
            "67/67 [==============================] - 2s 26ms/step - loss: 1.9163 - accuracy: 0.4006 - val_loss: 1.7537 - val_accuracy: 0.4607\n",
            "Epoch 3/20\n",
            "67/67 [==============================] - 2s 26ms/step - loss: 1.6172 - accuracy: 0.5008 - val_loss: 1.4826 - val_accuracy: 0.5247\n",
            "Epoch 4/20\n",
            "67/67 [==============================] - 2s 26ms/step - loss: 1.4261 - accuracy: 0.5531 - val_loss: 1.3039 - val_accuracy: 0.5693\n",
            "Epoch 5/20\n",
            "67/67 [==============================] - 2s 26ms/step - loss: 1.2069 - accuracy: 0.6207 - val_loss: 1.2130 - val_accuracy: 0.6100\n",
            "Epoch 6/20\n",
            "67/67 [==============================] - 2s 26ms/step - loss: 1.0409 - accuracy: 0.6712 - val_loss: 1.2579 - val_accuracy: 0.5933\n",
            "Epoch 7/20\n",
            "67/67 [==============================] - 2s 27ms/step - loss: 0.8926 - accuracy: 0.7115 - val_loss: 1.1801 - val_accuracy: 0.6367\n",
            "Epoch 8/20\n",
            "67/67 [==============================] - 2s 27ms/step - loss: 0.7187 - accuracy: 0.7685 - val_loss: 1.2670 - val_accuracy: 0.6367\n",
            "Epoch 9/20\n",
            "67/67 [==============================] - 2s 27ms/step - loss: 0.6222 - accuracy: 0.7993 - val_loss: 1.1034 - val_accuracy: 0.6627\n",
            "Epoch 10/20\n",
            "67/67 [==============================] - 2s 26ms/step - loss: 0.4717 - accuracy: 0.8476 - val_loss: 1.2096 - val_accuracy: 0.6607\n",
            "Epoch 11/20\n",
            "67/67 [==============================] - 2s 27ms/step - loss: 0.3549 - accuracy: 0.8826 - val_loss: 1.2206 - val_accuracy: 0.6793\n",
            "Epoch 12/20\n",
            "67/67 [==============================] - 2s 26ms/step - loss: 0.2490 - accuracy: 0.9169 - val_loss: 1.2159 - val_accuracy: 0.6753\n",
            "Epoch 13/20\n",
            "67/67 [==============================] - 2s 28ms/step - loss: 0.1875 - accuracy: 0.9421 - val_loss: 1.3800 - val_accuracy: 0.6700\n",
            "Epoch 14/20\n",
            "67/67 [==============================] - 2s 28ms/step - loss: 0.1571 - accuracy: 0.9487 - val_loss: 1.3719 - val_accuracy: 0.6840\n",
            "Epoch 15/20\n",
            "67/67 [==============================] - 2s 26ms/step - loss: 0.1171 - accuracy: 0.9620 - val_loss: 1.4496 - val_accuracy: 0.6913\n",
            "Epoch 16/20\n",
            "67/67 [==============================] - 2s 27ms/step - loss: 0.1023 - accuracy: 0.9680 - val_loss: 1.5920 - val_accuracy: 0.6807\n",
            "Epoch 17/20\n",
            "67/67 [==============================] - 2s 27ms/step - loss: 0.0747 - accuracy: 0.9780 - val_loss: 1.5800 - val_accuracy: 0.6753\n",
            "Epoch 18/20\n",
            "67/67 [==============================] - 2s 27ms/step - loss: 0.0589 - accuracy: 0.9844 - val_loss: 1.7589 - val_accuracy: 0.6627\n",
            "Epoch 19/20\n",
            "67/67 [==============================] - 2s 28ms/step - loss: 0.0880 - accuracy: 0.9718 - val_loss: 1.7507 - val_accuracy: 0.6687\n",
            "Epoch 20/20\n",
            "67/67 [==============================] - 2s 28ms/step - loss: 0.0577 - accuracy: 0.9828 - val_loss: 1.7398 - val_accuracy: 0.6773\n"
          ]
        }
      ]
    },
    {
      "cell_type": "markdown",
      "source": [
        "###### Βήμα 2:"
      ],
      "metadata": {
        "id": "Cq1ggJQTlblq"
      }
    },
    {
      "cell_type": "code",
      "source": [
        "# Create subplots\n",
        "fig, axes = plt.subplots(1, 2, figsize=(12, 4))\n",
        "\n",
        "# Plot first graph on the left\n",
        "plt.subplot(1, 2, 1)\n",
        "plt.plot(LeNet_history_2.history['accuracy'], label='accuracy')\n",
        "plt.plot(LeNet_history_2.history['val_accuracy'], label='val_accuracy')\n",
        "plt.xlabel('Epoch')\n",
        "plt.ylabel('Accuracy')\n",
        "plt.ylim([0, 1])\n",
        "plt.legend(loc='lower right')\n",
        "plt.title('LeNet_model_2')\n",
        "\n",
        "# Plot second graph on the right\n",
        "plt.subplot(1, 2, 2)\n",
        "plt.plot(LeNet_history_1.history['accuracy'], label='accuracy')\n",
        "plt.plot(LeNet_history_1.history['val_accuracy'], label='val_accuracy')\n",
        "plt.xlabel('Epoch')\n",
        "plt.ylabel('Accuracy')\n",
        "plt.ylim([0, 1])\n",
        "plt.legend(loc='lower right')\n",
        "plt.title('LeNet_model_1')\n",
        "\n",
        "# Adjust spacing between subplots\n",
        "plt.tight_layout()\n",
        "\n",
        "# Display the graphs\n",
        "plt.show()\n",
        "\n",
        "# Evaluate models\n",
        "LeNet_test_loss, LeNet_test_acc = LeNet_model_2.evaluate(x_test, y_test_to20, verbose=2)\n",
        "LeNet_test_loss, LeNet_test_acc = LeNet_model_1.evaluate(x_test, y_test_to20, verbose=2)\n"
      ],
      "metadata": {
        "colab": {
          "base_uri": "https://localhost:8080/"
        },
        "id": "EZdT4T_Qar6F",
        "outputId": "5c710366-e6d3-43ac-ccb0-957245254ae9"
      },
      "execution_count": null,
      "outputs": [
        {
          "output_type": "display_data",
          "data": {
            "text/plain": [
              "<Figure size 1200x400 with 2 Axes>"
            ],
            "image/png": "[encoded data removed]"
          },
          "metadata": {}
        },
        {
          "output_type": "stream",
          "name": "stdout",
          "text": [
            "63/63 - 0s - loss: 2.0521 - accuracy: 0.3590 - 217ms/epoch - 3ms/step\n",
            "63/63 - 0s - loss: 1.8729 - accuracy: 0.4645 - 252ms/epoch - 4ms/step\n"
          ]
        }
      ]
    },
    {
      "cell_type": "code",
      "source": [
        "\n",
        "# Create subplots\n",
        "fig, axes = plt.subplots(1, 2, figsize=(12, 4))\n",
        "\n",
        "# Plot first graph on the left\n",
        "plt.subplot(1, 2, 1)\n",
        "plt.plot(AlexNet_history_2.history['accuracy'], label='accuracy')\n",
        "plt.plot(AlexNet_history_2.history['val_accuracy'], label='val_accuracy')\n",
        "plt.xlabel('Epoch')\n",
        "plt.ylabel('Accuracy')\n",
        "plt.ylim([0, 1])\n",
        "plt.legend(loc='lower right')\n",
        "plt.title('AlexNet_model_2')\n",
        "\n",
        "# Plot second graph on the right\n",
        "plt.subplot(1, 2, 2)\n",
        "plt.plot(AlexNet_history_1.history['accuracy'], label='accuracy')\n",
        "plt.plot(AlexNet_history_1.history['val_accuracy'], label='val_accuracy')\n",
        "plt.xlabel('Epoch')\n",
        "plt.ylabel('Accuracy')\n",
        "plt.ylim([0, 1])\n",
        "plt.legend(loc='lower right')\n",
        "plt.title('AlexNet_model_1')\n",
        "\n",
        "# Adjust spacing between subplots\n",
        "plt.tight_layout()\n",
        "\n",
        "# Display the graphs\n",
        "plt.show()\n",
        "\n",
        "# Evaluate models\n",
        "AlexNet_test_loss, AlexNet_test_acc = AlexNet_model_2.evaluate(x_test, y_test_to20, verbose=2)\n",
        "AlexNet_test_loss, AlexNet_test_acc = AlexNet_model_1.evaluate(x_test, y_test_to20, verbose=2)\n"
      ],
      "metadata": {
        "colab": {
          "base_uri": "https://localhost:8080/"
        },
        "id": "1LhqJDZ9TciH",
        "outputId": "e8eef92e-4a05-4f30-f6f9-7a60563a7cf5"
      },
      "execution_count": null,
      "outputs": [
        {
          "output_type": "display_data",
          "data": {
            "text/plain": [
              "<Figure size 1200x400 with 2 Axes>"
            ],
            "image/png": "[encoded data removed]"
          },
          "metadata": {}
        },
        {
          "output_type": "stream",
          "name": "stdout",
          "text": [
            "63/63 - 1s - loss: 1.6171 - accuracy: 0.5420 - 554ms/epoch - 9ms/step\n",
            "63/63 - 0s - loss: 2.6590 - accuracy: 0.3620 - 384ms/epoch - 6ms/step\n"
          ]
        }
      ]
    },
    {
      "cell_type": "code",
      "source": [
        "\n",
        "# Create subplots\n",
        "fig, axes = plt.subplots(1, 2, figsize=(12, 4))\n",
        "\n",
        "# Plot first graph on the left\n",
        "plt.subplot(1, 2, 1)\n",
        "plt.plot(VGG_history_2.history['accuracy'], label='accuracy')\n",
        "plt.plot(VGG_history_2.history['val_accuracy'], label='val_accuracy')\n",
        "plt.xlabel('Epoch')\n",
        "plt.ylabel('Accuracy')\n",
        "plt.ylim([0, 1])\n",
        "plt.legend(loc='lower right')\n",
        "plt.title('VGG_model_2')\n",
        "\n",
        "# Plot second graph on the right\n",
        "plt.subplot(1, 2, 2)\n",
        "plt.plot(VGG_history_1.history['accuracy'], label='accuracy')\n",
        "plt.plot(VGG_history_1.history['val_accuracy'], label='val_accuracy')\n",
        "plt.xlabel('Epoch')\n",
        "plt.ylabel('Accuracy')\n",
        "plt.ylim([0, 1])\n",
        "plt.legend(loc='lower right')\n",
        "plt.title('VGG_model_1')\n",
        "\n",
        "# Adjust spacing between subplots\n",
        "plt.tight_layout()\n",
        "\n",
        "# Display the graphs\n",
        "plt.show()\n",
        "\n",
        "# Evaluate models\n",
        "VGG_test_loss, VGG_test_acc = VGG_model_2.evaluate(x_test, y_test_to20, verbose=2)\n",
        "VGG_test_loss, VGG_test_acc = VGG_model_1.evaluate(x_test, y_test_to20, verbose=2)\n",
        "\n"
      ],
      "metadata": {
        "colab": {
          "base_uri": "https://localhost:8080/"
        },
        "id": "bJHOrXYtTi5I",
        "outputId": "1de0a131-d1c6-4e92-d265-d2499fd4630d"
      },
      "execution_count": null,
      "outputs": [
        {
          "output_type": "display_data",
          "data": {
            "text/plain": [
              "<Figure size 1200x400 with 2 Axes>"
            ],
            "image/png": "[encoded data removed]"
          },
          "metadata": {}
        },
        {
          "output_type": "stream",
          "name": "stdout",
          "text": [
            "63/63 - 0s - loss: 2.1083 - accuracy: 0.6345 - 482ms/epoch - 8ms/step\n",
            "63/63 - 0s - loss: 3.2060 - accuracy: 0.2310 - 389ms/epoch - 6ms/step\n"
          ]
        }
      ]
    },
    {
      "cell_type": "code",
      "source": [
        "\n",
        "# Create subplots\n",
        "fig, axes = plt.subplots(1, 2, figsize=(12, 4))\n",
        "\n",
        "# Plot first graph on the left\n",
        "plt.subplot(1, 2, 1)\n",
        "plt.plot(MyCNN_history_2.history['accuracy'], label='accuracy')\n",
        "plt.plot(MyCNN_history_2.history['val_accuracy'], label='val_accuracy')\n",
        "plt.xlabel('Epoch')\n",
        "plt.ylabel('Accuracy')\n",
        "plt.ylim([0, 1])\n",
        "plt.legend(loc='lower right')\n",
        "plt.title('MyCNN_model_2')\n",
        "\n",
        "# Plot second graph on the right\n",
        "plt.subplot(1, 2, 2)\n",
        "plt.plot(MyCNN_history_1.history['accuracy'], label='accuracy')\n",
        "plt.plot(MyCNN_history_1.history['val_accuracy'], label='val_accuracy')\n",
        "plt.xlabel('Epoch')\n",
        "plt.ylabel('Accuracy')\n",
        "plt.ylim([0, 1])\n",
        "plt.legend(loc='lower right')\n",
        "plt.title('MyCNN_model_1')\n",
        "\n",
        "# Adjust spacing between subplots\n",
        "plt.tight_layout()\n",
        "\n",
        "# Display the graphs\n",
        "plt.show()\n",
        "\n",
        "# Evaluate models\n",
        "MyCNN_test_loss, MyCNN_test_acc = MyCNN_model_2.evaluate(x_test, y_test_to20, verbose=2)\n",
        "MyCNN_test_loss, MyCNN_test_acc = MyCNN_model_1.evaluate(x_test, y_test_to20, verbose=2)\n",
        "\n"
      ],
      "metadata": {
        "colab": {
          "base_uri": "https://localhost:8080/"
        },
        "id": "X5M9OMR-Tkry",
        "outputId": "1d83a24a-760a-4eaa-98c4-e82119cacd74"
      },
      "execution_count": null,
      "outputs": [
        {
          "output_type": "display_data",
          "data": {
            "text/plain": [
              "<Figure size 1200x400 with 2 Axes>"
            ],
            "image/png": "[encoded data removed]"
          },
          "metadata": {}
        },
        {
          "output_type": "stream",
          "name": "stdout",
          "text": [
            "63/63 - 0s - loss: 1.8372 - accuracy: 0.6755 - 433ms/epoch - 7ms/step\n",
            "63/63 - 0s - loss: 5.2005 - accuracy: 0.5855 - 347ms/epoch - 6ms/step\n"
          ]
        }
      ]
    },
    {
      "cell_type": "markdown",
      "source": [
        "###### Βήμα 3:"
      ],
      "metadata": {
        "id": "_5vbib4glrCA"
      }
    },
    {
      "cell_type": "markdown",
      "source": [
        "**Effect of the number of data/classes on the performance of the model:<br>**\n",
        "It is known that the more data there is to train a network, the better its results since it is better trained.<BR>\n",
        "**Effect of the optimizer algorithm: <br>**\n",
        "The choice of the right optimization algorithm is very important for the network performance. There is no absolute rule for choosing the right optimization algorithm and from tests conducted on the above networks it was shown that some algorithms can perform very well on some networks and not at all well on others.\n",
        "**Effect of batch size: <br>**\n",
        "From tests conducted on the above networks it was shown that reducing the batch size results in improved performance but significantly increases the training time. For the above networks a small batch size (and a large number of epochs) was used only for LeNet whose performance was also significantly worse than the others.<br>\n",
        "\n",
        "**More specifically: <br>**\n",
        "LeNet has better accuracy for larger epochs and smaller batch sizes.<br>\n",
        "AlexNet has an almost linear accurancy for larger batch sizes and smaller epochs but performs pourly for big epochs and small batch sizes.<br>\n",
        "For VGG we can see almost the same thing as batch sizes increase the accuracy and larger epochs reduce the accuracy significantly over time.<br>\n",
        "Lastly, MyCNN has slightly better results for small batch sizes and large epochs as both graphs reach peak accuracy at approximately the same value.<br>\n",
        "\n",
        "**Conclusion:<br>**\n",
        "The performance of the LeNet network is clearly worse than the others. MyCNN had the best performance with fewer epochs than the others but this is most likely due to the input data and will not have equivalent performance for each type of input data."
      ],
      "metadata": {
        "id": "vU3L-QZpVG9l"
      }
    },
    {
      "cell_type": "markdown",
      "source": [
        "#### **Ερώτημα 2**"
      ],
      "metadata": {
        "id": "OIe0uQySTyaS"
      }
    },
    {
      "cell_type": "markdown",
      "source": [
        "###### Βήμα 1:"
      ],
      "metadata": {
        "id": "EDpklWVClvZ-"
      }
    },
    {
      "cell_type": "code",
      "execution_count": null,
      "metadata": {
        "id": "mQpXIADk6f06"
      },
      "outputs": [],
      "source": [
        "\n",
        "def callback_fun(monitor_val, min_delta_val, patience_val):\n",
        "  return tf.keras.callbacks.EarlyStopping(monitor=monitor_val, min_delta=min_delta_val, patience=patience_val)"
      ]
    },
    {
      "cell_type": "code",
      "execution_count": null,
      "metadata": {
        "id": "Myv2xEOA6kHL"
      },
      "outputs": [],
      "source": [
        "# Dropout\n",
        "def dropout(dropout_val):\n",
        "  dropout_layer = models.Sequential()\n",
        "  dropout_layer.add(layers.Dropout(dropout_val))\n",
        "  return dropout_layer"
      ]
    },
    {
      "cell_type": "code",
      "execution_count": null,
      "metadata": {
        "id": "rDINb6sG6peD"
      },
      "outputs": [],
      "source": [
        "\n",
        "from tensorflow import keras\n",
        "\n",
        "data_augmentation = keras.Sequential(\n",
        "  [\n",
        "    layers.experimental.preprocessing.RandomFlip(\"horizontal\", \n",
        "                                                 input_shape=(32, 32, 3)),\n",
        "    layers.experimental.preprocessing.RandomRotation(0.1),\n",
        "    layers.experimental.preprocessing.RandomZoom(0.1),\n",
        "  ]\n",
        ")"
      ]
    },
    {
      "cell_type": "code",
      "execution_count": null,
      "metadata": {
        "id": "GGg7KTrX60Wq"
      },
      "outputs": [],
      "source": [
        "# Set new model with data augmentatios & dropout\n",
        "def MyCNN_with_data_augmentation_n_dropout(data_aug_flag, dropout_val):\n",
        "  model = models.Sequential()\n",
        "  if(data_aug_flag):\n",
        "    model.add(data_augmentation)      \n",
        "  model.add(layers.Conv2D(filters=128, kernel_size=3, padding='same', activation='relu', input_shape=(32, 32, 3)))\n",
        "  model.add(layers.MaxPool2D(pool_size=2, strides=2))\n",
        "  model.add(layers.Conv2D(filters=256, kernel_size=3, padding='same', activation='relu'))  \n",
        "  model.add(layers.MaxPool2D(pool_size=2, strides=2)) \n",
        "  model.add(layers.Conv2D(filters=512, kernel_size=3, padding='same', activation='relu')) \n",
        "  model.add(layers.MaxPool2D(pool_size=2, strides=2))\n",
        "  model.add(layers.Flatten())\n",
        "  model.add(layers.Dense(2048, activation='relu'))\n",
        "  model.add(dropout(dropout_val))\n",
        "  model.add(layers.Dense(20))\n",
        "  return model"
      ]
    },
    {
      "cell_type": "code",
      "execution_count": null,
      "metadata": {
        "colab": {
          "base_uri": "https://localhost:8080/"
        },
        "id": "Jt28doKx62ka",
        "outputId": "91ef873d-4f89-4ded-ab50-cc949877d89d"
      },
      "outputs": [
        {
          "output_type": "stream",
          "name": "stdout",
          "text": [
            "Sequential      output shape: (1, 32, 32, 3)\n",
            "Conv2D          output shape: (1, 32, 32, 128)\n",
            "MaxPooling2D    output shape: (1, 16, 16, 128)\n",
            "Conv2D          output shape: (1, 16, 16, 256)\n",
            "MaxPooling2D    output shape: (1, 8, 8, 256)\n",
            "Conv2D          output shape: (1, 8, 8, 512)\n",
            "MaxPooling2D    output shape: (1, 4, 4, 512)\n",
            "Flatten         output shape: (1, 8192)\n",
            "Dense           output shape: (1, 2048)\n",
            "Sequential      output shape: (1, 2048)\n",
            "Dense           output shape: (1, 20)\n"
          ]
        }
      ],
      "source": [
        "X = tf.random.uniform((1, 32, 32, 3)) \n",
        "for layer in MyCNN_with_data_augmentation_n_dropout(True, 0.5).layers:\n",
        "    X = layer(X)\n",
        "    print(f\"{layer.__class__.__name__:15} output shape: {X.shape}\")"
      ]
    },
    {
      "cell_type": "markdown",
      "metadata": {
        "id": "GFtGlROE67CM"
      },
      "source": [
        "###### Δοκιμές"
      ]
    },
    {
      "cell_type": "code",
      "execution_count": null,
      "metadata": {
        "colab": {
          "base_uri": "https://localhost:8080/"
        },
        "id": "Ec4hYmxx7EkY",
        "outputId": "d2e8cee0-442b-425a-f0f3-e4ae40277a22"
      },
      "outputs": [
        {
          "output_type": "stream",
          "name": "stdout",
          "text": [
            "Epoch 1/35\n",
            "67/67 [==============================] - 4s 33ms/step - loss: 2.6268 - accuracy: 0.1808 - val_loss: 2.2304 - val_accuracy: 0.2947\n",
            "Epoch 2/35\n",
            "67/67 [==============================] - 2s 28ms/step - loss: 2.1277 - accuracy: 0.3347 - val_loss: 1.9514 - val_accuracy: 0.3907\n",
            "Epoch 3/35\n",
            "67/67 [==============================] - 2s 28ms/step - loss: 1.8739 - accuracy: 0.4145 - val_loss: 1.7410 - val_accuracy: 0.4607\n",
            "Epoch 4/35\n",
            "67/67 [==============================] - 2s 27ms/step - loss: 1.6944 - accuracy: 0.4727 - val_loss: 1.7285 - val_accuracy: 0.4680\n",
            "Epoch 5/35\n",
            "67/67 [==============================] - 2s 28ms/step - loss: 1.5405 - accuracy: 0.5161 - val_loss: 1.5775 - val_accuracy: 0.4940\n",
            "Epoch 6/35\n",
            "67/67 [==============================] - 2s 28ms/step - loss: 1.4499 - accuracy: 0.5513 - val_loss: 1.4305 - val_accuracy: 0.5593\n",
            "Epoch 7/35\n",
            "67/67 [==============================] - 2s 29ms/step - loss: 1.3410 - accuracy: 0.5789 - val_loss: 1.2791 - val_accuracy: 0.6080\n",
            "Epoch 8/35\n",
            "67/67 [==============================] - 2s 27ms/step - loss: 1.2957 - accuracy: 0.5862 - val_loss: 1.3052 - val_accuracy: 0.6040\n"
          ]
        }
      ],
      "source": [
        "# Test 1.1 with data augmentation, dropout = 0.1 and callback ('accuracy', 0.01, 1)\n",
        "MyCNN_model_testing_1 = MyCNN_with_data_augmentation_n_dropout(True, 0.1)\n",
        "callback = callback_fun('accuracy', 0.01, 1)\n",
        "\n",
        "MyCNN_model_testing_1.compile(optimizer='Adam',\n",
        "              loss=tf.keras.losses.SparseCategoricalCrossentropy(from_logits=True),\n",
        "              metrics=['accuracy'])\n",
        "\n",
        "MyCNN_history_testing_1 = MyCNN_model_testing_1.fit(x_train, y_train_to20, epochs=35, batch_size=128,\n",
        "                    validation_data=(x_val, y_val_to20), callbacks=[callback])"
      ]
    },
    {
      "cell_type": "code",
      "source": [
        "# Test 1.2 with data augmentation, dropout = 0.2 and callback ('accuracy', 0.01, 1)\n",
        "MyCNN_model_testing_2 = MyCNN_with_data_augmentation_n_dropout(True, 0.2)\n",
        "callback = callback_fun('accuracy', 0.01, 1)\n",
        "\n",
        "MyCNN_model_testing_2.compile(optimizer='Adam',\n",
        "              loss=tf.keras.losses.SparseCategoricalCrossentropy(from_logits=True),\n",
        "              metrics=['accuracy'])\n",
        "\n",
        "MyCNN_history_testing_2 = MyCNN_model_testing_2.fit(x_train, y_train_to20, epochs=35, batch_size=128,\n",
        "                    validation_data=(x_val, y_val_to20), callbacks=[callback])"
      ],
      "metadata": {
        "colab": {
          "base_uri": "https://localhost:8080/"
        },
        "id": "C3CWoLa7nnO-",
        "outputId": "dc7b8cb7-ddbd-4d3e-e950-a199395c7b72"
      },
      "execution_count": null,
      "outputs": [
        {
          "output_type": "stream",
          "name": "stdout",
          "text": [
            "Epoch 1/35\n",
            "67/67 [==============================] - 4s 34ms/step - loss: 2.5455 - accuracy: 0.2029 - val_loss: 2.1398 - val_accuracy: 0.3287\n",
            "Epoch 2/35\n",
            "67/67 [==============================] - 2s 28ms/step - loss: 2.0367 - accuracy: 0.3612 - val_loss: 1.8353 - val_accuracy: 0.4133\n",
            "Epoch 3/35\n",
            "67/67 [==============================] - 2s 27ms/step - loss: 1.8006 - accuracy: 0.4366 - val_loss: 1.7499 - val_accuracy: 0.4367\n",
            "Epoch 4/35\n",
            "67/67 [==============================] - 2s 27ms/step - loss: 1.6158 - accuracy: 0.4933 - val_loss: 1.5212 - val_accuracy: 0.5280\n",
            "Epoch 5/35\n",
            "67/67 [==============================] - 2s 27ms/step - loss: 1.4927 - accuracy: 0.5286 - val_loss: 1.3743 - val_accuracy: 0.5693\n",
            "Epoch 6/35\n",
            "67/67 [==============================] - 2s 27ms/step - loss: 1.3894 - accuracy: 0.5602 - val_loss: 1.3608 - val_accuracy: 0.5687\n",
            "Epoch 7/35\n",
            "67/67 [==============================] - 2s 29ms/step - loss: 1.3345 - accuracy: 0.5745 - val_loss: 1.4721 - val_accuracy: 0.5500\n",
            "Epoch 8/35\n",
            "67/67 [==============================] - 2s 28ms/step - loss: 1.2357 - accuracy: 0.6080 - val_loss: 1.2398 - val_accuracy: 0.6007\n",
            "Epoch 9/35\n",
            "67/67 [==============================] - 2s 27ms/step - loss: 1.1679 - accuracy: 0.6287 - val_loss: 1.3242 - val_accuracy: 0.5913\n",
            "Epoch 10/35\n",
            "67/67 [==============================] - 2s 28ms/step - loss: 1.1137 - accuracy: 0.6427 - val_loss: 1.1971 - val_accuracy: 0.6280\n",
            "Epoch 11/35\n",
            "67/67 [==============================] - 2s 28ms/step - loss: 1.0235 - accuracy: 0.6742 - val_loss: 1.2102 - val_accuracy: 0.6140\n",
            "Epoch 12/35\n",
            "67/67 [==============================] - 2s 28ms/step - loss: 0.9713 - accuracy: 0.6921 - val_loss: 1.1720 - val_accuracy: 0.6267\n",
            "Epoch 13/35\n",
            "67/67 [==============================] - 2s 29ms/step - loss: 0.9179 - accuracy: 0.7021 - val_loss: 1.2052 - val_accuracy: 0.6340\n"
          ]
        }
      ]
    },
    {
      "cell_type": "code",
      "source": [
        "# Test 1.3 with data augmentation, dropout = 0.4 and callback ('accuracy', 0.01, 1)\n",
        "MyCNN_model_testing_3 = MyCNN_with_data_augmentation_n_dropout(True, 0.4)\n",
        "callback = callback_fun('accuracy', 0.01, 1)\n",
        "\n",
        "MyCNN_model_testing_3.compile(optimizer='Adam',\n",
        "              loss=tf.keras.losses.SparseCategoricalCrossentropy(from_logits=True),\n",
        "              metrics=['accuracy'])\n",
        "\n",
        "MyCNN_history_testing_3 = MyCNN_model_testing_3.fit(x_train, y_train_to20, epochs=35, batch_size=128,\n",
        "                    validation_data=(x_val, y_val_to20), callbacks=[callback])"
      ],
      "metadata": {
        "colab": {
          "base_uri": "https://localhost:8080/"
        },
        "id": "neu0q2einw0g",
        "outputId": "b0bf545d-dbb2-4ad7-998f-36af66597391"
      },
      "execution_count": null,
      "outputs": [
        {
          "output_type": "stream",
          "name": "stdout",
          "text": [
            "Epoch 1/35\n",
            "67/67 [==============================] - 4s 32ms/step - loss: 2.5725 - accuracy: 0.1918 - val_loss: 2.3045 - val_accuracy: 0.2873\n",
            "Epoch 2/35\n",
            "67/67 [==============================] - 2s 28ms/step - loss: 2.0713 - accuracy: 0.3509 - val_loss: 1.7874 - val_accuracy: 0.4413\n",
            "Epoch 3/35\n",
            "67/67 [==============================] - 2s 28ms/step - loss: 1.8392 - accuracy: 0.4273 - val_loss: 1.7030 - val_accuracy: 0.4573\n",
            "Epoch 4/35\n",
            "67/67 [==============================] - 2s 27ms/step - loss: 1.6699 - accuracy: 0.4725 - val_loss: 1.6818 - val_accuracy: 0.4740\n",
            "Epoch 5/35\n",
            "67/67 [==============================] - 2s 27ms/step - loss: 1.5519 - accuracy: 0.5094 - val_loss: 1.4194 - val_accuracy: 0.5467\n",
            "Epoch 6/35\n",
            "67/67 [==============================] - 2s 27ms/step - loss: 1.4766 - accuracy: 0.5368 - val_loss: 1.3665 - val_accuracy: 0.5707\n",
            "Epoch 7/35\n",
            "67/67 [==============================] - 2s 27ms/step - loss: 1.4044 - accuracy: 0.5555 - val_loss: 1.3992 - val_accuracy: 0.5540\n",
            "Epoch 8/35\n",
            "67/67 [==============================] - 2s 28ms/step - loss: 1.3087 - accuracy: 0.5816 - val_loss: 1.3693 - val_accuracy: 0.5740\n",
            "Epoch 9/35\n",
            "67/67 [==============================] - 2s 29ms/step - loss: 1.2370 - accuracy: 0.6042 - val_loss: 1.2527 - val_accuracy: 0.6013\n",
            "Epoch 10/35\n",
            "67/67 [==============================] - 2s 28ms/step - loss: 1.1808 - accuracy: 0.6247 - val_loss: 1.1950 - val_accuracy: 0.6287\n",
            "Epoch 11/35\n",
            "67/67 [==============================] - 2s 29ms/step - loss: 1.1218 - accuracy: 0.6421 - val_loss: 1.1722 - val_accuracy: 0.6447\n",
            "Epoch 12/35\n",
            "67/67 [==============================] - 2s 29ms/step - loss: 1.0529 - accuracy: 0.6661 - val_loss: 1.3944 - val_accuracy: 0.5653\n",
            "Epoch 13/35\n",
            "67/67 [==============================] - 2s 28ms/step - loss: 1.0043 - accuracy: 0.6780 - val_loss: 1.2425 - val_accuracy: 0.6113\n",
            "Epoch 14/35\n",
            "67/67 [==============================] - 2s 28ms/step - loss: 0.9649 - accuracy: 0.6846 - val_loss: 1.1435 - val_accuracy: 0.6493\n"
          ]
        }
      ]
    },
    {
      "cell_type": "code",
      "source": [
        "# Test 2.1 without data augmentation, dropout = 0.1 and callback ('loss', 0.05, 2)\n",
        "MyCNN_model_testing_4 = MyCNN_with_data_augmentation_n_dropout(False, 0.1)\n",
        "callback = callback_fun('loss', 0.05, 2)\n",
        "\n",
        "MyCNN_model_testing_4.compile(optimizer='Adam',\n",
        "              loss=tf.keras.losses.SparseCategoricalCrossentropy(from_logits=True),\n",
        "              metrics=['accuracy'])\n",
        "\n",
        "MyCNN_history_testing_4 = MyCNN_model_testing_4.fit(x_train, y_train_to20, epochs=35, batch_size=128,\n",
        "                    validation_data=(x_val, y_val_to20), callbacks=[callback])"
      ],
      "metadata": {
        "colab": {
          "base_uri": "https://localhost:8080/"
        },
        "id": "MNXFTnJNoBs6",
        "outputId": "c3b7eafc-0a22-442e-9738-217261f552b9"
      },
      "execution_count": null,
      "outputs": [
        {
          "output_type": "stream",
          "name": "stdout",
          "text": [
            "Epoch 1/35\n",
            "67/67 [==============================] - 4s 30ms/step - loss: 2.4976 - accuracy: 0.2249 - val_loss: 2.0479 - val_accuracy: 0.3753\n",
            "Epoch 2/35\n",
            "67/67 [==============================] - 2s 27ms/step - loss: 1.8388 - accuracy: 0.4306 - val_loss: 1.8060 - val_accuracy: 0.4413\n",
            "Epoch 3/35\n",
            "67/67 [==============================] - 2s 26ms/step - loss: 1.5110 - accuracy: 0.5295 - val_loss: 1.4042 - val_accuracy: 0.5613\n",
            "Epoch 4/35\n",
            "67/67 [==============================] - 2s 27ms/step - loss: 1.2633 - accuracy: 0.6013 - val_loss: 1.3018 - val_accuracy: 0.6013\n",
            "Epoch 5/35\n",
            "67/67 [==============================] - 2s 28ms/step - loss: 1.0571 - accuracy: 0.6687 - val_loss: 1.2136 - val_accuracy: 0.6213\n",
            "Epoch 6/35\n",
            "67/67 [==============================] - 2s 27ms/step - loss: 0.8918 - accuracy: 0.7142 - val_loss: 1.2524 - val_accuracy: 0.6140\n",
            "Epoch 7/35\n",
            "67/67 [==============================] - 2s 26ms/step - loss: 0.7349 - accuracy: 0.7645 - val_loss: 1.2233 - val_accuracy: 0.6347\n",
            "Epoch 8/35\n",
            "67/67 [==============================] - 2s 27ms/step - loss: 0.5668 - accuracy: 0.8173 - val_loss: 1.2909 - val_accuracy: 0.6253\n",
            "Epoch 9/35\n",
            "67/67 [==============================] - 2s 26ms/step - loss: 0.3727 - accuracy: 0.8845 - val_loss: 1.4153 - val_accuracy: 0.6427\n",
            "Epoch 10/35\n",
            "67/67 [==============================] - 2s 26ms/step - loss: 0.2656 - accuracy: 0.9172 - val_loss: 1.4037 - val_accuracy: 0.6620\n",
            "Epoch 11/35\n",
            "67/67 [==============================] - 2s 26ms/step - loss: 0.1707 - accuracy: 0.9462 - val_loss: 1.5346 - val_accuracy: 0.6527\n",
            "Epoch 12/35\n",
            "67/67 [==============================] - 2s 28ms/step - loss: 0.1011 - accuracy: 0.9707 - val_loss: 1.7753 - val_accuracy: 0.6587\n",
            "Epoch 13/35\n",
            "67/67 [==============================] - 2s 26ms/step - loss: 0.0736 - accuracy: 0.9801 - val_loss: 1.8554 - val_accuracy: 0.6587\n",
            "Epoch 14/35\n",
            "67/67 [==============================] - 2s 26ms/step - loss: 0.0881 - accuracy: 0.9742 - val_loss: 1.7900 - val_accuracy: 0.6540\n"
          ]
        }
      ]
    },
    {
      "cell_type": "code",
      "source": [
        "# Test 2.2 without data augmentation, dropout = 0.2 and callback ('loss', 0.05, 2)\n",
        "MyCNN_model_testing_5 = MyCNN_with_data_augmentation_n_dropout(False, 0.2)\n",
        "callback = callback_fun('loss', 0.05, 2)\n",
        "\n",
        "MyCNN_model_testing_5.compile(optimizer='Adam',\n",
        "              loss=tf.keras.losses.SparseCategoricalCrossentropy(from_logits=True),\n",
        "              metrics=['accuracy'])\n",
        "\n",
        "MyCNN_history_testing_5 = MyCNN_model_testing_5.fit(x_train, y_train_to20, epochs=35, batch_size=128,\n",
        "                    validation_data=(x_val, y_val_to20), callbacks=[callback])"
      ],
      "metadata": {
        "colab": {
          "base_uri": "https://localhost:8080/"
        },
        "id": "KBc-7HxhpVgi",
        "outputId": "4ef4139d-3943-4bee-d3c1-ee38a517d9f5"
      },
      "execution_count": null,
      "outputs": [
        {
          "output_type": "stream",
          "name": "stdout",
          "text": [
            "Epoch 1/35\n",
            "67/67 [==============================] - 4s 30ms/step - loss: 2.4211 - accuracy: 0.2416 - val_loss: 2.0008 - val_accuracy: 0.3633\n",
            "Epoch 2/35\n",
            "67/67 [==============================] - 2s 27ms/step - loss: 1.8153 - accuracy: 0.4379 - val_loss: 1.5981 - val_accuracy: 0.4887\n",
            "Epoch 3/35\n",
            "67/67 [==============================] - 2s 28ms/step - loss: 1.5133 - accuracy: 0.5285 - val_loss: 1.4649 - val_accuracy: 0.5513\n",
            "Epoch 4/35\n",
            "67/67 [==============================] - 2s 27ms/step - loss: 1.2877 - accuracy: 0.5948 - val_loss: 1.3011 - val_accuracy: 0.5987\n",
            "Epoch 5/35\n",
            "67/67 [==============================] - 2s 27ms/step - loss: 1.0691 - accuracy: 0.6608 - val_loss: 1.2279 - val_accuracy: 0.6193\n",
            "Epoch 6/35\n",
            "67/67 [==============================] - 2s 26ms/step - loss: 0.8609 - accuracy: 0.7232 - val_loss: 1.2259 - val_accuracy: 0.6360\n",
            "Epoch 7/35\n",
            "67/67 [==============================] - 2s 27ms/step - loss: 0.6760 - accuracy: 0.7878 - val_loss: 1.1599 - val_accuracy: 0.6587\n",
            "Epoch 8/35\n",
            "67/67 [==============================] - 2s 26ms/step - loss: 0.5036 - accuracy: 0.8406 - val_loss: 1.3028 - val_accuracy: 0.6267\n",
            "Epoch 9/35\n",
            "67/67 [==============================] - 2s 27ms/step - loss: 0.3812 - accuracy: 0.8758 - val_loss: 1.3619 - val_accuracy: 0.6367\n",
            "Epoch 10/35\n",
            "67/67 [==============================] - 2s 27ms/step - loss: 0.2319 - accuracy: 0.9281 - val_loss: 1.4300 - val_accuracy: 0.6440\n",
            "Epoch 11/35\n",
            "67/67 [==============================] - 2s 26ms/step - loss: 0.1548 - accuracy: 0.9531 - val_loss: 1.6751 - val_accuracy: 0.6420\n",
            "Epoch 12/35\n",
            "67/67 [==============================] - 2s 27ms/step - loss: 0.1164 - accuracy: 0.9632 - val_loss: 1.6085 - val_accuracy: 0.6533\n",
            "Epoch 13/35\n",
            "67/67 [==============================] - 2s 26ms/step - loss: 0.0770 - accuracy: 0.9758 - val_loss: 1.6804 - val_accuracy: 0.6580\n",
            "Epoch 14/35\n",
            "67/67 [==============================] - 2s 27ms/step - loss: 0.0695 - accuracy: 0.9794 - val_loss: 1.7059 - val_accuracy: 0.6600\n",
            "Epoch 15/35\n",
            "67/67 [==============================] - 2s 26ms/step - loss: 0.0593 - accuracy: 0.9824 - val_loss: 1.8605 - val_accuracy: 0.6507\n"
          ]
        }
      ]
    },
    {
      "cell_type": "code",
      "source": [
        "# Test 2.3 without data augmentation, dropout = 0.4 and callback ('loss', 0.05, 2)\n",
        "MyCNN_model_testing_6 = MyCNN_with_data_augmentation_n_dropout(False, 0.4)\n",
        "callback = callback_fun('loss', 0.05, 2)\n",
        "\n",
        "MyCNN_model_testing_6.compile(optimizer='Adam',\n",
        "              loss=tf.keras.losses.SparseCategoricalCrossentropy(from_logits=True),\n",
        "              metrics=['accuracy'])\n",
        "\n",
        "MyCNN_history_testing_6 = MyCNN_model_testing_6.fit(x_train, y_train_to20, epochs=35, batch_size=128,\n",
        "                    validation_data=(x_val, y_val_to20), callbacks=[callback])"
      ],
      "metadata": {
        "colab": {
          "base_uri": "https://localhost:8080/"
        },
        "id": "RMiO9t_mpcGm",
        "outputId": "8e27ede5-3def-4631-d661-dfcb916231f1"
      },
      "execution_count": null,
      "outputs": [
        {
          "output_type": "stream",
          "name": "stdout",
          "text": [
            "Epoch 1/35\n",
            "67/67 [==============================] - 4s 30ms/step - loss: 2.5238 - accuracy: 0.2046 - val_loss: 2.1050 - val_accuracy: 0.3507\n",
            "Epoch 2/35\n",
            "67/67 [==============================] - 2s 26ms/step - loss: 1.9029 - accuracy: 0.4133 - val_loss: 1.6477 - val_accuracy: 0.4907\n",
            "Epoch 3/35\n",
            "67/67 [==============================] - 2s 26ms/step - loss: 1.5456 - accuracy: 0.5185 - val_loss: 1.4449 - val_accuracy: 0.5467\n",
            "Epoch 4/35\n",
            "67/67 [==============================] - 2s 27ms/step - loss: 1.3074 - accuracy: 0.5869 - val_loss: 1.3623 - val_accuracy: 0.5660\n",
            "Epoch 5/35\n",
            "67/67 [==============================] - 2s 28ms/step - loss: 1.1401 - accuracy: 0.6372 - val_loss: 1.2304 - val_accuracy: 0.6313\n",
            "Epoch 6/35\n",
            "67/67 [==============================] - 2s 27ms/step - loss: 0.9202 - accuracy: 0.7065 - val_loss: 1.1802 - val_accuracy: 0.6453\n",
            "Epoch 7/35\n",
            "67/67 [==============================] - 2s 27ms/step - loss: 0.7536 - accuracy: 0.7607 - val_loss: 1.1465 - val_accuracy: 0.6540\n",
            "Epoch 8/35\n",
            "67/67 [==============================] - 2s 27ms/step - loss: 0.6044 - accuracy: 0.8052 - val_loss: 1.2190 - val_accuracy: 0.6407\n",
            "Epoch 9/35\n",
            "67/67 [==============================] - 2s 27ms/step - loss: 0.4600 - accuracy: 0.8527 - val_loss: 1.2044 - val_accuracy: 0.6687\n",
            "Epoch 10/35\n",
            "67/67 [==============================] - 2s 27ms/step - loss: 0.3296 - accuracy: 0.8927 - val_loss: 1.3670 - val_accuracy: 0.6493\n",
            "Epoch 11/35\n",
            "67/67 [==============================] - 2s 27ms/step - loss: 0.2204 - accuracy: 0.9301 - val_loss: 1.3482 - val_accuracy: 0.6667\n",
            "Epoch 12/35\n",
            "67/67 [==============================] - 2s 26ms/step - loss: 0.1610 - accuracy: 0.9531 - val_loss: 1.5194 - val_accuracy: 0.6600\n",
            "Epoch 13/35\n",
            "67/67 [==============================] - 2s 27ms/step - loss: 0.1244 - accuracy: 0.9605 - val_loss: 1.5498 - val_accuracy: 0.6567\n",
            "Epoch 14/35\n",
            "67/67 [==============================] - 2s 28ms/step - loss: 0.1245 - accuracy: 0.9604 - val_loss: 1.6299 - val_accuracy: 0.6793\n"
          ]
        }
      ]
    },
    {
      "cell_type": "code",
      "source": [
        "# Test 3.1 without data augmentation, dropout = 0.1 and callback ('accuracy', 0.01, 1)\n",
        "MyCNN_model_testing_7 = MyCNN_with_data_augmentation_n_dropout(False, 0.1)\n",
        "callback = callback_fun('accuracy', 0.01, 1)\n",
        "\n",
        "MyCNN_model_testing_7.compile(optimizer='Adam',\n",
        "              loss=tf.keras.losses.SparseCategoricalCrossentropy(from_logits=True),\n",
        "              metrics=['accuracy'])\n",
        "\n",
        "MyCNN_history_testing_7 = MyCNN_model_testing_7.fit(x_train, y_train_to20, epochs=35, batch_size=128,\n",
        "                    validation_data=(x_val, y_val_to20), callbacks=[callback])"
      ],
      "metadata": {
        "colab": {
          "base_uri": "https://localhost:8080/"
        },
        "id": "w1UU2BV1pjmt",
        "outputId": "f0e33dff-a080-4e9a-89a1-8c7ba3cb7671"
      },
      "execution_count": null,
      "outputs": [
        {
          "output_type": "stream",
          "name": "stdout",
          "text": [
            "Epoch 1/35\n",
            "67/67 [==============================] - 4s 31ms/step - loss: 2.4723 - accuracy: 0.2312 - val_loss: 2.0096 - val_accuracy: 0.3627\n",
            "Epoch 2/35\n",
            "67/67 [==============================] - 2s 27ms/step - loss: 1.8173 - accuracy: 0.4393 - val_loss: 1.6439 - val_accuracy: 0.4840\n",
            "Epoch 3/35\n",
            "67/67 [==============================] - 2s 27ms/step - loss: 1.5115 - accuracy: 0.5192 - val_loss: 1.4999 - val_accuracy: 0.5347\n",
            "Epoch 4/35\n",
            "67/67 [==============================] - 2s 27ms/step - loss: 1.2860 - accuracy: 0.5929 - val_loss: 1.2976 - val_accuracy: 0.5887\n",
            "Epoch 5/35\n",
            "67/67 [==============================] - 2s 27ms/step - loss: 1.0852 - accuracy: 0.6579 - val_loss: 1.3130 - val_accuracy: 0.5960\n",
            "Epoch 6/35\n",
            "67/67 [==============================] - 2s 28ms/step - loss: 0.9179 - accuracy: 0.7034 - val_loss: 1.2869 - val_accuracy: 0.6260\n",
            "Epoch 7/35\n",
            "67/67 [==============================] - 2s 26ms/step - loss: 0.7205 - accuracy: 0.7760 - val_loss: 1.2272 - val_accuracy: 0.6393\n",
            "Epoch 8/35\n",
            "67/67 [==============================] - 2s 26ms/step - loss: 0.4857 - accuracy: 0.8476 - val_loss: 1.3255 - val_accuracy: 0.6487\n",
            "Epoch 9/35\n",
            "67/67 [==============================] - 2s 27ms/step - loss: 0.3392 - accuracy: 0.8919 - val_loss: 1.2922 - val_accuracy: 0.6573\n",
            "Epoch 10/35\n",
            "67/67 [==============================] - 2s 26ms/step - loss: 0.2490 - accuracy: 0.9232 - val_loss: 1.4813 - val_accuracy: 0.6433\n",
            "Epoch 11/35\n",
            "67/67 [==============================] - 2s 27ms/step - loss: 0.1464 - accuracy: 0.9564 - val_loss: 1.4906 - val_accuracy: 0.6680\n",
            "Epoch 12/35\n",
            "67/67 [==============================] - 2s 28ms/step - loss: 0.1169 - accuracy: 0.9653 - val_loss: 1.6852 - val_accuracy: 0.6567\n"
          ]
        }
      ]
    },
    {
      "cell_type": "code",
      "source": [
        "# Test 3.2 without data augmentation, dropout = 0.2 and callback ('accuracy', 0.01, 1)\n",
        "MyCNN_model_testing_8 = MyCNN_with_data_augmentation_n_dropout(False, 0.2)\n",
        "callback = callback_fun('accuracy', 0.01, 1)\n",
        "\n",
        "MyCNN_model_testing_8.compile(optimizer='Adam',\n",
        "              loss=tf.keras.losses.SparseCategoricalCrossentropy(from_logits=True),\n",
        "              metrics=['accuracy'])\n",
        "\n",
        "MyCNN_history_testing_8 = MyCNN_model_testing_8.fit(x_train, y_train_to20, epochs=35, batch_size=128,\n",
        "                    validation_data=(x_val, y_val_to20), callbacks=[callback])"
      ],
      "metadata": {
        "colab": {
          "base_uri": "https://localhost:8080/"
        },
        "id": "P2pMAyykpumt",
        "outputId": "5132967b-48ff-453c-817f-9e0bb576a5ac"
      },
      "execution_count": null,
      "outputs": [
        {
          "output_type": "stream",
          "name": "stdout",
          "text": [
            "Epoch 1/35\n",
            "67/67 [==============================] - 4s 32ms/step - loss: 2.5015 - accuracy: 0.2242 - val_loss: 2.0492 - val_accuracy: 0.3653\n",
            "Epoch 2/35\n",
            "67/67 [==============================] - 2s 26ms/step - loss: 1.8734 - accuracy: 0.4184 - val_loss: 1.6593 - val_accuracy: 0.4807\n",
            "Epoch 3/35\n",
            "67/67 [==============================] - 2s 26ms/step - loss: 1.5515 - accuracy: 0.5109 - val_loss: 1.6390 - val_accuracy: 0.4753\n",
            "Epoch 4/35\n",
            "67/67 [==============================] - 2s 26ms/step - loss: 1.3455 - accuracy: 0.5775 - val_loss: 1.3695 - val_accuracy: 0.5693\n",
            "Epoch 5/35\n",
            "67/67 [==============================] - 2s 26ms/step - loss: 1.1097 - accuracy: 0.6481 - val_loss: 1.2693 - val_accuracy: 0.5887\n",
            "Epoch 6/35\n",
            "67/67 [==============================] - 2s 26ms/step - loss: 0.9210 - accuracy: 0.7059 - val_loss: 1.2201 - val_accuracy: 0.6160\n",
            "Epoch 7/35\n",
            "67/67 [==============================] - 2s 27ms/step - loss: 0.6994 - accuracy: 0.7762 - val_loss: 1.2633 - val_accuracy: 0.6300\n",
            "Epoch 8/35\n",
            "67/67 [==============================] - 2s 27ms/step - loss: 0.5311 - accuracy: 0.8319 - val_loss: 1.3354 - val_accuracy: 0.6400\n",
            "Epoch 9/35\n",
            "67/67 [==============================] - 2s 27ms/step - loss: 0.3830 - accuracy: 0.8812 - val_loss: 1.4835 - val_accuracy: 0.6320\n",
            "Epoch 10/35\n",
            "67/67 [==============================] - 2s 27ms/step - loss: 0.2612 - accuracy: 0.9195 - val_loss: 1.3542 - val_accuracy: 0.6713\n",
            "Epoch 11/35\n",
            "67/67 [==============================] - 2s 26ms/step - loss: 0.1437 - accuracy: 0.9575 - val_loss: 1.5967 - val_accuracy: 0.6580\n",
            "Epoch 12/35\n",
            "67/67 [==============================] - 2s 26ms/step - loss: 0.1121 - accuracy: 0.9653 - val_loss: 1.5447 - val_accuracy: 0.6553\n"
          ]
        }
      ]
    },
    {
      "cell_type": "code",
      "execution_count": null,
      "metadata": {
        "colab": {
          "base_uri": "https://localhost:8080/"
        },
        "id": "J_Iq2-gX7KKQ",
        "outputId": "c73fdcd8-df10-471b-c4b9-5025b99495a5"
      },
      "outputs": [
        {
          "output_type": "stream",
          "name": "stdout",
          "text": [
            "Epoch 1/35\n",
            "67/67 [==============================] - 4s 31ms/step - loss: 2.4586 - accuracy: 0.2348 - val_loss: 2.1061 - val_accuracy: 0.3433\n",
            "Epoch 2/35\n",
            "67/67 [==============================] - 2s 26ms/step - loss: 1.8753 - accuracy: 0.4096 - val_loss: 1.8161 - val_accuracy: 0.4340\n",
            "Epoch 3/35\n",
            "67/67 [==============================] - 2s 27ms/step - loss: 1.5667 - accuracy: 0.5119 - val_loss: 1.5695 - val_accuracy: 0.4913\n",
            "Epoch 4/35\n",
            "67/67 [==============================] - 2s 27ms/step - loss: 1.3377 - accuracy: 0.5800 - val_loss: 1.3661 - val_accuracy: 0.5660\n",
            "Epoch 5/35\n",
            "67/67 [==============================] - 2s 26ms/step - loss: 1.1348 - accuracy: 0.6431 - val_loss: 1.2187 - val_accuracy: 0.6160\n",
            "Epoch 6/35\n",
            "67/67 [==============================] - 2s 26ms/step - loss: 0.9426 - accuracy: 0.6993 - val_loss: 1.1332 - val_accuracy: 0.6440\n",
            "Epoch 7/35\n",
            "67/67 [==============================] - 2s 27ms/step - loss: 0.7746 - accuracy: 0.7485 - val_loss: 1.2105 - val_accuracy: 0.6473\n",
            "Epoch 8/35\n",
            "67/67 [==============================] - 2s 27ms/step - loss: 0.6225 - accuracy: 0.8007 - val_loss: 1.2101 - val_accuracy: 0.6467\n",
            "Epoch 9/35\n",
            "67/67 [==============================] - 2s 28ms/step - loss: 0.4686 - accuracy: 0.8459 - val_loss: 1.1512 - val_accuracy: 0.6780\n",
            "Epoch 10/35\n",
            "67/67 [==============================] - 2s 27ms/step - loss: 0.3551 - accuracy: 0.8852 - val_loss: 1.2705 - val_accuracy: 0.6627\n",
            "Epoch 11/35\n",
            "67/67 [==============================] - 2s 27ms/step - loss: 0.2438 - accuracy: 0.9213 - val_loss: 1.3567 - val_accuracy: 0.6680\n",
            "Epoch 12/35\n",
            "67/67 [==============================] - 2s 27ms/step - loss: 0.1657 - accuracy: 0.9479 - val_loss: 1.4231 - val_accuracy: 0.6767\n",
            "Epoch 13/35\n",
            "67/67 [==============================] - 2s 26ms/step - loss: 0.1320 - accuracy: 0.9580 - val_loss: 1.5649 - val_accuracy: 0.6760\n",
            "Epoch 14/35\n",
            "67/67 [==============================] - 2s 27ms/step - loss: 0.1217 - accuracy: 0.9624 - val_loss: 1.5381 - val_accuracy: 0.6807\n"
          ]
        }
      ],
      "source": [
        "# Test 3.3 without data augmentation, dropout = 0.4 and callback ('accuracy', 0.01, 1)\n",
        "MyCNN_model_testing_9 = MyCNN_with_data_augmentation_n_dropout(False, 0.4)\n",
        "callback = callback_fun('accuracy', 0.01, 1)\n",
        "\n",
        "MyCNN_model_testing_9.compile(optimizer='Adam',\n",
        "              loss=tf.keras.losses.SparseCategoricalCrossentropy(from_logits=True),\n",
        "              metrics=['accuracy'])\n",
        "\n",
        "MyCNN_history_testing_9 = MyCNN_model_testing_9.fit(x_train, y_train_to20, epochs=35, batch_size=128,\n",
        "                    validation_data=(x_val, y_val_to20), callbacks=[callback])"
      ]
    },
    {
      "cell_type": "markdown",
      "metadata": {
        "id": "UFJDuO5h7Z6L"
      },
      "source": [
        "###### Βήμα 2: Αξιολόγηση"
      ]
    },
    {
      "cell_type": "code",
      "execution_count": null,
      "metadata": {
        "colab": {
          "base_uri": "https://localhost:8080/"
        },
        "id": "9SaP9vtD7kB7",
        "outputId": "760f4edb-c933-4e64-db60-fe5e8aa9e786"
      },
      "outputs": [
        {
          "output_type": "display_data",
          "data": {
            "text/plain": [
              "<Figure size 1200x1000 with 9 Axes>"
            ],
            "image/png": "[encoded data removed]"
          },
          "metadata": {}
        },
        {
          "output_type": "stream",
          "name": "stdout",
          "text": [
            "63/63 - 0s - loss: 1.3721 - accuracy: 0.5875 - 289ms/epoch - 5ms/step\n",
            "63/63 - 0s - loss: 1.2834 - accuracy: 0.6320 - 238ms/epoch - 4ms/step\n",
            "63/63 - 0s - loss: 1.1501 - accuracy: 0.6535 - 246ms/epoch - 4ms/step\n",
            "63/63 - 0s - loss: 1.9498 - accuracy: 0.6495 - 242ms/epoch - 4ms/step\n",
            "63/63 - 0s - loss: 1.9931 - accuracy: 0.6695 - 225ms/epoch - 4ms/step\n",
            "63/63 - 0s - loss: 1.7691 - accuracy: 0.6715 - 223ms/epoch - 4ms/step\n",
            "63/63 - 0s - loss: 1.7635 - accuracy: 0.6675 - 218ms/epoch - 3ms/step\n",
            "63/63 - 0s - loss: 1.7641 - accuracy: 0.6625 - 221ms/epoch - 4ms/step\n",
            "63/63 - 0s - loss: 1.6515 - accuracy: 0.6755 - 226ms/epoch - 4ms/step\n"
          ]
        }
      ],
      "source": [
        "\n",
        "\n",
        "# Define the variable names\n",
        "variables = [MyCNN_history_testing_1, MyCNN_history_testing_2, MyCNN_history_testing_3,\n",
        "             MyCNN_history_testing_4, MyCNN_history_testing_5, MyCNN_history_testing_6,\n",
        "             MyCNN_history_testing_7, MyCNN_history_testing_8, MyCNN_history_testing_9]\n",
        "\n",
        "# Create a 3x3 grid of subplots\n",
        "fig, axes = plt.subplots(3, 3, figsize=(12, 10))\n",
        "\n",
        "# Iterate over the variables and plot them in the subplots\n",
        "for i in range(9):\n",
        "    # Determine the subplot position\n",
        "    row = i // 3\n",
        "    col = i % 3\n",
        "    \n",
        "    # Select the subplot\n",
        "    plt.subplot(3, 3, i+1)\n",
        "    \n",
        "    # Plot accuracy and validation accuracy\n",
        "    plt.plot(variables[i].history['accuracy'], label='accuracy')\n",
        "    plt.plot(variables[i].history['val_accuracy'], label='val_accuracy')\n",
        "    \n",
        "    # Set labels and limits\n",
        "    plt.xlabel('Epoch')\n",
        "    plt.ylabel('Accuracy')\n",
        "    plt.ylim([0, 1])\n",
        "    plt.xlim([0,18])\n",
        "    \n",
        "    # Add a legend\n",
        "    plt.legend(loc='lower right')\n",
        "    \n",
        "    # Add a title\n",
        "    plt.title('MyCNN_history_testing_' + str(i+1))\n",
        "\n",
        "# Adjust spacing between subplots\n",
        "plt.tight_layout()\n",
        "\n",
        "# Display the grid of plots\n",
        "plt.show()\n",
        "\n",
        "# Evaluate MyCNN_model_testing on the test set\n",
        "MyCNN_test_loss_testing, MyCNN_test_acc_testing = MyCNN_model_testing_1.evaluate(x_test, y_test_to20, verbose=2)\n",
        "MyCNN_test_loss_testing, MyCNN_test_acc_testing = MyCNN_model_testing_2.evaluate(x_test, y_test_to20, verbose=2)\n",
        "MyCNN_test_loss_testing, MyCNN_test_acc_testing = MyCNN_model_testing_3.evaluate(x_test, y_test_to20, verbose=2)\n",
        "MyCNN_test_loss_testing, MyCNN_test_acc_testing = MyCNN_model_testing_4.evaluate(x_test, y_test_to20, verbose=2)\n",
        "MyCNN_test_loss_testing, MyCNN_test_acc_testing = MyCNN_model_testing_5.evaluate(x_test, y_test_to20, verbose=2)\n",
        "MyCNN_test_loss_testing, MyCNN_test_acc_testing = MyCNN_model_testing_6.evaluate(x_test, y_test_to20, verbose=2)\n",
        "MyCNN_test_loss_testing, MyCNN_test_acc_testing = MyCNN_model_testing_7.evaluate(x_test, y_test_to20, verbose=2)\n",
        "MyCNN_test_loss_testing, MyCNN_test_acc_testing = MyCNN_model_testing_8.evaluate(x_test, y_test_to20, verbose=2)\n",
        "MyCNN_test_loss_testing, MyCNN_test_acc_testing = MyCNN_model_testing_9.evaluate(x_test, y_test_to20, verbose=2)\n"
      ]
    },
    {
      "cell_type": "markdown",
      "source": [
        "Row 1: with data augmentation<br>\n",
        "Row 2: without data augmentation<br>\n",
        "Row 3: without data augmentation and different callback<br>\n",
        "\n",
        "From the above graphs we can conclude that no data augmentation leads to better overall accuracy and a bigger dropout leads to more epochs beeing tested which can also be done with the change of the callback variable as seen in Row 3."
      ],
      "metadata": {
        "id": "dqY2eCMjsId2"
      }
    },
    {
      "cell_type": "markdown",
      "metadata": {
        "id": "_jU64icrUzkq"
      },
      "source": [
        "#### **Ερώτημα 3**"
      ]
    },
    {
      "cell_type": "markdown",
      "metadata": {
        "id": "iADQl3fWCk_w"
      },
      "source": [
        "###### Βήμα 1"
      ]
    },
    {
      "cell_type": "code",
      "execution_count": null,
      "metadata": {
        "id": "ODTbBm7ICzEj"
      },
      "outputs": [],
      "source": [
        "# Initialization of a pre-trained model\n",
        "pretrained_model_VGG = tf.keras.applications.VGG19(input_shape=(32,32,3), include_top=False)\n",
        "pretrained_model_EfficientNet = tf.keras.applications.efficientnet.EfficientNetB0(input_shape=(32,32,3), include_top=False)\n",
        "pretrained_model_VGG.trainable = False\n",
        "pretrained_model_EfficientNet.trainable=False"
      ]
    },
    {
      "cell_type": "code",
      "execution_count": null,
      "metadata": {
        "id": "OVdR5K2nC8Y6"
      },
      "outputs": [],
      "source": [
        "# Create a MyCNN model variant using the pre-trained model as a base\n",
        "def MyCNN_with_transfer_learning(data_aug_flag, dropout_val,pretrained_model):\n",
        "  model = models.Sequential()\n",
        "  model.add(pretrained_model)\n",
        "  model.add(layers.Flatten())\n",
        "  model.add(layers.Dense(200, activation='relu'))\n",
        "  model.add(dropout(dropout_val))\n",
        "  model.add(layers.Dense(20))\n",
        "  return model"
      ]
    },
    {
      "cell_type": "code",
      "execution_count": null,
      "metadata": {
        "colab": {
          "base_uri": "https://localhost:8080/"
        },
        "id": "0JYObSNIDB_U",
        "outputId": "de447705-cc0a-4a07-fa7d-bbb3c451ff95"
      },
      "outputs": [
        {
          "output_type": "stream",
          "name": "stdout",
          "text": [
            "                                   VGG         EfficientNet\n",
            "Functional      output shape: (1, 1, 1, 512),(1, 1, 1, 1280)\n",
            "Flatten         output shape: (1, 512),(1, 1280)\n",
            "Dense           output shape: (1, 200),(1, 200)\n",
            "Sequential      output shape: (1, 200),(1, 200)\n",
            "Dense           output shape: (1, 20),(1, 20)\n"
          ]
        }
      ],
      "source": [
        "X1 = tf.random.uniform((1, 32, 32, 3)) \n",
        "X2 = tf.random.uniform((1, 32, 32, 3)) \n",
        "MyCNN_with_transfer_learning_VGG1=MyCNN_with_transfer_learning(True, 0.5,pretrained_model_VGG).layers\n",
        "MyCNN_with_transfer_learning_EfficientNet1=MyCNN_with_transfer_learning(True, 0.5,pretrained_model_EfficientNet).layers\n",
        "print('                                   VGG         EfficientNet')\n",
        "for i,layer in enumerate(MyCNN_with_transfer_learning_VGG1):\n",
        "    X1 = MyCNN_with_transfer_learning_VGG1[i](X1)\n",
        "    X2 = MyCNN_with_transfer_learning_EfficientNet1[i](X2)\n",
        "    print(f'{layer.__class__.__name__:15} output shape: {X1.shape},{X2.shape}')"
      ]
    },
    {
      "cell_type": "code",
      "source": [
        "MyCNN_with_transfer_learning_VGG2 = MyCNN_with_transfer_learning(False, 0.1,pretrained_model_VGG)\n",
        "callback = callback_fun('accuracy', 0.01, 1)\n",
        "\n",
        "MyCNN_with_transfer_learning_VGG2.compile(optimizer='Adam',\n",
        "              loss=tf.keras.losses.SparseCategoricalCrossentropy(from_logits=True),\n",
        "              metrics=['accuracy'])\n",
        "\n",
        "MyCNN_history_testing_transfer_learning_1 = MyCNN_with_transfer_learning_VGG2.fit(x_train, y_train_to20, epochs=35, batch_size=128,\n",
        "                    validation_data=(x_val, y_val_to20), callbacks=[callback])"
      ],
      "metadata": {
        "colab": {
          "base_uri": "https://localhost:8080/"
        },
        "id": "rEk7J-lvHM2H",
        "outputId": "e01a17e1-8d53-4341-ee33-e5c231a79b27"
      },
      "execution_count": null,
      "outputs": [
        {
          "output_type": "stream",
          "name": "stdout",
          "text": [
            "Epoch 1/35\n",
            "67/67 [==============================] - 4s 37ms/step - loss: 2.1620 - accuracy: 0.3465 - val_loss: 1.7322 - val_accuracy: 0.4660\n",
            "Epoch 2/35\n",
            "67/67 [==============================] - 2s 26ms/step - loss: 1.6407 - accuracy: 0.4849 - val_loss: 1.5533 - val_accuracy: 0.5200\n",
            "Epoch 3/35\n",
            "67/67 [==============================] - 2s 27ms/step - loss: 1.4841 - accuracy: 0.5328 - val_loss: 1.4524 - val_accuracy: 0.5473\n",
            "Epoch 4/35\n",
            "67/67 [==============================] - 2s 27ms/step - loss: 1.4022 - accuracy: 0.5602 - val_loss: 1.4118 - val_accuracy: 0.5573\n",
            "Epoch 5/35\n",
            "67/67 [==============================] - 2s 28ms/step - loss: 1.3356 - accuracy: 0.5800 - val_loss: 1.3992 - val_accuracy: 0.5520\n",
            "Epoch 6/35\n",
            "67/67 [==============================] - 2s 28ms/step - loss: 1.2936 - accuracy: 0.5900 - val_loss: 1.3577 - val_accuracy: 0.5800\n"
          ]
        }
      ]
    },
    {
      "cell_type": "code",
      "source": [
        "MyCNN_with_transfer_learning_EfficientNet2 = MyCNN_with_transfer_learning(False, 0.1,pretrained_model_EfficientNet)\n",
        "callback = callback_fun('accuracy', 0.01, 1)\n",
        "\n",
        "MyCNN_with_transfer_learning_EfficientNet2.compile(optimizer='Adam',\n",
        "              loss=tf.keras.losses.SparseCategoricalCrossentropy(from_logits=True),\n",
        "              metrics=['accuracy'])\n",
        "\n",
        "MyCNN_history_testing_transfer_learning_2 = MyCNN_with_transfer_learning_EfficientNet2.fit(x_train, y_train_to20, epochs=35, batch_size=128,\n",
        "                    validation_data=(x_val, y_val_to20), callbacks=[callback])"
      ],
      "metadata": {
        "colab": {
          "base_uri": "https://localhost:8080/"
        },
        "id": "I1bNZTfxGVdg",
        "outputId": "1001d4d8-bdff-40d9-a34a-efe9af8b8747"
      },
      "execution_count": null,
      "outputs": [
        {
          "output_type": "stream",
          "name": "stdout",
          "text": [
            "Epoch 1/35\n",
            "67/67 [==============================] - 11s 53ms/step - loss: 3.0130 - accuracy: 0.0493 - val_loss: 3.0014 - val_accuracy: 0.0407\n",
            "Epoch 2/35\n",
            "67/67 [==============================] - 1s 18ms/step - loss: 2.9970 - accuracy: 0.0449 - val_loss: 2.9959 - val_accuracy: 0.0433\n"
          ]
        }
      ]
    },
    {
      "cell_type": "markdown",
      "metadata": {
        "id": "rRrHjbDRDc3_"
      },
      "source": [
        "###### Βήμα 2"
      ]
    },
    {
      "cell_type": "code",
      "execution_count": null,
      "metadata": {
        "colab": {
          "base_uri": "https://localhost:8080/"
        },
        "id": "-ooMDbHmDwEM",
        "outputId": "26f7a9dd-3ae0-41db-87f5-bedec1cc6adf"
      },
      "outputs": [
        {
          "output_type": "stream",
          "name": "stdout",
          "text": [
            "   1 InputLayer      output shape: (1, 32, 32, 3)\n",
            "   2 Conv2D          output shape: (1, 32, 32, 64)\n",
            "   3 Conv2D          output shape: (1, 32, 32, 64)\n",
            "   4 MaxPooling2D    output shape: (1, 16, 16, 64)\n",
            "   5 Conv2D          output shape: (1, 16, 16, 128)\n",
            "   6 Conv2D          output shape: (1, 16, 16, 128)\n",
            "   7 MaxPooling2D    output shape: (1, 8, 8, 128)\n",
            "   8 Conv2D          output shape: (1, 8, 8, 256)\n",
            "   9 Conv2D          output shape: (1, 8, 8, 256)\n",
            "  10 Conv2D          output shape: (1, 8, 8, 256)\n",
            "  11 Conv2D          output shape: (1, 8, 8, 256)\n",
            "  12 MaxPooling2D    output shape: (1, 4, 4, 256)\n",
            "  13 Conv2D          output shape: (1, 4, 4, 512)\n",
            "  14 Conv2D          output shape: (1, 4, 4, 512)\n",
            "  15 Conv2D          output shape: (1, 4, 4, 512)\n",
            "  16 Conv2D          output shape: (1, 4, 4, 512)\n",
            "  17 MaxPooling2D    output shape: (1, 2, 2, 512)\n",
            "  18 Conv2D          output shape: (1, 2, 2, 512)\n",
            "  19 Conv2D          output shape: (1, 2, 2, 512)\n",
            "  20 Conv2D          output shape: (1, 2, 2, 512)\n",
            "  21 Conv2D          output shape: (1, 2, 2, 512)\n",
            "  22 MaxPooling2D    output shape: (1, 1, 1, 512)\n"
          ]
        }
      ],
      "source": [
        "# Pre-trained network level control VGG19\n",
        "pretrained_model_VGG_2 = tf.keras.applications.VGG19(input_shape=(32,32,3), include_top=False)\n",
        "\n",
        "X = tf.random.uniform((1, 32, 32, 3)) \n",
        "for i,layer in enumerate(pretrained_model_VGG_2.layers):\n",
        "    X = layer(X)\n",
        "    print(f'{i+1 :4} {layer.__class__.__name__:15} output shape: {X.shape}')"
      ]
    },
    {
      "cell_type": "code",
      "source": [
        "# Pre-trained network level control EfficientNetB0\n",
        "pretrained_model_EfficientNet_2 = tf.keras.applications.efficientnet.EfficientNetB0(input_shape=(32,32,3), include_top=False)\n",
        "\n",
        "X3= tf.random.uniform((1, 32, 32, 3)) \n",
        "for i,layer in enumerate(pretrained_model_EfficientNet_2.layers):\n",
        "    # print(layer)\n",
        "    try:\n",
        "      X3= layer(X3)\n",
        "      print(f'{i+1 :4} {layer.__class__.__name__:15} output shape: {X.shape}')\n",
        "    except:\n",
        "      print(f'Exception at {layer}')"
      ],
      "metadata": {
        "colab": {
          "base_uri": "https://localhost:8080/"
        },
        "id": "RPhhULyTJU9A",
        "outputId": "0aef884a-908f-400b-e2cd-0525ffb3da82"
      },
      "execution_count": null,
      "outputs": [
        {
          "output_type": "stream",
          "name": "stdout",
          "text": [
            "   1 InputLayer      output shape: (1, 1, 1, 512)\n",
            "   2 Rescaling       output shape: (1, 1, 1, 512)\n",
            "   3 Normalization   output shape: (1, 1, 1, 512)\n",
            "   4 Rescaling       output shape: (1, 1, 1, 512)\n",
            "   5 ZeroPadding2D   output shape: (1, 1, 1, 512)\n",
            "   6 Conv2D          output shape: (1, 1, 1, 512)\n",
            "   7 BatchNormalization output shape: (1, 1, 1, 512)\n",
            "   8 Activation      output shape: (1, 1, 1, 512)\n",
            "   9 DepthwiseConv2D output shape: (1, 1, 1, 512)\n",
            "  10 BatchNormalization output shape: (1, 1, 1, 512)\n",
            "  11 Activation      output shape: (1, 1, 1, 512)\n",
            "  12 GlobalAveragePooling2D output shape: (1, 1, 1, 512)\n",
            "  13 Reshape         output shape: (1, 1, 1, 512)\n",
            "  14 Conv2D          output shape: (1, 1, 1, 512)\n",
            "  15 Conv2D          output shape: (1, 1, 1, 512)\n",
            "Exception at <keras.layers.merging.multiply.Multiply object at 0x7f9ce3676a40>\n",
            "  17 Conv2D          output shape: (1, 1, 1, 512)\n",
            "  18 BatchNormalization output shape: (1, 1, 1, 512)\n",
            "  19 Conv2D          output shape: (1, 1, 1, 512)\n",
            "  20 BatchNormalization output shape: (1, 1, 1, 512)\n",
            "  21 Activation      output shape: (1, 1, 1, 512)\n",
            "  22 ZeroPadding2D   output shape: (1, 1, 1, 512)\n",
            "  23 DepthwiseConv2D output shape: (1, 1, 1, 512)\n",
            "  24 BatchNormalization output shape: (1, 1, 1, 512)\n",
            "  25 Activation      output shape: (1, 1, 1, 512)\n",
            "  26 GlobalAveragePooling2D output shape: (1, 1, 1, 512)\n",
            "  27 Reshape         output shape: (1, 1, 1, 512)\n",
            "  28 Conv2D          output shape: (1, 1, 1, 512)\n",
            "  29 Conv2D          output shape: (1, 1, 1, 512)\n",
            "Exception at <keras.layers.merging.multiply.Multiply object at 0x7f9d00ede8c0>\n",
            "  31 Conv2D          output shape: (1, 1, 1, 512)\n",
            "  32 BatchNormalization output shape: (1, 1, 1, 512)\n",
            "  33 Conv2D          output shape: (1, 1, 1, 512)\n",
            "  34 BatchNormalization output shape: (1, 1, 1, 512)\n",
            "  35 Activation      output shape: (1, 1, 1, 512)\n",
            "  36 DepthwiseConv2D output shape: (1, 1, 1, 512)\n",
            "  37 BatchNormalization output shape: (1, 1, 1, 512)\n",
            "  38 Activation      output shape: (1, 1, 1, 512)\n",
            "  39 GlobalAveragePooling2D output shape: (1, 1, 1, 512)\n",
            "  40 Reshape         output shape: (1, 1, 1, 512)\n",
            "  41 Conv2D          output shape: (1, 1, 1, 512)\n",
            "  42 Conv2D          output shape: (1, 1, 1, 512)\n",
            "Exception at <keras.layers.merging.multiply.Multiply object at 0x7f9ce36b8130>\n",
            "  44 Conv2D          output shape: (1, 1, 1, 512)\n",
            "  45 BatchNormalization output shape: (1, 1, 1, 512)\n",
            "  46 Dropout         output shape: (1, 1, 1, 512)\n",
            "Exception at <keras.layers.merging.add.Add object at 0x7f9d00edeec0>\n",
            "  48 Conv2D          output shape: (1, 1, 1, 512)\n",
            "  49 BatchNormalization output shape: (1, 1, 1, 512)\n",
            "  50 Activation      output shape: (1, 1, 1, 512)\n",
            "  51 ZeroPadding2D   output shape: (1, 1, 1, 512)\n",
            "  52 DepthwiseConv2D output shape: (1, 1, 1, 512)\n",
            "  53 BatchNormalization output shape: (1, 1, 1, 512)\n",
            "  54 Activation      output shape: (1, 1, 1, 512)\n",
            "  55 GlobalAveragePooling2D output shape: (1, 1, 1, 512)\n",
            "  56 Reshape         output shape: (1, 1, 1, 512)\n",
            "  57 Conv2D          output shape: (1, 1, 1, 512)\n",
            "  58 Conv2D          output shape: (1, 1, 1, 512)\n",
            "Exception at <keras.layers.merging.multiply.Multiply object at 0x7f9ceff18640>\n",
            "  60 Conv2D          output shape: (1, 1, 1, 512)\n",
            "  61 BatchNormalization output shape: (1, 1, 1, 512)\n",
            "  62 Conv2D          output shape: (1, 1, 1, 512)\n",
            "  63 BatchNormalization output shape: (1, 1, 1, 512)\n",
            "  64 Activation      output shape: (1, 1, 1, 512)\n",
            "  65 DepthwiseConv2D output shape: (1, 1, 1, 512)\n",
            "  66 BatchNormalization output shape: (1, 1, 1, 512)\n",
            "  67 Activation      output shape: (1, 1, 1, 512)\n",
            "  68 GlobalAveragePooling2D output shape: (1, 1, 1, 512)\n",
            "  69 Reshape         output shape: (1, 1, 1, 512)\n",
            "  70 Conv2D          output shape: (1, 1, 1, 512)\n",
            "  71 Conv2D          output shape: (1, 1, 1, 512)\n",
            "Exception at <keras.layers.merging.multiply.Multiply object at 0x7f9ceff4f1f0>\n",
            "  73 Conv2D          output shape: (1, 1, 1, 512)\n",
            "  74 BatchNormalization output shape: (1, 1, 1, 512)\n",
            "  75 Dropout         output shape: (1, 1, 1, 512)\n",
            "Exception at <keras.layers.merging.add.Add object at 0x7f9ce3637160>\n",
            "  77 Conv2D          output shape: (1, 1, 1, 512)\n",
            "  78 BatchNormalization output shape: (1, 1, 1, 512)\n",
            "  79 Activation      output shape: (1, 1, 1, 512)\n",
            "  80 ZeroPadding2D   output shape: (1, 1, 1, 512)\n",
            "  81 DepthwiseConv2D output shape: (1, 1, 1, 512)\n",
            "  82 BatchNormalization output shape: (1, 1, 1, 512)\n",
            "  83 Activation      output shape: (1, 1, 1, 512)\n",
            "  84 GlobalAveragePooling2D output shape: (1, 1, 1, 512)\n",
            "  85 Reshape         output shape: (1, 1, 1, 512)\n",
            "  86 Conv2D          output shape: (1, 1, 1, 512)\n",
            "  87 Conv2D          output shape: (1, 1, 1, 512)\n",
            "Exception at <keras.layers.merging.multiply.Multiply object at 0x7f9ceff80910>\n",
            "  89 Conv2D          output shape: (1, 1, 1, 512)\n",
            "  90 BatchNormalization output shape: (1, 1, 1, 512)\n",
            "  91 Conv2D          output shape: (1, 1, 1, 512)\n",
            "  92 BatchNormalization output shape: (1, 1, 1, 512)\n",
            "  93 Activation      output shape: (1, 1, 1, 512)\n",
            "  94 DepthwiseConv2D output shape: (1, 1, 1, 512)\n",
            "  95 BatchNormalization output shape: (1, 1, 1, 512)\n",
            "  96 Activation      output shape: (1, 1, 1, 512)\n",
            "  97 GlobalAveragePooling2D output shape: (1, 1, 1, 512)\n",
            "  98 Reshape         output shape: (1, 1, 1, 512)\n",
            "  99 Conv2D          output shape: (1, 1, 1, 512)\n",
            " 100 Conv2D          output shape: (1, 1, 1, 512)\n",
            "Exception at <keras.layers.merging.multiply.Multiply object at 0x7f9ceff95bd0>\n",
            " 102 Conv2D          output shape: (1, 1, 1, 512)\n",
            " 103 BatchNormalization output shape: (1, 1, 1, 512)\n",
            " 104 Dropout         output shape: (1, 1, 1, 512)\n",
            "Exception at <keras.layers.merging.add.Add object at 0x7f9ceff4eef0>\n",
            " 106 Conv2D          output shape: (1, 1, 1, 512)\n",
            " 107 BatchNormalization output shape: (1, 1, 1, 512)\n",
            " 108 Activation      output shape: (1, 1, 1, 512)\n",
            " 109 DepthwiseConv2D output shape: (1, 1, 1, 512)\n",
            " 110 BatchNormalization output shape: (1, 1, 1, 512)\n",
            " 111 Activation      output shape: (1, 1, 1, 512)\n",
            " 112 GlobalAveragePooling2D output shape: (1, 1, 1, 512)\n",
            " 113 Reshape         output shape: (1, 1, 1, 512)\n",
            " 114 Conv2D          output shape: (1, 1, 1, 512)\n",
            " 115 Conv2D          output shape: (1, 1, 1, 512)\n",
            "Exception at <keras.layers.merging.multiply.Multiply object at 0x7f9ceffb3a90>\n",
            " 117 Conv2D          output shape: (1, 1, 1, 512)\n",
            " 118 BatchNormalization output shape: (1, 1, 1, 512)\n",
            " 119 Dropout         output shape: (1, 1, 1, 512)\n",
            "Exception at <keras.layers.merging.add.Add object at 0x7f9ceff82c50>\n",
            " 121 Conv2D          output shape: (1, 1, 1, 512)\n",
            " 122 BatchNormalization output shape: (1, 1, 1, 512)\n",
            " 123 Activation      output shape: (1, 1, 1, 512)\n",
            " 124 DepthwiseConv2D output shape: (1, 1, 1, 512)\n",
            " 125 BatchNormalization output shape: (1, 1, 1, 512)\n",
            " 126 Activation      output shape: (1, 1, 1, 512)\n",
            " 127 GlobalAveragePooling2D output shape: (1, 1, 1, 512)\n",
            " 128 Reshape         output shape: (1, 1, 1, 512)\n",
            " 129 Conv2D          output shape: (1, 1, 1, 512)\n",
            " 130 Conv2D          output shape: (1, 1, 1, 512)\n",
            "Exception at <keras.layers.merging.multiply.Multiply object at 0x7f9cefff9960>\n",
            " 132 Conv2D          output shape: (1, 1, 1, 512)\n",
            " 133 BatchNormalization output shape: (1, 1, 1, 512)\n",
            " 134 Conv2D          output shape: (1, 1, 1, 512)\n",
            " 135 BatchNormalization output shape: (1, 1, 1, 512)\n",
            " 136 Activation      output shape: (1, 1, 1, 512)\n",
            " 137 DepthwiseConv2D output shape: (1, 1, 1, 512)\n",
            " 138 BatchNormalization output shape: (1, 1, 1, 512)\n",
            " 139 Activation      output shape: (1, 1, 1, 512)\n",
            " 140 GlobalAveragePooling2D output shape: (1, 1, 1, 512)\n",
            " 141 Reshape         output shape: (1, 1, 1, 512)\n",
            " 142 Conv2D          output shape: (1, 1, 1, 512)\n",
            " 143 Conv2D          output shape: (1, 1, 1, 512)\n",
            "Exception at <keras.layers.merging.multiply.Multiply object at 0x7f9cefe54460>\n",
            " 145 Conv2D          output shape: (1, 1, 1, 512)\n",
            " 146 BatchNormalization output shape: (1, 1, 1, 512)\n",
            " 147 Dropout         output shape: (1, 1, 1, 512)\n",
            "Exception at <keras.layers.merging.add.Add object at 0x7f9ceff804c0>\n",
            " 149 Conv2D          output shape: (1, 1, 1, 512)\n",
            " 150 BatchNormalization output shape: (1, 1, 1, 512)\n",
            " 151 Activation      output shape: (1, 1, 1, 512)\n",
            " 152 DepthwiseConv2D output shape: (1, 1, 1, 512)\n",
            " 153 BatchNormalization output shape: (1, 1, 1, 512)\n",
            " 154 Activation      output shape: (1, 1, 1, 512)\n",
            " 155 GlobalAveragePooling2D output shape: (1, 1, 1, 512)\n",
            " 156 Reshape         output shape: (1, 1, 1, 512)\n",
            " 157 Conv2D          output shape: (1, 1, 1, 512)\n",
            " 158 Conv2D          output shape: (1, 1, 1, 512)\n",
            "Exception at <keras.layers.merging.multiply.Multiply object at 0x7f9cefe79b10>\n",
            " 160 Conv2D          output shape: (1, 1, 1, 512)\n",
            " 161 BatchNormalization output shape: (1, 1, 1, 512)\n",
            " 162 Dropout         output shape: (1, 1, 1, 512)\n",
            "Exception at <keras.layers.merging.add.Add object at 0x7f9cefe57cd0>\n",
            " 164 Conv2D          output shape: (1, 1, 1, 512)\n",
            " 165 BatchNormalization output shape: (1, 1, 1, 512)\n",
            " 166 Activation      output shape: (1, 1, 1, 512)\n",
            " 167 ZeroPadding2D   output shape: (1, 1, 1, 512)\n",
            " 168 DepthwiseConv2D output shape: (1, 1, 1, 512)\n",
            " 169 BatchNormalization output shape: (1, 1, 1, 512)\n",
            " 170 Activation      output shape: (1, 1, 1, 512)\n",
            " 171 GlobalAveragePooling2D output shape: (1, 1, 1, 512)\n",
            " 172 Reshape         output shape: (1, 1, 1, 512)\n",
            " 173 Conv2D          output shape: (1, 1, 1, 512)\n",
            " 174 Conv2D          output shape: (1, 1, 1, 512)\n",
            "Exception at <keras.layers.merging.multiply.Multiply object at 0x7f9cefeaf880>\n",
            " 176 Conv2D          output shape: (1, 1, 1, 512)\n",
            " 177 BatchNormalization output shape: (1, 1, 1, 512)\n",
            " 178 Conv2D          output shape: (1, 1, 1, 512)\n",
            " 179 BatchNormalization output shape: (1, 1, 1, 512)\n",
            " 180 Activation      output shape: (1, 1, 1, 512)\n",
            " 181 DepthwiseConv2D output shape: (1, 1, 1, 512)\n",
            " 182 BatchNormalization output shape: (1, 1, 1, 512)\n",
            " 183 Activation      output shape: (1, 1, 1, 512)\n",
            " 184 GlobalAveragePooling2D output shape: (1, 1, 1, 512)\n",
            " 185 Reshape         output shape: (1, 1, 1, 512)\n",
            " 186 Conv2D          output shape: (1, 1, 1, 512)\n",
            " 187 Conv2D          output shape: (1, 1, 1, 512)\n",
            "Exception at <keras.layers.merging.multiply.Multiply object at 0x7f9cefef6230>\n",
            " 189 Conv2D          output shape: (1, 1, 1, 512)\n",
            " 190 BatchNormalization output shape: (1, 1, 1, 512)\n",
            " 191 Dropout         output shape: (1, 1, 1, 512)\n",
            "Exception at <keras.layers.merging.add.Add object at 0x7f9cefed4a90>\n",
            " 193 Conv2D          output shape: (1, 1, 1, 512)\n",
            " 194 BatchNormalization output shape: (1, 1, 1, 512)\n",
            " 195 Activation      output shape: (1, 1, 1, 512)\n",
            " 196 DepthwiseConv2D output shape: (1, 1, 1, 512)\n",
            " 197 BatchNormalization output shape: (1, 1, 1, 512)\n",
            " 198 Activation      output shape: (1, 1, 1, 512)\n",
            " 199 GlobalAveragePooling2D output shape: (1, 1, 1, 512)\n",
            " 200 Reshape         output shape: (1, 1, 1, 512)\n",
            " 201 Conv2D          output shape: (1, 1, 1, 512)\n",
            " 202 Conv2D          output shape: (1, 1, 1, 512)\n",
            "Exception at <keras.layers.merging.multiply.Multiply object at 0x7f9cefd1bfa0>\n",
            " 204 Conv2D          output shape: (1, 1, 1, 512)\n",
            " 205 BatchNormalization output shape: (1, 1, 1, 512)\n",
            " 206 Dropout         output shape: (1, 1, 1, 512)\n",
            "Exception at <keras.layers.merging.add.Add object at 0x7f9cefed6950>\n",
            " 208 Conv2D          output shape: (1, 1, 1, 512)\n",
            " 209 BatchNormalization output shape: (1, 1, 1, 512)\n",
            " 210 Activation      output shape: (1, 1, 1, 512)\n",
            " 211 DepthwiseConv2D output shape: (1, 1, 1, 512)\n",
            " 212 BatchNormalization output shape: (1, 1, 1, 512)\n",
            " 213 Activation      output shape: (1, 1, 1, 512)\n",
            " 214 GlobalAveragePooling2D output shape: (1, 1, 1, 512)\n",
            " 215 Reshape         output shape: (1, 1, 1, 512)\n",
            " 216 Conv2D          output shape: (1, 1, 1, 512)\n",
            " 217 Conv2D          output shape: (1, 1, 1, 512)\n",
            "Exception at <keras.layers.merging.multiply.Multiply object at 0x7f9cefd5b2e0>\n",
            " 219 Conv2D          output shape: (1, 1, 1, 512)\n",
            " 220 BatchNormalization output shape: (1, 1, 1, 512)\n",
            " 221 Dropout         output shape: (1, 1, 1, 512)\n",
            "Exception at <keras.layers.merging.add.Add object at 0x7f9cefd19f60>\n",
            " 223 Conv2D          output shape: (1, 1, 1, 512)\n",
            " 224 BatchNormalization output shape: (1, 1, 1, 512)\n",
            " 225 Activation      output shape: (1, 1, 1, 512)\n",
            " 226 DepthwiseConv2D output shape: (1, 1, 1, 512)\n",
            " 227 BatchNormalization output shape: (1, 1, 1, 512)\n",
            " 228 Activation      output shape: (1, 1, 1, 512)\n",
            " 229 GlobalAveragePooling2D output shape: (1, 1, 1, 512)\n",
            " 230 Reshape         output shape: (1, 1, 1, 512)\n",
            " 231 Conv2D          output shape: (1, 1, 1, 512)\n",
            " 232 Conv2D          output shape: (1, 1, 1, 512)\n",
            "Exception at <keras.layers.merging.multiply.Multiply object at 0x7f9cefd59ba0>\n",
            " 234 Conv2D          output shape: (1, 1, 1, 512)\n",
            " 235 BatchNormalization output shape: (1, 1, 1, 512)\n",
            " 236 Conv2D          output shape: (1, 1, 1, 512)\n",
            " 237 BatchNormalization output shape: (1, 1, 1, 512)\n",
            " 238 Activation      output shape: (1, 1, 1, 512)\n"
          ]
        }
      ]
    },
    {
      "cell_type": "code",
      "execution_count": null,
      "metadata": {
        "colab": {
          "base_uri": "https://localhost:8080/"
        },
        "id": "PP4X8VtrD0MM",
        "outputId": "7da7d18c-ce51-40fc-8ddd-2d7080cb4a4a"
      },
      "outputs": [
        {
          "output_type": "stream",
          "name": "stdout",
          "text": [
            "1 False\n",
            "2 False\n",
            "3 False\n",
            "4 False\n",
            "5 False\n",
            "6 False\n",
            "7 False\n",
            "8 False\n",
            "9 False\n",
            "10 False\n",
            "11 False\n",
            "12 False\n",
            "13 False\n",
            "14 True\n",
            "15 True\n",
            "16 True\n",
            "17 True\n",
            "18 True\n",
            "19 True\n",
            "20 True\n",
            "21 True\n",
            "22 True\n"
          ]
        }
      ],
      "source": [
        "# Set trainable flags as True for levels 1-22\n",
        "for i,layer in enumerate(pretrained_model_VGG_2.layers):\n",
        "  if(i<=12):\n",
        "    layer.trainable = False\n",
        "  print(i+1,layer.trainable)"
      ]
    },
    {
      "cell_type": "code",
      "source": [
        "# Set trainable flags as True for levels 1-22\n",
        "for i,layer in enumerate(pretrained_model_EfficientNet_2.layers):\n",
        "  if(i<=100):\n",
        "    try:\n",
        "      layer.trainable = False\n",
        "      print(i+1,layer.trainable)\n",
        "    except:\n",
        "      print(f'Exception at {i+1}')\n",
        "  else:   \n",
        "    print(i+1,layer.trainable)"
      ],
      "metadata": {
        "colab": {
          "base_uri": "https://localhost:8080/"
        },
        "id": "AJFLdvCQMJVX",
        "outputId": "d07959c8-e2e3-4913-dc4a-d3775642969d"
      },
      "execution_count": null,
      "outputs": [
        {
          "output_type": "stream",
          "name": "stdout",
          "text": [
            "1 False\n",
            "2 False\n",
            "3 False\n",
            "4 False\n",
            "5 False\n",
            "6 False\n",
            "7 False\n",
            "8 False\n",
            "9 False\n",
            "10 False\n",
            "11 False\n",
            "12 False\n",
            "13 False\n",
            "14 False\n",
            "15 False\n",
            "16 False\n",
            "17 False\n",
            "18 False\n",
            "19 False\n",
            "20 False\n",
            "21 False\n",
            "22 False\n",
            "23 False\n",
            "24 False\n",
            "25 False\n",
            "26 False\n",
            "27 False\n",
            "28 False\n",
            "29 False\n",
            "30 False\n",
            "31 False\n",
            "32 False\n",
            "33 False\n",
            "34 False\n",
            "35 False\n",
            "36 False\n",
            "37 False\n",
            "38 False\n",
            "39 False\n",
            "40 False\n",
            "41 False\n",
            "42 False\n",
            "43 False\n",
            "44 False\n",
            "45 False\n",
            "46 False\n",
            "47 False\n",
            "48 False\n",
            "49 False\n",
            "50 False\n",
            "51 False\n",
            "52 False\n",
            "53 False\n",
            "54 False\n",
            "55 False\n",
            "56 False\n",
            "57 False\n",
            "58 False\n",
            "59 False\n",
            "60 False\n",
            "61 False\n",
            "62 False\n",
            "63 False\n",
            "64 False\n",
            "65 False\n",
            "66 False\n",
            "67 False\n",
            "68 False\n",
            "69 False\n",
            "70 False\n",
            "71 False\n",
            "72 False\n",
            "73 False\n",
            "74 False\n",
            "75 False\n",
            "76 False\n",
            "77 False\n",
            "78 False\n",
            "79 False\n",
            "80 False\n",
            "81 False\n",
            "82 False\n",
            "83 False\n",
            "84 False\n",
            "85 False\n",
            "86 False\n",
            "87 False\n",
            "88 False\n",
            "89 False\n",
            "90 False\n",
            "91 False\n",
            "92 False\n",
            "93 False\n",
            "94 False\n",
            "95 False\n",
            "96 False\n",
            "97 False\n",
            "98 False\n",
            "99 False\n",
            "100 False\n",
            "101 False\n",
            "102 True\n",
            "103 True\n",
            "104 True\n",
            "105 True\n",
            "106 True\n",
            "107 True\n",
            "108 True\n",
            "109 True\n",
            "110 True\n",
            "111 True\n",
            "112 True\n",
            "113 True\n",
            "114 True\n",
            "115 True\n",
            "116 True\n",
            "117 True\n",
            "118 True\n",
            "119 True\n",
            "120 True\n",
            "121 True\n",
            "122 True\n",
            "123 True\n",
            "124 True\n",
            "125 True\n",
            "126 True\n",
            "127 True\n",
            "128 True\n",
            "129 True\n",
            "130 True\n",
            "131 True\n",
            "132 True\n",
            "133 True\n",
            "134 True\n",
            "135 True\n",
            "136 True\n",
            "137 True\n",
            "138 True\n",
            "139 True\n",
            "140 True\n",
            "141 True\n",
            "142 True\n",
            "143 True\n",
            "144 True\n",
            "145 True\n",
            "146 True\n",
            "147 True\n",
            "148 True\n",
            "149 True\n",
            "150 True\n",
            "151 True\n",
            "152 True\n",
            "153 True\n",
            "154 True\n",
            "155 True\n",
            "156 True\n",
            "157 True\n",
            "158 True\n",
            "159 True\n",
            "160 True\n",
            "161 True\n",
            "162 True\n",
            "163 True\n",
            "164 True\n",
            "165 True\n",
            "166 True\n",
            "167 True\n",
            "168 True\n",
            "169 True\n",
            "170 True\n",
            "171 True\n",
            "172 True\n",
            "173 True\n",
            "174 True\n",
            "175 True\n",
            "176 True\n",
            "177 True\n",
            "178 True\n",
            "179 True\n",
            "180 True\n",
            "181 True\n",
            "182 True\n",
            "183 True\n",
            "184 True\n",
            "185 True\n",
            "186 True\n",
            "187 True\n",
            "188 True\n",
            "189 True\n",
            "190 True\n",
            "191 True\n",
            "192 True\n",
            "193 True\n",
            "194 True\n",
            "195 True\n",
            "196 True\n",
            "197 True\n",
            "198 True\n",
            "199 True\n",
            "200 True\n",
            "201 True\n",
            "202 True\n",
            "203 True\n",
            "204 True\n",
            "205 True\n",
            "206 True\n",
            "207 True\n",
            "208 True\n",
            "209 True\n",
            "210 True\n",
            "211 True\n",
            "212 True\n",
            "213 True\n",
            "214 True\n",
            "215 True\n",
            "216 True\n",
            "217 True\n",
            "218 True\n",
            "219 True\n",
            "220 True\n",
            "221 True\n",
            "222 True\n",
            "223 True\n",
            "224 True\n",
            "225 True\n",
            "226 True\n",
            "227 True\n",
            "228 True\n",
            "229 True\n",
            "230 True\n",
            "231 True\n",
            "232 True\n",
            "233 True\n",
            "234 True\n",
            "235 True\n",
            "236 True\n",
            "237 True\n",
            "238 True\n"
          ]
        }
      ]
    },
    {
      "cell_type": "code",
      "execution_count": null,
      "metadata": {
        "colab": {
          "base_uri": "https://localhost:8080/"
        },
        "id": "IBdgtLwAEBeI",
        "outputId": "2d485d70-bded-4c4f-c390-5c0fda64608f"
      },
      "outputs": [
        {
          "output_type": "stream",
          "name": "stdout",
          "text": [
            "                                   VGG         EfficientNet\n",
            "Functional      output shape: (1, 1, 1, 512),(1, 1, 1, 1280)\n",
            "Flatten         output shape: (1, 512),(1, 1280)\n",
            "Dense           output shape: (1, 200),(1, 200)\n",
            "Sequential      output shape: (1, 200),(1, 200)\n",
            "Dense           output shape: (1, 20),(1, 20)\n"
          ]
        }
      ],
      "source": [
        "X1 = tf.random.uniform((1, 32, 32, 3)) \n",
        "X2 = tf.random.uniform((1, 32, 32, 3)) \n",
        "MyCNN_with_transfer_learning_VGG3=MyCNN_with_transfer_learning(True, 0.5,pretrained_model_VGG_2).layers\n",
        "MyCNN_with_transfer_learning_EfficientNet3=MyCNN_with_transfer_learning(True, 0.5,pretrained_model_EfficientNet_2).layers\n",
        "print('                                   VGG         EfficientNet')\n",
        "for i,layer in enumerate(MyCNN_with_transfer_learning_VGG1):\n",
        "    X1 = MyCNN_with_transfer_learning_VGG3[i](X1)\n",
        "    X2 = MyCNN_with_transfer_learning_EfficientNet3[i](X2)\n",
        "    print(f'{layer.__class__.__name__:15} output shape: {X1.shape},{X2.shape}')"
      ]
    },
    {
      "cell_type": "code",
      "execution_count": null,
      "metadata": {
        "colab": {
          "base_uri": "https://localhost:8080/"
        },
        "id": "WGYcIkfHEZJO",
        "outputId": "fc5bdcdc-a720-4ae0-bb21-bd71cbe01932"
      },
      "outputs": [
        {
          "output_type": "stream",
          "name": "stdout",
          "text": [
            "Epoch 1/35\n",
            "67/67 [==============================] - 8s 59ms/step - loss: 3.0079 - accuracy: 0.0493 - val_loss: 2.9963 - val_accuracy: 0.0433\n",
            "Epoch 2/35\n",
            "67/67 [==============================] - 3s 48ms/step - loss: 2.9958 - accuracy: 0.0489 - val_loss: 2.9967 - val_accuracy: 0.0453\n",
            "Epoch 3/35\n",
            "67/67 [==============================] - 3s 48ms/step - loss: 2.9959 - accuracy: 0.0475 - val_loss: 2.9968 - val_accuracy: 0.0453\n"
          ]
        }
      ],
      "source": [
        "MyCNN_with_transfer_learning_VGG3 = MyCNN_with_transfer_learning(False, 0.1,pretrained_model_VGG_2)\n",
        "callback = callback_fun('loss', 0.05, 2)\n",
        "\n",
        "MyCNN_with_transfer_learning_VGG3.compile(optimizer='Adam',\n",
        "              loss=tf.keras.losses.SparseCategoricalCrossentropy(from_logits=True),\n",
        "              metrics=['accuracy'])\n",
        "\n",
        "MyCNN_history_testing_transfer_learning_3 = MyCNN_with_transfer_learning_VGG3.fit(x_train, y_train_to20, epochs=35, batch_size=128,\n",
        "                    validation_data=(x_val, y_val_to20), callbacks=[callback])"
      ]
    },
    {
      "cell_type": "code",
      "source": [
        "MyCNN_with_transfer_learning_EfficientNet3 = MyCNN_with_transfer_learning(False, 0.1,pretrained_model_EfficientNet_2)\n",
        "callback = callback_fun('loss', 0.05, 2)\n",
        "\n",
        "MyCNN_with_transfer_learning_EfficientNet3.compile(optimizer='Adam',\n",
        "              loss=tf.keras.losses.SparseCategoricalCrossentropy(from_logits=True),\n",
        "              metrics=['accuracy'])\n",
        "\n",
        "MyCNN_history_testing_transfer_learning_4 = MyCNN_with_transfer_learning_EfficientNet3.fit(x_train, y_train_to20, epochs=35, batch_size=128,\n",
        "                    validation_data=(x_val, y_val_to20), callbacks=[callback])"
      ],
      "metadata": {
        "colab": {
          "base_uri": "https://localhost:8080/"
        },
        "id": "howEwocmO3-9",
        "outputId": "7fc4489e-25b1-43e9-bf9e-c4ca689947ac"
      },
      "execution_count": null,
      "outputs": [
        {
          "output_type": "stream",
          "name": "stdout",
          "text": [
            "Epoch 1/35\n",
            "67/67 [==============================] - 32s 58ms/step - loss: 2.7249 - accuracy: 0.1821 - val_loss: 3.2372 - val_accuracy: 0.0553\n",
            "Epoch 2/35\n",
            "67/67 [==============================] - 2s 32ms/step - loss: 2.3474 - accuracy: 0.2752 - val_loss: 3.2649 - val_accuracy: 0.0480\n",
            "Epoch 3/35\n",
            "67/67 [==============================] - 2s 33ms/step - loss: 2.1882 - accuracy: 0.3236 - val_loss: 3.2757 - val_accuracy: 0.0607\n",
            "Epoch 4/35\n",
            "67/67 [==============================] - 3s 38ms/step - loss: 2.0946 - accuracy: 0.3496 - val_loss: 4.4491 - val_accuracy: 0.0533\n",
            "Epoch 5/35\n",
            "67/67 [==============================] - 2s 34ms/step - loss: 2.0120 - accuracy: 0.3692 - val_loss: 5.1386 - val_accuracy: 0.0860\n",
            "Epoch 6/35\n",
            "67/67 [==============================] - 2s 31ms/step - loss: 1.9442 - accuracy: 0.3836 - val_loss: 5.5258 - val_accuracy: 0.0960\n",
            "Epoch 7/35\n",
            "67/67 [==============================] - 2s 31ms/step - loss: 1.9046 - accuracy: 0.3989 - val_loss: 5.1867 - val_accuracy: 0.1100\n",
            "Epoch 8/35\n",
            "67/67 [==============================] - 2s 32ms/step - loss: 1.7955 - accuracy: 0.4318 - val_loss: 3.4289 - val_accuracy: 0.1580\n",
            "Epoch 9/35\n",
            "67/67 [==============================] - 3s 38ms/step - loss: 1.7820 - accuracy: 0.4329 - val_loss: 4.2273 - val_accuracy: 0.1040\n",
            "Epoch 10/35\n",
            "67/67 [==============================] - 2s 32ms/step - loss: 1.7151 - accuracy: 0.4559 - val_loss: 3.6462 - val_accuracy: 0.1747\n",
            "Epoch 11/35\n",
            "67/67 [==============================] - 2s 32ms/step - loss: 1.6444 - accuracy: 0.4759 - val_loss: 3.2643 - val_accuracy: 0.1607\n",
            "Epoch 12/35\n",
            "67/67 [==============================] - 2s 32ms/step - loss: 1.6253 - accuracy: 0.4801 - val_loss: 5.2003 - val_accuracy: 0.1420\n",
            "Epoch 13/35\n",
            "67/67 [==============================] - 2s 32ms/step - loss: 1.5694 - accuracy: 0.4980 - val_loss: 9.1858 - val_accuracy: 0.0620\n",
            "Epoch 14/35\n",
            "67/67 [==============================] - 3s 40ms/step - loss: 1.4818 - accuracy: 0.5274 - val_loss: 5.1445 - val_accuracy: 0.1433\n",
            "Epoch 15/35\n",
            "67/67 [==============================] - 2s 30ms/step - loss: 1.4248 - accuracy: 0.5440 - val_loss: 3.6672 - val_accuracy: 0.1693\n",
            "Epoch 16/35\n",
            "67/67 [==============================] - 2s 31ms/step - loss: 1.3599 - accuracy: 0.5582 - val_loss: 4.4048 - val_accuracy: 0.1400\n",
            "Epoch 17/35\n",
            "67/67 [==============================] - 2s 32ms/step - loss: 1.3425 - accuracy: 0.5686 - val_loss: 4.7407 - val_accuracy: 0.1773\n",
            "Epoch 18/35\n",
            "67/67 [==============================] - 2s 31ms/step - loss: 1.2618 - accuracy: 0.5960 - val_loss: 4.0100 - val_accuracy: 0.2087\n",
            "Epoch 19/35\n",
            "67/67 [==============================] - 2s 35ms/step - loss: 1.2109 - accuracy: 0.6104 - val_loss: 4.1425 - val_accuracy: 0.1873\n",
            "Epoch 20/35\n",
            "67/67 [==============================] - 2s 34ms/step - loss: 1.1423 - accuracy: 0.6312 - val_loss: 4.3173 - val_accuracy: 0.1467\n",
            "Epoch 21/35\n",
            "67/67 [==============================] - 2s 31ms/step - loss: 1.0826 - accuracy: 0.6524 - val_loss: 5.9810 - val_accuracy: 0.1400\n",
            "Epoch 22/35\n",
            "67/67 [==============================] - 2s 32ms/step - loss: 1.0437 - accuracy: 0.6709 - val_loss: 4.0164 - val_accuracy: 0.2247\n",
            "Epoch 23/35\n",
            "67/67 [==============================] - 2s 33ms/step - loss: 1.0204 - accuracy: 0.6729 - val_loss: 4.4353 - val_accuracy: 0.1993\n",
            "Epoch 24/35\n",
            "67/67 [==============================] - 2s 33ms/step - loss: 0.9675 - accuracy: 0.6905 - val_loss: 4.1391 - val_accuracy: 0.2213\n",
            "Epoch 25/35\n",
            "67/67 [==============================] - 3s 38ms/step - loss: 0.9065 - accuracy: 0.7112 - val_loss: 5.2897 - val_accuracy: 0.1920\n",
            "Epoch 26/35\n",
            "67/67 [==============================] - 2s 31ms/step - loss: 0.8793 - accuracy: 0.7173 - val_loss: 8.0970 - val_accuracy: 0.0827\n",
            "Epoch 27/35\n",
            "67/67 [==============================] - 2s 31ms/step - loss: 0.8626 - accuracy: 0.7240 - val_loss: 6.2135 - val_accuracy: 0.1867\n"
          ]
        }
      ]
    },
    {
      "cell_type": "markdown",
      "metadata": {
        "id": "Ro3SlT4NEgfp"
      },
      "source": [
        "###### Βήμα 3"
      ]
    },
    {
      "cell_type": "code",
      "source": [
        "\n",
        "# Define the variable names\n",
        "variables = [MyCNN_history_testing_transfer_learning_1, MyCNN_history_testing_transfer_learning_2,\n",
        "             MyCNN_history_testing_transfer_learning_3, MyCNN_history_testing_transfer_learning_4]\n",
        "\n",
        "# Create a 3x3 grid of subplots\n",
        "fig, axes = plt.subplots(2, 2, figsize=(8, 8))\n",
        "\n",
        "# Iterate over the variables and plot them in the subplots\n",
        "for i in range(4):\n",
        "    # Determine the subplot position\n",
        "    row = i // 2\n",
        "    col = i % 2\n",
        "    \n",
        "    # Select the subplot\n",
        "    plt.subplot(2, 2, i+1)\n",
        "    \n",
        "    # Plot accuracy and validation accuracy\n",
        "    plt.plot(variables[i].history['accuracy'], label='accuracy')\n",
        "    plt.plot(variables[i].history['val_accuracy'], label='val_accuracy')\n",
        "    \n",
        "    # Set labels and limits\n",
        "    plt.xlabel('Epoch')\n",
        "    plt.ylabel('Accuracy')\n",
        "    plt.ylim([0, 1])\n",
        "    plt.xlim([0,28])\n",
        "    \n",
        "    # Add a legend\n",
        "    plt.legend(loc='lower right')\n",
        "    \n",
        "    # Add a title\n",
        "    plt.title('MyCNN_history_testing_' + str(i+1))\n",
        "\n",
        "# Adjust spacing between subplots\n",
        "plt.tight_layout()\n",
        "\n",
        "# Display the grid of plots\n",
        "plt.show()\n",
        "\n",
        "# Evaluate MyCNN_model_testing on the test set\n",
        "MyCNN_test_loss_testing, MyCNN_test_acc_testing = MyCNN_with_transfer_learning_VGG2.evaluate(x_test, y_test_to20, verbose=2)\n",
        "MyCNN_test_loss_testing, MyCNN_test_acc_testing = MyCNN_with_transfer_learning_EfficientNet2.evaluate(x_test, y_test_to20, verbose=2)\n",
        "MyCNN_test_loss_testing, MyCNN_test_acc_testing = MyCNN_with_transfer_learning_VGG3.evaluate(x_test, y_test_to20, verbose=2)\n",
        "MyCNN_test_loss_testing, MyCNN_test_acc_testing = MyCNN_with_transfer_learning_EfficientNet3.evaluate(x_test, y_test_to20, verbose=2)"
      ],
      "metadata": {
        "colab": {
          "base_uri": "https://localhost:8080/"
        },
        "id": "Wesb73BgPuZu",
        "outputId": "9bf0ebdc-e83e-49e5-92cd-9d68d8ee3090"
      },
      "execution_count": null,
      "outputs": [
        {
          "output_type": "display_data",
          "data": {
            "text/plain": [
              "<Figure size 800x800 with 4 Axes>"
            ],
            "image/png": "[encoded data removed]"
          },
          "metadata": {}
        },
        {
          "output_type": "stream",
          "name": "stdout",
          "text": [
            "63/63 - 1s - loss: 1.3470 - accuracy: 0.5800 - 905ms/epoch - 14ms/step\n",
            "63/63 - 1s - loss: 2.9957 - accuracy: 0.0500 - 1s/epoch - 22ms/step\n",
            "63/63 - 1s - loss: 2.9958 - accuracy: 0.0500 - 580ms/epoch - 9ms/step\n",
            "63/63 - 0s - loss: 6.5924 - accuracy: 0.1785 - 479ms/epoch - 8ms/step\n"
          ]
        }
      ]
    },
    {
      "cell_type": "markdown",
      "metadata": {
        "id": "mdyVdTMRUzkv"
      },
      "source": [
        "We observe that with all flags=True , VGG19 has better accuracy than EfficientNetB0. EfficientNet almost seams to struggle at this stage and barely reaches 2 epochs. On the other hand when replacing a random number of flags in both VGG19 and EfficientNet, EfficientNet seems to accomplish a better efficiency than VGG. This of course is dependent on the flags that are being used and an even greater accuracy is most likely available with the right flags."
      ]
    }
  ]
}